{
 "cells": [
  {
   "cell_type": "markdown",
   "metadata": {},
   "source": [
    "# Regression Problem - Determine Z-score"
   ]
  },
  {
   "cell_type": "code",
   "execution_count": 66,
   "metadata": {},
   "outputs": [],
   "source": [
    "import pandas as pd\n",
    "import seaborn as sns\n",
    "import numpy as np\n",
    "from sklearn.linear_model import LogisticRegression\n",
    "from sklearn.svm import SVC, LinearSVC\n",
    "from sklearn.neighbors import KNeighborsClassifier as KNN\n",
    "from sklearn.tree import DecisionTreeClassifier\n",
    "from sklearn.ensemble import RandomForestClassifier\n",
    "from sklearn.naive_bayes import GaussianNB\n",
    "from sklearn.linear_model import Perceptron\n",
    "from sklearn.linear_model import SGDClassifier\n",
    "from sklearn.ensemble import GradientBoostingClassifier\n",
    "from sklearn import metrics\n",
    "from sklearn.ensemble import VotingClassifier\n",
    "import matplotlib as plt\n",
    "from sklearn.metrics import accuracy_score\n",
    "from sklearn.metrics import f1_score\n",
    "from sklearn.model_selection import cross_val_score\n",
    "from sklearn.metrics import mean_squared_error as MSE\n",
    "import sklearn.model_selection as cv\n",
    "from sklearn.tree import DecisionTreeRegressor\n",
    "from sklearn.ensemble import BaggingClassifier\n",
    "from sklearn.linear_model import LinearRegression\n",
    "from sklearn.metrics import mean_squared_error as MSE\n",
    "from sklearn.metrics import mean_squared_error as MSE\n",
    "from imblearn.over_sampling import SMOTE"
   ]
  },
  {
   "cell_type": "code",
   "execution_count": 2,
   "metadata": {},
   "outputs": [],
   "source": [
    "data=pd.read_csv(\"final_merged_data.csv\")"
   ]
  },
  {
   "cell_type": "code",
   "execution_count": 3,
   "metadata": {},
   "outputs": [],
   "source": [
    "data.drop(['Unnamed: 0'],axis=1,inplace=True)"
   ]
  },
  {
   "cell_type": "code",
   "execution_count": 4,
   "metadata": {},
   "outputs": [],
   "source": [
    "data.drop(['For Year'],axis=1,inplace=True)"
   ]
  },
  {
   "cell_type": "code",
   "execution_count": 5,
   "metadata": {},
   "outputs": [
    {
     "data": {
      "text/html": [
       "<div>\n",
       "<style scoped>\n",
       "    .dataframe tbody tr th:only-of-type {\n",
       "        vertical-align: middle;\n",
       "    }\n",
       "\n",
       "    .dataframe tbody tr th {\n",
       "        vertical-align: top;\n",
       "    }\n",
       "\n",
       "    .dataframe thead th {\n",
       "        text-align: right;\n",
       "    }\n",
       "</style>\n",
       "<table border=\"1\" class=\"dataframe\">\n",
       "  <thead>\n",
       "    <tr style=\"text-align: right;\">\n",
       "      <th></th>\n",
       "      <th>symbol</th>\n",
       "      <th>date</th>\n",
       "      <th>Accounts Payable</th>\n",
       "      <th>Accounts Receivable</th>\n",
       "      <th>Add'l income/expense items</th>\n",
       "      <th>After Tax ROE</th>\n",
       "      <th>Capital Expenditures</th>\n",
       "      <th>Capital Surplus</th>\n",
       "      <th>Cash Ratio</th>\n",
       "      <th>Cash and Cash Equivalents</th>\n",
       "      <th>...</th>\n",
       "      <th>Estimated Shares Outstanding</th>\n",
       "      <th>open</th>\n",
       "      <th>close</th>\n",
       "      <th>low</th>\n",
       "      <th>high</th>\n",
       "      <th>volume</th>\n",
       "      <th>GICS Sector</th>\n",
       "      <th>GICS Sub Industry</th>\n",
       "      <th>PE</th>\n",
       "      <th>trend</th>\n",
       "    </tr>\n",
       "  </thead>\n",
       "  <tbody>\n",
       "    <tr>\n",
       "      <th>0</th>\n",
       "      <td>AAL</td>\n",
       "      <td>2012-12-31</td>\n",
       "      <td>3.068000e+09</td>\n",
       "      <td>-222000000.0</td>\n",
       "      <td>-1.961000e+09</td>\n",
       "      <td>23.0</td>\n",
       "      <td>-1.888000e+09</td>\n",
       "      <td>4.695000e+09</td>\n",
       "      <td>53.0</td>\n",
       "      <td>1.330000e+09</td>\n",
       "      <td>...</td>\n",
       "      <td>3.350000e+08</td>\n",
       "      <td>12.850000</td>\n",
       "      <td>13.500000</td>\n",
       "      <td>12.840000</td>\n",
       "      <td>13.680000</td>\n",
       "      <td>7005600.0</td>\n",
       "      <td>5</td>\n",
       "      <td>4</td>\n",
       "      <td>-2.410714</td>\n",
       "      <td>0.0</td>\n",
       "    </tr>\n",
       "    <tr>\n",
       "      <th>1</th>\n",
       "      <td>AAL</td>\n",
       "      <td>2013-12-31</td>\n",
       "      <td>4.975000e+09</td>\n",
       "      <td>-93000000.0</td>\n",
       "      <td>-2.723000e+09</td>\n",
       "      <td>67.0</td>\n",
       "      <td>-3.114000e+09</td>\n",
       "      <td>1.059200e+10</td>\n",
       "      <td>75.0</td>\n",
       "      <td>2.175000e+09</td>\n",
       "      <td>...</td>\n",
       "      <td>1.630222e+08</td>\n",
       "      <td>24.740000</td>\n",
       "      <td>25.250000</td>\n",
       "      <td>24.629999</td>\n",
       "      <td>25.250000</td>\n",
       "      <td>7166600.0</td>\n",
       "      <td>5</td>\n",
       "      <td>4</td>\n",
       "      <td>-2.244444</td>\n",
       "      <td>0.0</td>\n",
       "    </tr>\n",
       "    <tr>\n",
       "      <th>2</th>\n",
       "      <td>AAL</td>\n",
       "      <td>2014-12-31</td>\n",
       "      <td>4.668000e+09</td>\n",
       "      <td>-160000000.0</td>\n",
       "      <td>-1.500000e+08</td>\n",
       "      <td>143.0</td>\n",
       "      <td>-5.311000e+09</td>\n",
       "      <td>1.513500e+10</td>\n",
       "      <td>60.0</td>\n",
       "      <td>1.768000e+09</td>\n",
       "      <td>...</td>\n",
       "      <td>7.169154e+08</td>\n",
       "      <td>53.900002</td>\n",
       "      <td>53.630001</td>\n",
       "      <td>53.320000</td>\n",
       "      <td>54.639999</td>\n",
       "      <td>10626000.0</td>\n",
       "      <td>5</td>\n",
       "      <td>4</td>\n",
       "      <td>13.340796</td>\n",
       "      <td>1.0</td>\n",
       "    </tr>\n",
       "    <tr>\n",
       "      <th>3</th>\n",
       "      <td>AAL</td>\n",
       "      <td>2015-12-31</td>\n",
       "      <td>5.102000e+09</td>\n",
       "      <td>352000000.0</td>\n",
       "      <td>-7.080000e+08</td>\n",
       "      <td>135.0</td>\n",
       "      <td>-6.151000e+09</td>\n",
       "      <td>1.159100e+10</td>\n",
       "      <td>51.0</td>\n",
       "      <td>1.085000e+09</td>\n",
       "      <td>...</td>\n",
       "      <td>6.681299e+08</td>\n",
       "      <td>42.540001</td>\n",
       "      <td>42.349998</td>\n",
       "      <td>41.830002</td>\n",
       "      <td>42.570000</td>\n",
       "      <td>6788900.0</td>\n",
       "      <td>5</td>\n",
       "      <td>4</td>\n",
       "      <td>3.718174</td>\n",
       "      <td>1.0</td>\n",
       "    </tr>\n",
       "    <tr>\n",
       "      <th>4</th>\n",
       "      <td>ABBV</td>\n",
       "      <td>2013-12-31</td>\n",
       "      <td>6.448000e+09</td>\n",
       "      <td>681000000.0</td>\n",
       "      <td>-5.400000e+07</td>\n",
       "      <td>92.0</td>\n",
       "      <td>-4.910000e+08</td>\n",
       "      <td>3.671000e+09</td>\n",
       "      <td>144.0</td>\n",
       "      <td>9.595000e+09</td>\n",
       "      <td>...</td>\n",
       "      <td>1.600000e+09</td>\n",
       "      <td>52.990002</td>\n",
       "      <td>52.810001</td>\n",
       "      <td>52.360001</td>\n",
       "      <td>53.060001</td>\n",
       "      <td>3019700.0</td>\n",
       "      <td>4</td>\n",
       "      <td>87</td>\n",
       "      <td>20.468993</td>\n",
       "      <td>1.0</td>\n",
       "    </tr>\n",
       "  </tbody>\n",
       "</table>\n",
       "<p>5 rows × 85 columns</p>\n",
       "</div>"
      ],
      "text/plain": [
       "  symbol        date  Accounts Payable  Accounts Receivable  \\\n",
       "0    AAL  2012-12-31      3.068000e+09         -222000000.0   \n",
       "1    AAL  2013-12-31      4.975000e+09          -93000000.0   \n",
       "2    AAL  2014-12-31      4.668000e+09         -160000000.0   \n",
       "3    AAL  2015-12-31      5.102000e+09          352000000.0   \n",
       "4   ABBV  2013-12-31      6.448000e+09          681000000.0   \n",
       "\n",
       "   Add'l income/expense items  After Tax ROE  Capital Expenditures  \\\n",
       "0               -1.961000e+09           23.0         -1.888000e+09   \n",
       "1               -2.723000e+09           67.0         -3.114000e+09   \n",
       "2               -1.500000e+08          143.0         -5.311000e+09   \n",
       "3               -7.080000e+08          135.0         -6.151000e+09   \n",
       "4               -5.400000e+07           92.0         -4.910000e+08   \n",
       "\n",
       "   Capital Surplus  Cash Ratio  Cash and Cash Equivalents  ...    \\\n",
       "0     4.695000e+09        53.0               1.330000e+09  ...     \n",
       "1     1.059200e+10        75.0               2.175000e+09  ...     \n",
       "2     1.513500e+10        60.0               1.768000e+09  ...     \n",
       "3     1.159100e+10        51.0               1.085000e+09  ...     \n",
       "4     3.671000e+09       144.0               9.595000e+09  ...     \n",
       "\n",
       "   Estimated Shares Outstanding       open      close        low       high  \\\n",
       "0                  3.350000e+08  12.850000  13.500000  12.840000  13.680000   \n",
       "1                  1.630222e+08  24.740000  25.250000  24.629999  25.250000   \n",
       "2                  7.169154e+08  53.900002  53.630001  53.320000  54.639999   \n",
       "3                  6.681299e+08  42.540001  42.349998  41.830002  42.570000   \n",
       "4                  1.600000e+09  52.990002  52.810001  52.360001  53.060001   \n",
       "\n",
       "       volume  GICS Sector  GICS Sub Industry         PE  trend  \n",
       "0   7005600.0            5                  4  -2.410714    0.0  \n",
       "1   7166600.0            5                  4  -2.244444    0.0  \n",
       "2  10626000.0            5                  4  13.340796    1.0  \n",
       "3   6788900.0            5                  4   3.718174    1.0  \n",
       "4   3019700.0            4                 87  20.468993    1.0  \n",
       "\n",
       "[5 rows x 85 columns]"
      ]
     },
     "execution_count": 5,
     "metadata": {},
     "output_type": "execute_result"
    }
   ],
   "source": [
    "data.head()"
   ]
  },
  {
   "cell_type": "markdown",
   "metadata": {},
   "source": [
    "#### calculating Altman's score:\n",
    "Z-Score =  1.2(A) + 1.4(B) + 3.3(C) + 0.6(D) + 1.0(E)\n",
    "\n",
    "Here is the link:https://www.investopedia.com/terms/a/altman.asp"
   ]
  },
  {
   "cell_type": "code",
   "execution_count": 6,
   "metadata": {},
   "outputs": [],
   "source": [
    "first=1.2*((data['Total Current Assets']-data['Total Current Liabilities'])/data['Total Assets'])"
   ]
  },
  {
   "cell_type": "code",
   "execution_count": 7,
   "metadata": {},
   "outputs": [],
   "source": [
    "second=1.4*((data['Retained Earnings'])/data['Total Assets'])"
   ]
  },
  {
   "cell_type": "code",
   "execution_count": 8,
   "metadata": {},
   "outputs": [],
   "source": [
    "third=3.3*((data['Earnings Before Interest and Tax']/data['Total Assets']))"
   ]
  },
  {
   "cell_type": "code",
   "execution_count": 9,
   "metadata": {},
   "outputs": [],
   "source": [
    "fourth=0.6*((data['Estimated Shares Outstanding']*data['close'])/data['Total Liabilities'])"
   ]
  },
  {
   "cell_type": "code",
   "execution_count": 10,
   "metadata": {},
   "outputs": [],
   "source": [
    "fifth = 1*((data['Total Revenue'])/data['Total Assets'])"
   ]
  },
  {
   "cell_type": "code",
   "execution_count": 11,
   "metadata": {},
   "outputs": [],
   "source": [
    "z_score=first+second+third+fourth+fifth"
   ]
  },
  {
   "cell_type": "code",
   "execution_count": 12,
   "metadata": {},
   "outputs": [],
   "source": [
    "data['z_score']=z_score"
   ]
  },
  {
   "cell_type": "code",
   "execution_count": 13,
   "metadata": {},
   "outputs": [],
   "source": [
    "data.drop(['trend'],axis=1,inplace=True)"
   ]
  },
  {
   "cell_type": "code",
   "execution_count": 14,
   "metadata": {},
   "outputs": [
    {
     "data": {
      "text/html": [
       "<div>\n",
       "<style scoped>\n",
       "    .dataframe tbody tr th:only-of-type {\n",
       "        vertical-align: middle;\n",
       "    }\n",
       "\n",
       "    .dataframe tbody tr th {\n",
       "        vertical-align: top;\n",
       "    }\n",
       "\n",
       "    .dataframe thead th {\n",
       "        text-align: right;\n",
       "    }\n",
       "</style>\n",
       "<table border=\"1\" class=\"dataframe\">\n",
       "  <thead>\n",
       "    <tr style=\"text-align: right;\">\n",
       "      <th></th>\n",
       "      <th>symbol</th>\n",
       "      <th>date</th>\n",
       "      <th>Accounts Payable</th>\n",
       "      <th>Accounts Receivable</th>\n",
       "      <th>Add'l income/expense items</th>\n",
       "      <th>After Tax ROE</th>\n",
       "      <th>Capital Expenditures</th>\n",
       "      <th>Capital Surplus</th>\n",
       "      <th>Cash Ratio</th>\n",
       "      <th>Cash and Cash Equivalents</th>\n",
       "      <th>...</th>\n",
       "      <th>Estimated Shares Outstanding</th>\n",
       "      <th>open</th>\n",
       "      <th>close</th>\n",
       "      <th>low</th>\n",
       "      <th>high</th>\n",
       "      <th>volume</th>\n",
       "      <th>GICS Sector</th>\n",
       "      <th>GICS Sub Industry</th>\n",
       "      <th>PE</th>\n",
       "      <th>z_score</th>\n",
       "    </tr>\n",
       "  </thead>\n",
       "  <tbody>\n",
       "    <tr>\n",
       "      <th>0</th>\n",
       "      <td>AAL</td>\n",
       "      <td>2012-12-31</td>\n",
       "      <td>3.068000e+09</td>\n",
       "      <td>-2.220000e+08</td>\n",
       "      <td>-1.961000e+09</td>\n",
       "      <td>23.0</td>\n",
       "      <td>-1.888000e+09</td>\n",
       "      <td>4.695000e+09</td>\n",
       "      <td>53.0</td>\n",
       "      <td>1.330000e+09</td>\n",
       "      <td>...</td>\n",
       "      <td>3.350000e+08</td>\n",
       "      <td>12.850000</td>\n",
       "      <td>13.500000</td>\n",
       "      <td>12.840000</td>\n",
       "      <td>13.680000</td>\n",
       "      <td>7005600.0</td>\n",
       "      <td>5</td>\n",
       "      <td>4</td>\n",
       "      <td>-2.410714</td>\n",
       "      <td>0.249317</td>\n",
       "    </tr>\n",
       "    <tr>\n",
       "      <th>1</th>\n",
       "      <td>AAL</td>\n",
       "      <td>2013-12-31</td>\n",
       "      <td>4.975000e+09</td>\n",
       "      <td>-9.300000e+07</td>\n",
       "      <td>-2.723000e+09</td>\n",
       "      <td>67.0</td>\n",
       "      <td>-3.114000e+09</td>\n",
       "      <td>1.059200e+10</td>\n",
       "      <td>75.0</td>\n",
       "      <td>2.175000e+09</td>\n",
       "      <td>...</td>\n",
       "      <td>1.630222e+08</td>\n",
       "      <td>24.740000</td>\n",
       "      <td>25.250000</td>\n",
       "      <td>24.629999</td>\n",
       "      <td>25.250000</td>\n",
       "      <td>7166600.0</td>\n",
       "      <td>5</td>\n",
       "      <td>4</td>\n",
       "      <td>-2.244444</td>\n",
       "      <td>0.224697</td>\n",
       "    </tr>\n",
       "    <tr>\n",
       "      <th>2</th>\n",
       "      <td>AAL</td>\n",
       "      <td>2014-12-31</td>\n",
       "      <td>4.668000e+09</td>\n",
       "      <td>-1.600000e+08</td>\n",
       "      <td>-1.500000e+08</td>\n",
       "      <td>143.0</td>\n",
       "      <td>-5.311000e+09</td>\n",
       "      <td>1.513500e+10</td>\n",
       "      <td>60.0</td>\n",
       "      <td>1.768000e+09</td>\n",
       "      <td>...</td>\n",
       "      <td>7.169154e+08</td>\n",
       "      <td>53.900002</td>\n",
       "      <td>53.630001</td>\n",
       "      <td>53.320000</td>\n",
       "      <td>54.639999</td>\n",
       "      <td>10626000.0</td>\n",
       "      <td>5</td>\n",
       "      <td>4</td>\n",
       "      <td>13.340796</td>\n",
       "      <td>1.536275</td>\n",
       "    </tr>\n",
       "    <tr>\n",
       "      <th>3</th>\n",
       "      <td>AAL</td>\n",
       "      <td>2015-12-31</td>\n",
       "      <td>5.102000e+09</td>\n",
       "      <td>3.520000e+08</td>\n",
       "      <td>-7.080000e+08</td>\n",
       "      <td>135.0</td>\n",
       "      <td>-6.151000e+09</td>\n",
       "      <td>1.159100e+10</td>\n",
       "      <td>51.0</td>\n",
       "      <td>1.085000e+09</td>\n",
       "      <td>...</td>\n",
       "      <td>6.681299e+08</td>\n",
       "      <td>42.540001</td>\n",
       "      <td>42.349998</td>\n",
       "      <td>41.830002</td>\n",
       "      <td>42.570000</td>\n",
       "      <td>6788900.0</td>\n",
       "      <td>5</td>\n",
       "      <td>4</td>\n",
       "      <td>3.718174</td>\n",
       "      <td>1.492806</td>\n",
       "    </tr>\n",
       "    <tr>\n",
       "      <th>4</th>\n",
       "      <td>ABBV</td>\n",
       "      <td>2013-12-31</td>\n",
       "      <td>6.448000e+09</td>\n",
       "      <td>6.810000e+08</td>\n",
       "      <td>-5.400000e+07</td>\n",
       "      <td>92.0</td>\n",
       "      <td>-4.910000e+08</td>\n",
       "      <td>3.671000e+09</td>\n",
       "      <td>144.0</td>\n",
       "      <td>9.595000e+09</td>\n",
       "      <td>...</td>\n",
       "      <td>1.600000e+09</td>\n",
       "      <td>52.990002</td>\n",
       "      <td>52.810001</td>\n",
       "      <td>52.360001</td>\n",
       "      <td>53.060001</td>\n",
       "      <td>3019700.0</td>\n",
       "      <td>4</td>\n",
       "      <td>87</td>\n",
       "      <td>20.468993</td>\n",
       "      <td>3.855570</td>\n",
       "    </tr>\n",
       "    <tr>\n",
       "      <th>5</th>\n",
       "      <td>ABBV</td>\n",
       "      <td>2014-12-31</td>\n",
       "      <td>6.954000e+09</td>\n",
       "      <td>-1.720000e+08</td>\n",
       "      <td>-6.510000e+08</td>\n",
       "      <td>102.0</td>\n",
       "      <td>-6.120000e+08</td>\n",
       "      <td>4.194000e+09</td>\n",
       "      <td>74.0</td>\n",
       "      <td>8.348000e+09</td>\n",
       "      <td>...</td>\n",
       "      <td>1.598198e+09</td>\n",
       "      <td>66.720001</td>\n",
       "      <td>65.440002</td>\n",
       "      <td>65.349998</td>\n",
       "      <td>67.099998</td>\n",
       "      <td>3917300.0</td>\n",
       "      <td>4</td>\n",
       "      <td>87</td>\n",
       "      <td>58.954957</td>\n",
       "      <td>3.723185</td>\n",
       "    </tr>\n",
       "    <tr>\n",
       "      <th>6</th>\n",
       "      <td>ABBV</td>\n",
       "      <td>2015-12-31</td>\n",
       "      <td>8.463000e+09</td>\n",
       "      <td>-1.076000e+09</td>\n",
       "      <td>-2.060000e+08</td>\n",
       "      <td>130.0</td>\n",
       "      <td>-5.320000e+08</td>\n",
       "      <td>1.308000e+10</td>\n",
       "      <td>77.0</td>\n",
       "      <td>8.399000e+09</td>\n",
       "      <td>...</td>\n",
       "      <td>1.633016e+09</td>\n",
       "      <td>59.500000</td>\n",
       "      <td>59.240002</td>\n",
       "      <td>59.200001</td>\n",
       "      <td>59.930000</td>\n",
       "      <td>6019300.0</td>\n",
       "      <td>4</td>\n",
       "      <td>87</td>\n",
       "      <td>18.806350</td>\n",
       "      <td>2.250887</td>\n",
       "    </tr>\n",
       "    <tr>\n",
       "      <th>7</th>\n",
       "      <td>ABC</td>\n",
       "      <td>2013-09-30</td>\n",
       "      <td>1.487064e+10</td>\n",
       "      <td>-2.312518e+09</td>\n",
       "      <td>-4.400000e+04</td>\n",
       "      <td>19.0</td>\n",
       "      <td>-2.024500e+08</td>\n",
       "      <td>2.360992e+09</td>\n",
       "      <td>8.0</td>\n",
       "      <td>1.231006e+09</td>\n",
       "      <td>...</td>\n",
       "      <td>2.306952e+08</td>\n",
       "      <td>60.900002</td>\n",
       "      <td>61.099998</td>\n",
       "      <td>60.689999</td>\n",
       "      <td>61.270000</td>\n",
       "      <td>1040200.0</td>\n",
       "      <td>4</td>\n",
       "      <td>44</td>\n",
       "      <td>32.499999</td>\n",
       "      <td>5.396919</td>\n",
       "    </tr>\n",
       "    <tr>\n",
       "      <th>8</th>\n",
       "      <td>ABC</td>\n",
       "      <td>2014-09-30</td>\n",
       "      <td>1.725016e+10</td>\n",
       "      <td>-9.382860e+08</td>\n",
       "      <td>-2.859400e+07</td>\n",
       "      <td>14.0</td>\n",
       "      <td>-2.644570e+08</td>\n",
       "      <td>2.749185e+09</td>\n",
       "      <td>10.0</td>\n",
       "      <td>1.808513e+09</td>\n",
       "      <td>...</td>\n",
       "      <td>2.247787e+08</td>\n",
       "      <td>77.650002</td>\n",
       "      <td>77.300003</td>\n",
       "      <td>77.190002</td>\n",
       "      <td>78.019997</td>\n",
       "      <td>1373500.0</td>\n",
       "      <td>4</td>\n",
       "      <td>44</td>\n",
       "      <td>63.360658</td>\n",
       "      <td>6.278125</td>\n",
       "    </tr>\n",
       "    <tr>\n",
       "      <th>9</th>\n",
       "      <td>ABC</td>\n",
       "      <td>2015-09-30</td>\n",
       "      <td>2.157823e+10</td>\n",
       "      <td>-1.478793e+09</td>\n",
       "      <td>-4.422000e+07</td>\n",
       "      <td>22.0</td>\n",
       "      <td>-2.315850e+08</td>\n",
       "      <td>3.736477e+09</td>\n",
       "      <td>10.0</td>\n",
       "      <td>2.167442e+09</td>\n",
       "      <td>...</td>\n",
       "      <td>2.228468e+08</td>\n",
       "      <td>96.080002</td>\n",
       "      <td>94.989998</td>\n",
       "      <td>94.070000</td>\n",
       "      <td>96.680000</td>\n",
       "      <td>2381200.0</td>\n",
       "      <td>4</td>\n",
       "      <td>44</td>\n",
       "      <td>-153.209674</td>\n",
       "      <td>5.376186</td>\n",
       "    </tr>\n",
       "  </tbody>\n",
       "</table>\n",
       "<p>10 rows × 85 columns</p>\n",
       "</div>"
      ],
      "text/plain": [
       "  symbol        date  Accounts Payable  Accounts Receivable  \\\n",
       "0    AAL  2012-12-31      3.068000e+09        -2.220000e+08   \n",
       "1    AAL  2013-12-31      4.975000e+09        -9.300000e+07   \n",
       "2    AAL  2014-12-31      4.668000e+09        -1.600000e+08   \n",
       "3    AAL  2015-12-31      5.102000e+09         3.520000e+08   \n",
       "4   ABBV  2013-12-31      6.448000e+09         6.810000e+08   \n",
       "5   ABBV  2014-12-31      6.954000e+09        -1.720000e+08   \n",
       "6   ABBV  2015-12-31      8.463000e+09        -1.076000e+09   \n",
       "7    ABC  2013-09-30      1.487064e+10        -2.312518e+09   \n",
       "8    ABC  2014-09-30      1.725016e+10        -9.382860e+08   \n",
       "9    ABC  2015-09-30      2.157823e+10        -1.478793e+09   \n",
       "\n",
       "   Add'l income/expense items  After Tax ROE  Capital Expenditures  \\\n",
       "0               -1.961000e+09           23.0         -1.888000e+09   \n",
       "1               -2.723000e+09           67.0         -3.114000e+09   \n",
       "2               -1.500000e+08          143.0         -5.311000e+09   \n",
       "3               -7.080000e+08          135.0         -6.151000e+09   \n",
       "4               -5.400000e+07           92.0         -4.910000e+08   \n",
       "5               -6.510000e+08          102.0         -6.120000e+08   \n",
       "6               -2.060000e+08          130.0         -5.320000e+08   \n",
       "7               -4.400000e+04           19.0         -2.024500e+08   \n",
       "8               -2.859400e+07           14.0         -2.644570e+08   \n",
       "9               -4.422000e+07           22.0         -2.315850e+08   \n",
       "\n",
       "   Capital Surplus  Cash Ratio  Cash and Cash Equivalents    ...     \\\n",
       "0     4.695000e+09        53.0               1.330000e+09    ...      \n",
       "1     1.059200e+10        75.0               2.175000e+09    ...      \n",
       "2     1.513500e+10        60.0               1.768000e+09    ...      \n",
       "3     1.159100e+10        51.0               1.085000e+09    ...      \n",
       "4     3.671000e+09       144.0               9.595000e+09    ...      \n",
       "5     4.194000e+09        74.0               8.348000e+09    ...      \n",
       "6     1.308000e+10        77.0               8.399000e+09    ...      \n",
       "7     2.360992e+09         8.0               1.231006e+09    ...      \n",
       "8     2.749185e+09        10.0               1.808513e+09    ...      \n",
       "9     3.736477e+09        10.0               2.167442e+09    ...      \n",
       "\n",
       "   Estimated Shares Outstanding       open      close        low       high  \\\n",
       "0                  3.350000e+08  12.850000  13.500000  12.840000  13.680000   \n",
       "1                  1.630222e+08  24.740000  25.250000  24.629999  25.250000   \n",
       "2                  7.169154e+08  53.900002  53.630001  53.320000  54.639999   \n",
       "3                  6.681299e+08  42.540001  42.349998  41.830002  42.570000   \n",
       "4                  1.600000e+09  52.990002  52.810001  52.360001  53.060001   \n",
       "5                  1.598198e+09  66.720001  65.440002  65.349998  67.099998   \n",
       "6                  1.633016e+09  59.500000  59.240002  59.200001  59.930000   \n",
       "7                  2.306952e+08  60.900002  61.099998  60.689999  61.270000   \n",
       "8                  2.247787e+08  77.650002  77.300003  77.190002  78.019997   \n",
       "9                  2.228468e+08  96.080002  94.989998  94.070000  96.680000   \n",
       "\n",
       "       volume  GICS Sector  GICS Sub Industry          PE   z_score  \n",
       "0   7005600.0            5                  4   -2.410714  0.249317  \n",
       "1   7166600.0            5                  4   -2.244444  0.224697  \n",
       "2  10626000.0            5                  4   13.340796  1.536275  \n",
       "3   6788900.0            5                  4    3.718174  1.492806  \n",
       "4   3019700.0            4                 87   20.468993  3.855570  \n",
       "5   3917300.0            4                 87   58.954957  3.723185  \n",
       "6   6019300.0            4                 87   18.806350  2.250887  \n",
       "7   1040200.0            4                 44   32.499999  5.396919  \n",
       "8   1373500.0            4                 44   63.360658  6.278125  \n",
       "9   2381200.0            4                 44 -153.209674  5.376186  \n",
       "\n",
       "[10 rows x 85 columns]"
      ]
     },
     "execution_count": 14,
     "metadata": {},
     "output_type": "execute_result"
    }
   ],
   "source": [
    "data.head(10)"
   ]
  },
  {
   "cell_type": "markdown",
   "metadata": {},
   "source": [
    "### Run Random Forest "
   ]
  },
  {
   "cell_type": "code",
   "execution_count": 15,
   "metadata": {},
   "outputs": [],
   "source": [
    "x=data.iloc[:,2:84]\n",
    "y=data.z_score"
   ]
  },
  {
   "cell_type": "code",
   "execution_count": 16,
   "metadata": {},
   "outputs": [],
   "source": [
    "SEED=1\n",
    "from sklearn.model_selection import train_test_split\n",
    "(x_train, x_test, y_train, y_test) = cv.train_test_split(x, y, test_size=.25)"
   ]
  },
  {
   "cell_type": "code",
   "execution_count": 17,
   "metadata": {},
   "outputs": [
    {
     "name": "stdout",
     "output_type": "stream",
     "text": [
      "Test set RMSE of rf: 2.26\n",
      "CV RMSE: 2.20\n",
      "Train set RMSE of rf: 1.70\n"
     ]
    }
   ],
   "source": [
    "# Basic imports\n",
    "from sklearn.ensemble import RandomForestRegressor\n",
    "from sklearn.model_selection import train_test_split\n",
    "from sklearn.metrics import mean_squared_error as MSE\n",
    "# Set seed for reproducibility\n",
    "SEED = 1\n",
    "\n",
    "rf = RandomForestRegressor(n_estimators=500,\n",
    "min_samples_leaf=10,\n",
    "random_state=SEED)\n",
    "# Fit 'rf' to the training set\n",
    "rf.fit(x_train, y_train)\n",
    "\n",
    "y_pred = rf.predict(x_test)\n",
    "y_pred_train=rf.predict(x_train)\n",
    "\n",
    "rmse_test = MSE(y_test, y_pred)**(1/2)\n",
    "\n",
    "print('Test set RMSE of rf: {:.2f}'.format(rmse_test))\n",
    "\n",
    "\n",
    "# Compute the array containing the 10-folds CV MSEs\n",
    "MSE_CV_scores = - cross_val_score(rf, x_train, y_train, cv=10, \n",
    "                                  scoring='neg_mean_squared_error', \n",
    "                                  n_jobs=-1) \n",
    "\n",
    "\n",
    "RMSE_CV = (MSE_CV_scores.mean())**(1/2)\n",
    "\n",
    "# Print RMSE_CV\n",
    "print('CV RMSE: {:.2f}'.format(RMSE_CV))\n",
    "\n",
    "rmse_train = MSE(y_train, y_pred_train)**(1/2)\n",
    "# Print the test set RMSE\n",
    "\n",
    "print('Train set RMSE of rf: {:.2f}'.format(rmse_train))"
   ]
  },
  {
   "cell_type": "code",
   "execution_count": 18,
   "metadata": {},
   "outputs": [
    {
     "data": {
      "text/plain": [
       "0.5000000000000002"
      ]
     },
     "execution_count": 18,
     "metadata": {},
     "output_type": "execute_result"
    }
   ],
   "source": [
    "2.20-1.70"
   ]
  },
  {
   "cell_type": "markdown",
   "metadata": {},
   "source": [
    "### Model is Overfitting(CV RMSE>TRAIN RMSE) - generate more data and adjust complexity to reduce the overfitness"
   ]
  },
  {
   "cell_type": "markdown",
   "metadata": {},
   "source": [
    "## Generate More Training Data using KDE"
   ]
  },
  {
   "cell_type": "code",
   "execution_count": 19,
   "metadata": {},
   "outputs": [],
   "source": [
    "train_data=x_train.copy()"
   ]
  },
  {
   "cell_type": "code",
   "execution_count": 20,
   "metadata": {},
   "outputs": [],
   "source": [
    "train_data['z_score']=y_train"
   ]
  },
  {
   "cell_type": "code",
   "execution_count": 21,
   "metadata": {},
   "outputs": [],
   "source": [
    "from sklearn.neighbors import KernelDensity\n",
    "#data_k.drop(['symbol', 'date'],axis=1,inplace=True)"
   ]
  },
  {
   "cell_type": "code",
   "execution_count": 22,
   "metadata": {},
   "outputs": [],
   "source": [
    "kde = KernelDensity(kernel='gaussian')\n",
    "kde.fit(train_data)\n",
    "new_data = kde.sample(500, random_state=0)\n",
    "new_data=pd.DataFrame(new_data, columns=train_data.columns)\n",
    "data_app=train_data.append(new_data,ignore_index=True)"
   ]
  },
  {
   "cell_type": "code",
   "execution_count": 23,
   "metadata": {},
   "outputs": [],
   "source": [
    "x_train=data_app.iloc[:,0:82]\n",
    "y_train=data_app.z_score"
   ]
  },
  {
   "cell_type": "markdown",
   "metadata": {},
   "source": [
    "### Now that we have more training data - Try Running Random Forest by adjusting complexity."
   ]
  },
  {
   "cell_type": "code",
   "execution_count": 24,
   "metadata": {},
   "outputs": [
    {
     "name": "stdout",
     "output_type": "stream",
     "text": [
      "Test set RMSE of rf: 2.29\n",
      "CV RMSE: 1.88\n",
      "Train set RMSE of rf: 1.43\n"
     ]
    }
   ],
   "source": [
    "# Basic imports\n",
    "from sklearn.ensemble import RandomForestRegressor\n",
    "from sklearn.model_selection import train_test_split\n",
    "from sklearn.metrics import mean_squared_error as MSE\n",
    "# Set seed for reproducibility\n",
    "SEED = 1\n",
    "\n",
    "rf = RandomForestRegressor(n_estimators=500,\n",
    "min_samples_leaf=10,\n",
    "random_state=SEED)\n",
    "# Fit 'rf' to the training set\n",
    "rf.fit(x_train, y_train)\n",
    "\n",
    "y_pred = rf.predict(x_test)\n",
    "y_pred_train=rf.predict(x_train)\n",
    "\n",
    "rmse_test = MSE(y_test, y_pred)**(1/2)\n",
    "\n",
    "print('Test set RMSE of rf: {:.2f}'.format(rmse_test))\n",
    "\n",
    "\n",
    "# Compute the array containing the 10-folds CV MSEs\n",
    "MSE_CV_scores = - cross_val_score(rf, x_train, y_train, cv=10, \n",
    "                                  scoring='neg_mean_squared_error', \n",
    "                                  n_jobs=-1) \n",
    "\n",
    "\n",
    "RMSE_CV = (MSE_CV_scores.mean())**(1/2)\n",
    "\n",
    "# Print RMSE_CV\n",
    "print('CV RMSE: {:.2f}'.format(RMSE_CV))\n",
    "\n",
    "rmse_train = MSE(y_train, y_pred_train)**(1/2)\n",
    "# Print the test set RMSE\n",
    "\n",
    "print('Train set RMSE of rf: {:.2f}'.format(rmse_train))"
   ]
  },
  {
   "cell_type": "code",
   "execution_count": 25,
   "metadata": {},
   "outputs": [
    {
     "data": {
      "text/plain": [
       "0.44999999999999996"
      ]
     },
     "execution_count": 25,
     "metadata": {},
     "output_type": "execute_result"
    }
   ],
   "source": [
    "1.88-1.43"
   ]
  },
  {
   "cell_type": "markdown",
   "metadata": {},
   "source": [
    "### Just by adding more data, overfitting has reduced a little. Lets try to adjust complexity now(decrease complexity)"
   ]
  },
  {
   "cell_type": "code",
   "execution_count": 26,
   "metadata": {},
   "outputs": [
    {
     "name": "stdout",
     "output_type": "stream",
     "text": [
      "Test set RMSE of rf: 2.39\n",
      "CV RMSE: 2.21\n",
      "Train set RMSE of rf: 1.93\n"
     ]
    }
   ],
   "source": [
    "# Basic imports\n",
    "from sklearn.ensemble import RandomForestRegressor\n",
    "from sklearn.model_selection import train_test_split\n",
    "from sklearn.metrics import mean_squared_error as MSE\n",
    "# Set seed for reproducibility\n",
    "SEED = 1\n",
    "\n",
    "rf = RandomForestRegressor(n_estimators=500,\n",
    "min_samples_leaf=20,\n",
    "random_state=SEED)\n",
    "# Fit 'rf' to the training set\n",
    "rf.fit(x_train, y_train)\n",
    "\n",
    "y_pred = rf.predict(x_test)\n",
    "y_pred_train=rf.predict(x_train)\n",
    "\n",
    "rmse_test = MSE(y_test, y_pred)**(1/2)\n",
    "\n",
    "print('Test set RMSE of rf: {:.2f}'.format(rmse_test))\n",
    "\n",
    "\n",
    "# Compute the array containing the 10-folds CV MSEs\n",
    "MSE_CV_scores = - cross_val_score(rf, x_train, y_train, cv=10, \n",
    "                                  scoring='neg_mean_squared_error', \n",
    "                                  n_jobs=-1) \n",
    "\n",
    "\n",
    "rf_RMSE_CV = (MSE_CV_scores.mean())**(1/2)\n",
    "\n",
    "# Print RMSE_CV\n",
    "print('CV RMSE: {:.2f}'.format(rf_RMSE_CV))\n",
    "\n",
    "rmse_train = MSE(y_train, y_pred_train)**(1/2)\n",
    "# Print the test set RMSE\n",
    "\n",
    "print('Train set RMSE of rf: {:.2f}'.format(rmse_train))"
   ]
  },
  {
   "cell_type": "code",
   "execution_count": 27,
   "metadata": {},
   "outputs": [
    {
     "data": {
      "text/plain": [
       "0.28"
      ]
     },
     "execution_count": 27,
     "metadata": {},
     "output_type": "execute_result"
    }
   ],
   "source": [
    "2.21-1.93"
   ]
  },
  {
   "cell_type": "code",
   "execution_count": 28,
   "metadata": {},
   "outputs": [
    {
     "name": "stdout",
     "output_type": "stream",
     "text": [
      "Test set RMSE of rf: 2.52\n",
      "CV RMSE: 2.42\n",
      "Train set RMSE of rf: 2.20\n"
     ]
    }
   ],
   "source": [
    "# Basic imports\n",
    "from sklearn.ensemble import RandomForestRegressor\n",
    "from sklearn.model_selection import train_test_split\n",
    "from sklearn.metrics import mean_squared_error as MSE\n",
    "# Set seed for reproducibility\n",
    "SEED = 1\n",
    "\n",
    "rf = RandomForestRegressor(n_estimators=300,\n",
    "min_samples_leaf=30,\n",
    "random_state=SEED)\n",
    "# Fit 'rf' to the training set\n",
    "rf.fit(x_train, y_train)\n",
    "\n",
    "y_pred = rf.predict(x_test)\n",
    "y_pred_train=rf.predict(x_train)\n",
    "\n",
    "rmse_test = MSE(y_test, y_pred)**(1/2)\n",
    "\n",
    "print('Test set RMSE of rf: {:.2f}'.format(rmse_test))\n",
    "\n",
    "\n",
    "# Compute the array containing the 10-folds CV MSEs\n",
    "MSE_CV_scores = - cross_val_score(rf, x_train, y_train, cv=10, \n",
    "                                  scoring='neg_mean_squared_error', \n",
    "                                  n_jobs=-1) \n",
    "\n",
    "\n",
    "rf_RMSE_CV = (MSE_CV_scores.mean())**(1/2)\n",
    "\n",
    "# Print RMSE_CV\n",
    "print('CV RMSE: {:.2f}'.format(rf_RMSE_CV))\n",
    "\n",
    "rmse_train = MSE(y_train, y_pred_train)**(1/2)\n",
    "# Print the test set RMSE\n",
    "\n",
    "print('Train set RMSE of rf: {:.2f}'.format(rmse_train))\n",
    "\n"
   ]
  },
  {
   "cell_type": "code",
   "execution_count": 29,
   "metadata": {},
   "outputs": [
    {
     "data": {
      "text/plain": [
       "0.21999999999999975"
      ]
     },
     "execution_count": 29,
     "metadata": {},
     "output_type": "execute_result"
    }
   ],
   "source": [
    "2.42-2.2"
   ]
  },
  {
   "cell_type": "code",
   "execution_count": 30,
   "metadata": {},
   "outputs": [
    {
     "name": "stdout",
     "output_type": "stream",
     "text": [
      "Test set RMSE of rf: 2.47\n",
      "CV RMSE: 2.32\n",
      "Train set RMSE of rf: 2.06\n"
     ]
    }
   ],
   "source": [
    "# Basic imports\n",
    "from sklearn.ensemble import RandomForestRegressor\n",
    "from sklearn.model_selection import train_test_split\n",
    "from sklearn.metrics import mean_squared_error as MSE\n",
    "# Set seed for reproducibility\n",
    "SEED = 1\n",
    "\n",
    "rf = RandomForestRegressor(n_estimators=200,\n",
    "min_samples_leaf=25,\n",
    "random_state=SEED)\n",
    "# Fit 'rf' to the training set\n",
    "rf.fit(x_train, y_train)\n",
    "\n",
    "y_pred = rf.predict(x_test)\n",
    "y_pred_train=rf.predict(x_train)\n",
    "\n",
    "rmse_test = MSE(y_test, y_pred)**(1/2)\n",
    "\n",
    "print('Test set RMSE of rf: {:.2f}'.format(rmse_test))\n",
    "\n",
    "\n",
    "# Compute the array containing the 10-folds CV MSEs\n",
    "MSE_CV_scores = - cross_val_score(rf, x_train, y_train, cv=10, \n",
    "                                  scoring='neg_mean_squared_error', \n",
    "                                  n_jobs=-1) \n",
    "\n",
    "\n",
    "rf_RMSE_CV = (MSE_CV_scores.mean())**(1/2)\n",
    "\n",
    "# Print RMSE_CV\n",
    "print('CV RMSE: {:.2f}'.format(rf_RMSE_CV))\n",
    "\n",
    "rmse_train = MSE(y_train, y_pred_train)**(1/2)\n",
    "# Print the test set RMSE\n",
    "\n",
    "print('Train set RMSE of rf: {:.2f}'.format(rmse_train))"
   ]
  },
  {
   "cell_type": "code",
   "execution_count": 31,
   "metadata": {},
   "outputs": [
    {
     "data": {
      "text/plain": [
       "0.2599999999999998"
      ]
     },
     "execution_count": 31,
     "metadata": {},
     "output_type": "execute_result"
    }
   ],
   "source": [
    "2.32-2.06"
   ]
  },
  {
   "cell_type": "code",
   "execution_count": 32,
   "metadata": {},
   "outputs": [
    {
     "name": "stdout",
     "output_type": "stream",
     "text": [
      "Test set RMSE of rf: 2.54\n",
      "CV RMSE: 2.42\n",
      "Train set RMSE of rf: 2.18\n"
     ]
    }
   ],
   "source": [
    "# Basic imports\n",
    "from sklearn.ensemble import RandomForestRegressor\n",
    "from sklearn.model_selection import train_test_split\n",
    "from sklearn.metrics import mean_squared_error as MSE\n",
    "# Set seed for reproducibility\n",
    "SEED = 1\n",
    "\n",
    "\n",
    "rf = RandomForestRegressor(n_estimators=200,\n",
    "min_samples_leaf=30,\n",
    "random_state=SEED)\n",
    "# Fit 'rf' to the training set\n",
    "rf.fit(x_train, y_train)\n",
    "\n",
    "y_pred = rf.predict(x_test)\n",
    "y_pred_train=rf.predict(x_train)\n",
    "\n",
    "rmse_test = MSE(y_test, y_pred)**(1/2)\n",
    "\n",
    "print('Test set RMSE of rf: {:.2f}'.format(rmse_test))\n",
    "\n",
    "\n",
    "# Compute the array containing the 10-folds CV MSEs\n",
    "MSE_CV_scores = - cross_val_score(rf, x_train, y_train, cv=10, \n",
    "                                  scoring='neg_mean_squared_error', \n",
    "                                  n_jobs=-1) \n",
    "\n",
    "\n",
    "rf_RMSE_CV = (MSE_CV_scores.mean())**(1/2)\n",
    "\n",
    "# Print RMSE_CV\n",
    "print('CV RMSE: {:.2f}'.format(rf_RMSE_CV))\n",
    "\n",
    "rmse_train = MSE(y_train, y_pred_train)**(1/2)\n",
    "# Print the test set RMSE\n",
    "\n",
    "print('Train set RMSE of rf: {:.2f}'.format(rmse_train))"
   ]
  },
  {
   "cell_type": "code",
   "execution_count": 33,
   "metadata": {},
   "outputs": [
    {
     "data": {
      "text/plain": [
       "0.23999999999999977"
      ]
     },
     "execution_count": 33,
     "metadata": {},
     "output_type": "execute_result"
    }
   ],
   "source": [
    "2.42-2.18"
   ]
  },
  {
   "cell_type": "markdown",
   "metadata": {},
   "source": [
    "### Decision Tree Regressor"
   ]
  },
  {
   "cell_type": "code",
   "execution_count": 34,
   "metadata": {},
   "outputs": [
    {
     "data": {
      "text/plain": [
       "DecisionTreeRegressor(criterion='mse', max_depth=5, max_features=None,\n",
       "           max_leaf_nodes=None, min_impurity_decrease=0.0,\n",
       "           min_impurity_split=None, min_samples_leaf=25,\n",
       "           min_samples_split=2, min_weight_fraction_leaf=0.0,\n",
       "           presort=False, random_state=1, splitter='best')"
      ]
     },
     "execution_count": 34,
     "metadata": {},
     "output_type": "execute_result"
    }
   ],
   "source": [
    "# Instantiate dt\n",
    "dt = DecisionTreeRegressor(max_depth=5,min_samples_leaf=25,random_state=1)\n",
    "\n",
    "# Fit dt to the training set\n",
    "dt.fit(x_train, y_train)"
   ]
  },
  {
   "cell_type": "code",
   "execution_count": 35,
   "metadata": {},
   "outputs": [
    {
     "name": "stdout",
     "output_type": "stream",
     "text": [
      "Test set RMSE of dt: 3.18\n",
      "CV RMSE: 2.62\n",
      "Train RMSE: 2.22\n"
     ]
    }
   ],
   "source": [
    "from sklearn.metrics import mean_squared_error as MSE\n",
    "\n",
    "# Compute y_pred\n",
    "y_pred = dt.predict(x_test)\n",
    "\n",
    "# Compute mse_dt\n",
    "mse_dt = MSE(y_test, y_pred)\n",
    "\n",
    "# Compute rmse_dt\n",
    "rmse_dt = mse_dt**(1/2)\n",
    "\n",
    "# Print rmse_dt\n",
    "print(\"Test set RMSE of dt: {:.2f}\".format(rmse_dt))\n",
    "\n",
    "from sklearn.model_selection import cross_val_score\n",
    "# Compute the array containing the 10-folds CV MSEs\n",
    "MSE_CV_scores = - cross_val_score(dt, x_train, y_train, cv=10, \n",
    "                                  scoring='neg_mean_squared_error', \n",
    "                                  n_jobs=-1) \n",
    "\n",
    "\n",
    "dt_RMSE_CV = (MSE_CV_scores.mean())**(1/2)\n",
    "\n",
    "print('CV RMSE: {:.2f}'.format(dt_RMSE_CV))\n",
    "\n",
    "# Import mean_squared_error from sklearn.metrics as MSE\n",
    "from sklearn.metrics import mean_squared_error as MSE\n",
    "\n",
    "# Fit dt to the training set\n",
    "dt.fit(x_train, y_train)\n",
    "\n",
    "# Predict the labels of the training set\n",
    "y_pred_train = dt.predict(x_train)\n",
    "\n",
    "# Evaluate the training set RMSE of dt\n",
    "RMSE_train = (MSE(y_train, y_pred_train))**(1/2)\n",
    "\n",
    "# Print RMSE_train\n",
    "print('Train RMSE: {:.2f}'.format(RMSE_train))"
   ]
  },
  {
   "cell_type": "markdown",
   "metadata": {},
   "source": [
    "### Linear Regression"
   ]
  },
  {
   "cell_type": "code",
   "execution_count": 36,
   "metadata": {},
   "outputs": [
    {
     "name": "stdout",
     "output_type": "stream",
     "text": [
      "Test set RMSE of lr: 3.26\n",
      "CV RMSE: 3.35\n",
      "Train RMSE: 2.56\n"
     ]
    }
   ],
   "source": [
    "lr = LinearRegression()\n",
    "lr.fit(x_train, y_train)\n",
    "\n",
    "from sklearn.metrics import mean_squared_error as MSE\n",
    "\n",
    "y_pred = lr.predict(x_test)\n",
    "\n",
    "\n",
    "mse_lr = MSE(y_test, y_pred)\n",
    "\n",
    "\n",
    "rmse_lr = mse_lr**(1/2)\n",
    "\n",
    "\n",
    "print(\"Test set RMSE of lr: {:.2f}\".format(rmse_lr))\n",
    "\n",
    "from sklearn.model_selection import cross_val_score\n",
    "MSE_CV_scores = - cross_val_score(lr, x_train, y_train, cv=10, \n",
    "                                  scoring='neg_mean_squared_error', \n",
    "                                  n_jobs=-1) \n",
    "lr_RMSE_CV = (MSE_CV_scores.mean())**(1/2)\n",
    "print('CV RMSE: {:.2f}'.format(lr_RMSE_CV))\n",
    "\n",
    "# Import mean_squared_error from sklearn.metrics as MSE\n",
    "from sklearn.metrics import mean_squared_error as MSE\n",
    "y_pred_train = lr.predict(x_train)\n",
    "RMSE_train = (MSE(y_train, y_pred_train))**(1/2)\n",
    "print('Train RMSE: {:.2f}'.format(RMSE_train))"
   ]
  },
  {
   "cell_type": "code",
   "execution_count": null,
   "metadata": {},
   "outputs": [],
   "source": [
    "rf_RMSE_CV"
   ]
  },
  {
   "cell_type": "code",
   "execution_count": 37,
   "metadata": {},
   "outputs": [
    {
     "data": {
      "text/html": [
       "<div>\n",
       "<style scoped>\n",
       "    .dataframe tbody tr th:only-of-type {\n",
       "        vertical-align: middle;\n",
       "    }\n",
       "\n",
       "    .dataframe tbody tr th {\n",
       "        vertical-align: top;\n",
       "    }\n",
       "\n",
       "    .dataframe thead th {\n",
       "        text-align: right;\n",
       "    }\n",
       "</style>\n",
       "<table border=\"1\" class=\"dataframe\">\n",
       "  <thead>\n",
       "    <tr style=\"text-align: right;\">\n",
       "      <th></th>\n",
       "      <th>Model</th>\n",
       "      <th>CV error</th>\n",
       "    </tr>\n",
       "  </thead>\n",
       "  <tbody>\n",
       "    <tr>\n",
       "      <th>0</th>\n",
       "      <td>Random Forest</td>\n",
       "      <td>2.419528</td>\n",
       "    </tr>\n",
       "    <tr>\n",
       "      <th>1</th>\n",
       "      <td>Decision Tree</td>\n",
       "      <td>2.619352</td>\n",
       "    </tr>\n",
       "    <tr>\n",
       "      <th>2</th>\n",
       "      <td>Linear Regression</td>\n",
       "      <td>3.346051</td>\n",
       "    </tr>\n",
       "  </tbody>\n",
       "</table>\n",
       "</div>"
      ],
      "text/plain": [
       "               Model  CV error\n",
       "0      Random Forest  2.419528\n",
       "1      Decision Tree  2.619352\n",
       "2  Linear Regression  3.346051"
      ]
     },
     "execution_count": 37,
     "metadata": {},
     "output_type": "execute_result"
    }
   ],
   "source": [
    "models = pd.DataFrame({\n",
    "    'Model': ['Random Forest','Decision Tree','Linear Regression'],\n",
    "    \n",
    "    'CV error': [rf_RMSE_CV,dt_RMSE_CV,lr_RMSE_CV]\n",
    "    })\n",
    "\n",
    "models.sort_values(by='CV error')"
   ]
  },
  {
   "cell_type": "markdown",
   "metadata": {},
   "source": [
    "## Generate more Training data using  SMOTE"
   ]
  },
  {
   "cell_type": "code",
   "execution_count": 38,
   "metadata": {
    "scrolled": true
   },
   "outputs": [
    {
     "data": {
      "text/html": [
       "<div>\n",
       "<style scoped>\n",
       "    .dataframe tbody tr th:only-of-type {\n",
       "        vertical-align: middle;\n",
       "    }\n",
       "\n",
       "    .dataframe tbody tr th {\n",
       "        vertical-align: top;\n",
       "    }\n",
       "\n",
       "    .dataframe thead th {\n",
       "        text-align: right;\n",
       "    }\n",
       "</style>\n",
       "<table border=\"1\" class=\"dataframe\">\n",
       "  <thead>\n",
       "    <tr style=\"text-align: right;\">\n",
       "      <th></th>\n",
       "      <th>symbol</th>\n",
       "      <th>date</th>\n",
       "      <th>Accounts Payable</th>\n",
       "      <th>Accounts Receivable</th>\n",
       "      <th>Add'l income/expense items</th>\n",
       "      <th>After Tax ROE</th>\n",
       "      <th>Capital Expenditures</th>\n",
       "      <th>Capital Surplus</th>\n",
       "      <th>Cash Ratio</th>\n",
       "      <th>Cash and Cash Equivalents</th>\n",
       "      <th>...</th>\n",
       "      <th>Estimated Shares Outstanding</th>\n",
       "      <th>open</th>\n",
       "      <th>close</th>\n",
       "      <th>low</th>\n",
       "      <th>high</th>\n",
       "      <th>volume</th>\n",
       "      <th>GICS Sector</th>\n",
       "      <th>GICS Sub Industry</th>\n",
       "      <th>PE</th>\n",
       "      <th>z_score</th>\n",
       "    </tr>\n",
       "  </thead>\n",
       "  <tbody>\n",
       "    <tr>\n",
       "      <th>0</th>\n",
       "      <td>AAL</td>\n",
       "      <td>2012-12-31</td>\n",
       "      <td>3.068000e+09</td>\n",
       "      <td>-222000000.0</td>\n",
       "      <td>-1.961000e+09</td>\n",
       "      <td>23.0</td>\n",
       "      <td>-1.888000e+09</td>\n",
       "      <td>4.695000e+09</td>\n",
       "      <td>53.0</td>\n",
       "      <td>1.330000e+09</td>\n",
       "      <td>...</td>\n",
       "      <td>3.350000e+08</td>\n",
       "      <td>12.850000</td>\n",
       "      <td>13.500000</td>\n",
       "      <td>12.840000</td>\n",
       "      <td>13.680000</td>\n",
       "      <td>7005600.0</td>\n",
       "      <td>5</td>\n",
       "      <td>4</td>\n",
       "      <td>-2.410714</td>\n",
       "      <td>0.249317</td>\n",
       "    </tr>\n",
       "    <tr>\n",
       "      <th>1</th>\n",
       "      <td>AAL</td>\n",
       "      <td>2013-12-31</td>\n",
       "      <td>4.975000e+09</td>\n",
       "      <td>-93000000.0</td>\n",
       "      <td>-2.723000e+09</td>\n",
       "      <td>67.0</td>\n",
       "      <td>-3.114000e+09</td>\n",
       "      <td>1.059200e+10</td>\n",
       "      <td>75.0</td>\n",
       "      <td>2.175000e+09</td>\n",
       "      <td>...</td>\n",
       "      <td>1.630222e+08</td>\n",
       "      <td>24.740000</td>\n",
       "      <td>25.250000</td>\n",
       "      <td>24.629999</td>\n",
       "      <td>25.250000</td>\n",
       "      <td>7166600.0</td>\n",
       "      <td>5</td>\n",
       "      <td>4</td>\n",
       "      <td>-2.244444</td>\n",
       "      <td>0.224697</td>\n",
       "    </tr>\n",
       "    <tr>\n",
       "      <th>2</th>\n",
       "      <td>AAL</td>\n",
       "      <td>2014-12-31</td>\n",
       "      <td>4.668000e+09</td>\n",
       "      <td>-160000000.0</td>\n",
       "      <td>-1.500000e+08</td>\n",
       "      <td>143.0</td>\n",
       "      <td>-5.311000e+09</td>\n",
       "      <td>1.513500e+10</td>\n",
       "      <td>60.0</td>\n",
       "      <td>1.768000e+09</td>\n",
       "      <td>...</td>\n",
       "      <td>7.169154e+08</td>\n",
       "      <td>53.900002</td>\n",
       "      <td>53.630001</td>\n",
       "      <td>53.320000</td>\n",
       "      <td>54.639999</td>\n",
       "      <td>10626000.0</td>\n",
       "      <td>5</td>\n",
       "      <td>4</td>\n",
       "      <td>13.340796</td>\n",
       "      <td>1.536275</td>\n",
       "    </tr>\n",
       "    <tr>\n",
       "      <th>3</th>\n",
       "      <td>AAL</td>\n",
       "      <td>2015-12-31</td>\n",
       "      <td>5.102000e+09</td>\n",
       "      <td>352000000.0</td>\n",
       "      <td>-7.080000e+08</td>\n",
       "      <td>135.0</td>\n",
       "      <td>-6.151000e+09</td>\n",
       "      <td>1.159100e+10</td>\n",
       "      <td>51.0</td>\n",
       "      <td>1.085000e+09</td>\n",
       "      <td>...</td>\n",
       "      <td>6.681299e+08</td>\n",
       "      <td>42.540001</td>\n",
       "      <td>42.349998</td>\n",
       "      <td>41.830002</td>\n",
       "      <td>42.570000</td>\n",
       "      <td>6788900.0</td>\n",
       "      <td>5</td>\n",
       "      <td>4</td>\n",
       "      <td>3.718174</td>\n",
       "      <td>1.492806</td>\n",
       "    </tr>\n",
       "    <tr>\n",
       "      <th>4</th>\n",
       "      <td>ABBV</td>\n",
       "      <td>2013-12-31</td>\n",
       "      <td>6.448000e+09</td>\n",
       "      <td>681000000.0</td>\n",
       "      <td>-5.400000e+07</td>\n",
       "      <td>92.0</td>\n",
       "      <td>-4.910000e+08</td>\n",
       "      <td>3.671000e+09</td>\n",
       "      <td>144.0</td>\n",
       "      <td>9.595000e+09</td>\n",
       "      <td>...</td>\n",
       "      <td>1.600000e+09</td>\n",
       "      <td>52.990002</td>\n",
       "      <td>52.810001</td>\n",
       "      <td>52.360001</td>\n",
       "      <td>53.060001</td>\n",
       "      <td>3019700.0</td>\n",
       "      <td>4</td>\n",
       "      <td>87</td>\n",
       "      <td>20.468993</td>\n",
       "      <td>3.855570</td>\n",
       "    </tr>\n",
       "  </tbody>\n",
       "</table>\n",
       "<p>5 rows × 85 columns</p>\n",
       "</div>"
      ],
      "text/plain": [
       "  symbol        date  Accounts Payable  Accounts Receivable  \\\n",
       "0    AAL  2012-12-31      3.068000e+09         -222000000.0   \n",
       "1    AAL  2013-12-31      4.975000e+09          -93000000.0   \n",
       "2    AAL  2014-12-31      4.668000e+09         -160000000.0   \n",
       "3    AAL  2015-12-31      5.102000e+09          352000000.0   \n",
       "4   ABBV  2013-12-31      6.448000e+09          681000000.0   \n",
       "\n",
       "   Add'l income/expense items  After Tax ROE  Capital Expenditures  \\\n",
       "0               -1.961000e+09           23.0         -1.888000e+09   \n",
       "1               -2.723000e+09           67.0         -3.114000e+09   \n",
       "2               -1.500000e+08          143.0         -5.311000e+09   \n",
       "3               -7.080000e+08          135.0         -6.151000e+09   \n",
       "4               -5.400000e+07           92.0         -4.910000e+08   \n",
       "\n",
       "   Capital Surplus  Cash Ratio  Cash and Cash Equivalents    ...     \\\n",
       "0     4.695000e+09        53.0               1.330000e+09    ...      \n",
       "1     1.059200e+10        75.0               2.175000e+09    ...      \n",
       "2     1.513500e+10        60.0               1.768000e+09    ...      \n",
       "3     1.159100e+10        51.0               1.085000e+09    ...      \n",
       "4     3.671000e+09       144.0               9.595000e+09    ...      \n",
       "\n",
       "   Estimated Shares Outstanding       open      close        low       high  \\\n",
       "0                  3.350000e+08  12.850000  13.500000  12.840000  13.680000   \n",
       "1                  1.630222e+08  24.740000  25.250000  24.629999  25.250000   \n",
       "2                  7.169154e+08  53.900002  53.630001  53.320000  54.639999   \n",
       "3                  6.681299e+08  42.540001  42.349998  41.830002  42.570000   \n",
       "4                  1.600000e+09  52.990002  52.810001  52.360001  53.060001   \n",
       "\n",
       "       volume  GICS Sector  GICS Sub Industry         PE   z_score  \n",
       "0   7005600.0            5                  4  -2.410714  0.249317  \n",
       "1   7166600.0            5                  4  -2.244444  0.224697  \n",
       "2  10626000.0            5                  4  13.340796  1.536275  \n",
       "3   6788900.0            5                  4   3.718174  1.492806  \n",
       "4   3019700.0            4                 87  20.468993  3.855570  \n",
       "\n",
       "[5 rows x 85 columns]"
      ]
     },
     "execution_count": 38,
     "metadata": {},
     "output_type": "execute_result"
    }
   ],
   "source": [
    "data.head()"
   ]
  },
  {
   "cell_type": "code",
   "execution_count": 39,
   "metadata": {},
   "outputs": [],
   "source": [
    "x=data.iloc[:,2:84]\n",
    "y=data.z_score"
   ]
  },
  {
   "cell_type": "code",
   "execution_count": 40,
   "metadata": {},
   "outputs": [],
   "source": [
    "SEED=1\n",
    "from sklearn.model_selection import train_test_split\n",
    "(x_train, x_test, y_train, y_test) = cv.train_test_split(x, y, test_size=.25)"
   ]
  },
  {
   "cell_type": "code",
   "execution_count": 41,
   "metadata": {},
   "outputs": [],
   "source": [
    "train_data1=x_train.copy()\n",
    "train_data1['z_score']=y_train"
   ]
  },
  {
   "cell_type": "code",
   "execution_count": 42,
   "metadata": {},
   "outputs": [
    {
     "data": {
      "text/plain": [
       "(400, 83)"
      ]
     },
     "execution_count": 42,
     "metadata": {},
     "output_type": "execute_result"
    }
   ],
   "source": [
    "train_data1[train_data1['z_score']<=1.8].shape"
   ]
  },
  {
   "cell_type": "code",
   "execution_count": 43,
   "metadata": {},
   "outputs": [
    {
     "data": {
      "text/plain": [
       "(205, 83)"
      ]
     },
     "execution_count": 43,
     "metadata": {},
     "output_type": "execute_result"
    }
   ],
   "source": [
    "train_data1[(train_data1['z_score']>1.8) & (train_data1['z_score']<=3.0)].shape"
   ]
  },
  {
   "cell_type": "code",
   "execution_count": 44,
   "metadata": {},
   "outputs": [
    {
     "data": {
      "text/plain": [
       "(412, 83)"
      ]
     },
     "execution_count": 44,
     "metadata": {},
     "output_type": "execute_result"
    }
   ],
   "source": [
    "train_data1[train_data1['z_score']>3].shape"
   ]
  },
  {
   "cell_type": "code",
   "execution_count": 100,
   "metadata": {},
   "outputs": [
    {
     "name": "stdout",
     "output_type": "stream",
     "text": [
      "0.38839724680432647\n",
      "0.20747295968534907\n",
      "0.40412979351032446\n"
     ]
    }
   ],
   "source": [
    "print(400/1017)\n",
    "print(205/1017)\n",
    "print(412/1017)"
   ]
  },
  {
   "cell_type": "markdown",
   "metadata": {},
   "source": [
    "Manually classify events that are rare in the dataset as class 1(in this case, z_score between 1.8 and 3)."
   ]
  },
  {
   "cell_type": "code",
   "execution_count": 45,
   "metadata": {},
   "outputs": [],
   "source": [
    "train_data1['class']=np.where((train_data1['z_score']>1.8) & (train_data1['z_score']<=3.0),1,0)"
   ]
  },
  {
   "cell_type": "code",
   "execution_count": 46,
   "metadata": {},
   "outputs": [],
   "source": [
    "from imblearn.over_sampling import SMOTE"
   ]
  },
  {
   "cell_type": "code",
   "execution_count": 47,
   "metadata": {},
   "outputs": [],
   "source": [
    "sm = SMOTE(random_state=12, ratio = 1.0)"
   ]
  },
  {
   "cell_type": "code",
   "execution_count": 48,
   "metadata": {},
   "outputs": [
    {
     "data": {
      "text/plain": [
       "(1017, 84)"
      ]
     },
     "execution_count": 48,
     "metadata": {},
     "output_type": "execute_result"
    }
   ],
   "source": [
    "train_data1.shape"
   ]
  },
  {
   "cell_type": "code",
   "execution_count": 49,
   "metadata": {},
   "outputs": [
    {
     "data": {
      "text/html": [
       "<div>\n",
       "<style scoped>\n",
       "    .dataframe tbody tr th:only-of-type {\n",
       "        vertical-align: middle;\n",
       "    }\n",
       "\n",
       "    .dataframe tbody tr th {\n",
       "        vertical-align: top;\n",
       "    }\n",
       "\n",
       "    .dataframe thead th {\n",
       "        text-align: right;\n",
       "    }\n",
       "</style>\n",
       "<table border=\"1\" class=\"dataframe\">\n",
       "  <thead>\n",
       "    <tr style=\"text-align: right;\">\n",
       "      <th></th>\n",
       "      <th>Accounts Payable</th>\n",
       "      <th>Accounts Receivable</th>\n",
       "      <th>Add'l income/expense items</th>\n",
       "      <th>After Tax ROE</th>\n",
       "      <th>Capital Expenditures</th>\n",
       "      <th>Capital Surplus</th>\n",
       "      <th>Cash Ratio</th>\n",
       "      <th>Cash and Cash Equivalents</th>\n",
       "      <th>Changes in Inventories</th>\n",
       "      <th>Common Stocks</th>\n",
       "      <th>...</th>\n",
       "      <th>open</th>\n",
       "      <th>close</th>\n",
       "      <th>low</th>\n",
       "      <th>high</th>\n",
       "      <th>volume</th>\n",
       "      <th>GICS Sector</th>\n",
       "      <th>GICS Sub Industry</th>\n",
       "      <th>PE</th>\n",
       "      <th>z_score</th>\n",
       "      <th>class</th>\n",
       "    </tr>\n",
       "  </thead>\n",
       "  <tbody>\n",
       "    <tr>\n",
       "      <th>345</th>\n",
       "      <td>3.246000e+09</td>\n",
       "      <td>0.0</td>\n",
       "      <td>0.0</td>\n",
       "      <td>21.0</td>\n",
       "      <td>-145000000.0</td>\n",
       "      <td>3.790000e+09</td>\n",
       "      <td>69.796313</td>\n",
       "      <td>1.123300e+10</td>\n",
       "      <td>0.0</td>\n",
       "      <td>5000000.0</td>\n",
       "      <td>...</td>\n",
       "      <td>66.449997</td>\n",
       "      <td>65.489998</td>\n",
       "      <td>65.459999</td>\n",
       "      <td>66.610001</td>\n",
       "      <td>1482200.0</td>\n",
       "      <td>3</td>\n",
       "      <td>24</td>\n",
       "      <td>13.338085</td>\n",
       "      <td>0.734268</td>\n",
       "      <td>0</td>\n",
       "    </tr>\n",
       "    <tr>\n",
       "      <th>677</th>\n",
       "      <td>7.285000e+08</td>\n",
       "      <td>139100000.0</td>\n",
       "      <td>-16600000.0</td>\n",
       "      <td>3.0</td>\n",
       "      <td>-347700000.0</td>\n",
       "      <td>9.905700e+09</td>\n",
       "      <td>200.000000</td>\n",
       "      <td>2.407800e+09</td>\n",
       "      <td>0.0</td>\n",
       "      <td>0.0</td>\n",
       "      <td>...</td>\n",
       "      <td>19.420000</td>\n",
       "      <td>19.670000</td>\n",
       "      <td>19.209999</td>\n",
       "      <td>19.780001</td>\n",
       "      <td>7807400.0</td>\n",
       "      <td>6</td>\n",
       "      <td>78</td>\n",
       "      <td>54.638889</td>\n",
       "      <td>2.551277</td>\n",
       "      <td>1</td>\n",
       "    </tr>\n",
       "    <tr>\n",
       "      <th>1261</th>\n",
       "      <td>2.808700e+08</td>\n",
       "      <td>7428000.0</td>\n",
       "      <td>30400000.0</td>\n",
       "      <td>69.0</td>\n",
       "      <td>-51201000.0</td>\n",
       "      <td>5.777154e+09</td>\n",
       "      <td>379.000000</td>\n",
       "      <td>6.336770e+08</td>\n",
       "      <td>-16469000.0</td>\n",
       "      <td>2385000.0</td>\n",
       "      <td>...</td>\n",
       "      <td>119.610001</td>\n",
       "      <td>118.800003</td>\n",
       "      <td>118.500000</td>\n",
       "      <td>121.959999</td>\n",
       "      <td>946300.0</td>\n",
       "      <td>4</td>\n",
       "      <td>13</td>\n",
       "      <td>-37.834396</td>\n",
       "      <td>10.406381</td>\n",
       "      <td>0</td>\n",
       "    </tr>\n",
       "    <tr>\n",
       "      <th>765</th>\n",
       "      <td>2.274390e+08</td>\n",
       "      <td>0.0</td>\n",
       "      <td>40707000.0</td>\n",
       "      <td>5.0</td>\n",
       "      <td>-379962000.0</td>\n",
       "      <td>3.619270e+09</td>\n",
       "      <td>60.371462</td>\n",
       "      <td>5.483400e+07</td>\n",
       "      <td>0.0</td>\n",
       "      <td>752000.0</td>\n",
       "      <td>...</td>\n",
       "      <td>76.239998</td>\n",
       "      <td>74.680000</td>\n",
       "      <td>74.610001</td>\n",
       "      <td>76.650002</td>\n",
       "      <td>264700.0</td>\n",
       "      <td>8</td>\n",
       "      <td>95</td>\n",
       "      <td>37.908629</td>\n",
       "      <td>1.031081</td>\n",
       "      <td>0</td>\n",
       "    </tr>\n",
       "    <tr>\n",
       "      <th>869</th>\n",
       "      <td>0.000000e+00</td>\n",
       "      <td>175000000.0</td>\n",
       "      <td>0.0</td>\n",
       "      <td>25.0</td>\n",
       "      <td>0.0</td>\n",
       "      <td>2.967000e+09</td>\n",
       "      <td>69.796313</td>\n",
       "      <td>2.095000e+09</td>\n",
       "      <td>0.0</td>\n",
       "      <td>4000000.0</td>\n",
       "      <td>...</td>\n",
       "      <td>11.300000</td>\n",
       "      <td>11.450000</td>\n",
       "      <td>11.230000</td>\n",
       "      <td>11.590000</td>\n",
       "      <td>2631800.0</td>\n",
       "      <td>3</td>\n",
       "      <td>24</td>\n",
       "      <td>4.304511</td>\n",
       "      <td>0.174830</td>\n",
       "      <td>0</td>\n",
       "    </tr>\n",
       "  </tbody>\n",
       "</table>\n",
       "<p>5 rows × 84 columns</p>\n",
       "</div>"
      ],
      "text/plain": [
       "      Accounts Payable  Accounts Receivable  Add'l income/expense items  \\\n",
       "345       3.246000e+09                  0.0                         0.0   \n",
       "677       7.285000e+08          139100000.0                 -16600000.0   \n",
       "1261      2.808700e+08            7428000.0                  30400000.0   \n",
       "765       2.274390e+08                  0.0                  40707000.0   \n",
       "869       0.000000e+00          175000000.0                         0.0   \n",
       "\n",
       "      After Tax ROE  Capital Expenditures  Capital Surplus  Cash Ratio  \\\n",
       "345            21.0          -145000000.0     3.790000e+09   69.796313   \n",
       "677             3.0          -347700000.0     9.905700e+09  200.000000   \n",
       "1261           69.0           -51201000.0     5.777154e+09  379.000000   \n",
       "765             5.0          -379962000.0     3.619270e+09   60.371462   \n",
       "869            25.0                   0.0     2.967000e+09   69.796313   \n",
       "\n",
       "      Cash and Cash Equivalents  Changes in Inventories  Common Stocks  ...    \\\n",
       "345                1.123300e+10                     0.0      5000000.0  ...     \n",
       "677                2.407800e+09                     0.0            0.0  ...     \n",
       "1261               6.336770e+08             -16469000.0      2385000.0  ...     \n",
       "765                5.483400e+07                     0.0       752000.0  ...     \n",
       "869                2.095000e+09                     0.0      4000000.0  ...     \n",
       "\n",
       "            open       close         low        high     volume  GICS Sector  \\\n",
       "345    66.449997   65.489998   65.459999   66.610001  1482200.0            3   \n",
       "677    19.420000   19.670000   19.209999   19.780001  7807400.0            6   \n",
       "1261  119.610001  118.800003  118.500000  121.959999   946300.0            4   \n",
       "765    76.239998   74.680000   74.610001   76.650002   264700.0            8   \n",
       "869    11.300000   11.450000   11.230000   11.590000  2631800.0            3   \n",
       "\n",
       "      GICS Sub Industry         PE    z_score  class  \n",
       "345                  24  13.338085   0.734268      0  \n",
       "677                  78  54.638889   2.551277      1  \n",
       "1261                 13 -37.834396  10.406381      0  \n",
       "765                  95  37.908629   1.031081      0  \n",
       "869                  24   4.304511   0.174830      0  \n",
       "\n",
       "[5 rows x 84 columns]"
      ]
     },
     "execution_count": 49,
     "metadata": {},
     "output_type": "execute_result"
    }
   ],
   "source": [
    "train_data1.head()"
   ]
  },
  {
   "cell_type": "code",
   "execution_count": 50,
   "metadata": {},
   "outputs": [],
   "source": [
    "x_train=train_data1.iloc[:,0:83]\n",
    "y_train=train_data1['class']"
   ]
  },
  {
   "cell_type": "code",
   "execution_count": 52,
   "metadata": {},
   "outputs": [],
   "source": [
    "x_train_new, y_train_new = sm.fit_sample(x_train, y_train)"
   ]
  },
  {
   "cell_type": "code",
   "execution_count": 53,
   "metadata": {},
   "outputs": [],
   "source": [
    "col_name=['Accounts Payable', 'Accounts Receivable', \"'Add'l income/expense items'\",\n",
    "       'After Tax ROE', 'Capital Expenditures', 'Capital Surplus',\n",
    "       'Cash Ratio', 'Cash and Cash Equivalents', 'Changes in Inventories',\n",
    "       'Common Stocks', 'Cost of Revenue', 'Current Ratio',\n",
    "       'Deferred Asset Charges', 'Deferred Liability Charges', 'Depreciation',\n",
    "       'Earnings Before Interest and Tax', 'Earnings Before Tax',\n",
    "       'Effect of Exchange Rate', 'Fixed Assets', 'Goodwill', 'Gross Margin',\n",
    "       'Gross Profit', 'Income Tax', 'Intangible Assets', 'Interest Expense',\n",
    "       'Inventory', 'Investments', 'Liabilities', 'Long-Term Debt',\n",
    "       'Long-Term Investments', 'Minority Interest', 'Misc. Stocks',\n",
    "       'Net Borrowings', 'Net Cash Flow', 'Net Cash Flow-Operating',\n",
    "       'Net Cash Flows-Financing', 'Net Cash Flows-Investing', 'Net Income',\n",
    "       'Net Income Adjustments',\n",
    "       'Net Income Applicable to Common Shareholders',\n",
    "       'Net Income-Cont. Operations', 'Net Receivables', 'Non-Recurring Items',\n",
    "       'Operating Income', 'Operating Margin', 'Other Assets',\n",
    "       'Other Current Assets', 'Other Current Liabilities', 'Other Equity',\n",
    "       'Other Financing Activities', 'Other Investing Activities',\n",
    "       'Other Liabilities', 'Other Operating Activities',\n",
    "       'Other Operating Items', 'Pre-Tax Margin', 'Pre-Tax ROE',\n",
    "       'Profit Margin', 'Quick Ratio', 'Research and Development',\n",
    "       'Retained Earnings', 'Sale and Purchase of Stock',\n",
    "       'Sales, General and Admin.',\n",
    "       'Short-Term Debt / Current Portion of Long-Term Debt',\n",
    "       'Short-Term Investments', 'Total Assets', 'Total Current Assets',\n",
    "       'Total Current Liabilities', 'Total Equity', 'Total Liabilities',\n",
    "       'Total Liabilities & Equity', 'Total Revenue', 'Treasury Stock',\n",
    "       'Earnings Per Share', 'Estimated Shares Outstanding', 'open', 'close',\n",
    "       'low', 'high', 'volume', 'GICS Sector', 'GICS Sub Industry', 'PE',\n",
    "       'z_score']"
   ]
  },
  {
   "cell_type": "code",
   "execution_count": 54,
   "metadata": {},
   "outputs": [],
   "source": [
    " new_train=pd.DataFrame(x_train_new, columns=col_name)"
   ]
  },
  {
   "cell_type": "code",
   "execution_count": 55,
   "metadata": {},
   "outputs": [
    {
     "data": {
      "text/plain": [
       "(1624, 83)"
      ]
     },
     "execution_count": 55,
     "metadata": {},
     "output_type": "execute_result"
    }
   ],
   "source": [
    "new_train.shape"
   ]
  },
  {
   "cell_type": "code",
   "execution_count": 56,
   "metadata": {},
   "outputs": [],
   "source": [
    "x_train=new_train.iloc[:,0:82]\n",
    "y_train=new_train.z_score"
   ]
  },
  {
   "cell_type": "code",
   "execution_count": 57,
   "metadata": {},
   "outputs": [
    {
     "name": "stdout",
     "output_type": "stream",
     "text": [
      "Test set RMSE of rf: 2.47\n",
      "CV RMSE: 1.93\n",
      "Train set RMSE of rf: 1.49\n"
     ]
    }
   ],
   "source": [
    "# Basic imports\n",
    "from sklearn.ensemble import RandomForestRegressor\n",
    "from sklearn.model_selection import train_test_split\n",
    "from sklearn.metrics import mean_squared_error as MSE\n",
    "# Set seed for reproducibility\n",
    "SEED = 1\n",
    "\n",
    "rf = RandomForestRegressor(n_estimators=500,\n",
    "min_samples_leaf=10,\n",
    "random_state=SEED)\n",
    "# Fit 'rf' to the training set\n",
    "rf.fit(x_train, y_train)\n",
    "\n",
    "y_pred = rf.predict(x_test)\n",
    "y_pred_train=rf.predict(x_train)\n",
    "\n",
    "rmse_test = MSE(y_test, y_pred)**(1/2)\n",
    "\n",
    "print('Test set RMSE of rf: {:.2f}'.format(rmse_test))\n",
    "\n",
    "\n",
    "# Compute the array containing the 10-folds CV MSEs\n",
    "MSE_CV_scores = - cross_val_score(rf, x_train, y_train, cv=10, \n",
    "                                  scoring='neg_mean_squared_error', \n",
    "                                  n_jobs=-1) \n",
    "\n",
    "\n",
    "RMSE_CV = (MSE_CV_scores.mean())**(1/2)\n",
    "\n",
    "# Print RMSE_CV\n",
    "print('CV RMSE: {:.2f}'.format(RMSE_CV))\n",
    "\n",
    "rmse_train = MSE(y_train, y_pred_train)**(1/2)\n",
    "# Print the test set RMSE\n",
    "\n",
    "print('Train set RMSE of rf: {:.2f}'.format(rmse_train))"
   ]
  },
  {
   "cell_type": "code",
   "execution_count": 58,
   "metadata": {},
   "outputs": [
    {
     "data": {
      "text/plain": [
       "0.43999999999999995"
      ]
     },
     "execution_count": 58,
     "metadata": {},
     "output_type": "execute_result"
    }
   ],
   "source": [
    "1.93-1.49"
   ]
  },
  {
   "cell_type": "markdown",
   "metadata": {},
   "source": [
    "### Lets try adjusting the complexity now"
   ]
  },
  {
   "cell_type": "code",
   "execution_count": 59,
   "metadata": {},
   "outputs": [
    {
     "name": "stdout",
     "output_type": "stream",
     "text": [
      "Test set RMSE of rf: 2.79\n",
      "CV RMSE: 2.22\n",
      "Train set RMSE of rf: 2.02\n"
     ]
    }
   ],
   "source": [
    "# Basic imports\n",
    "from sklearn.ensemble import RandomForestRegressor\n",
    "from sklearn.model_selection import train_test_split\n",
    "from sklearn.metrics import mean_squared_error as MSE\n",
    "# Set seed for reproducibility\n",
    "SEED = 1\n",
    "\n",
    "\n",
    "rf = RandomForestRegressor(n_estimators=300,\n",
    "min_samples_leaf=30,\n",
    "random_state=SEED)\n",
    "# Fit 'rf' to the training set\n",
    "rf.fit(x_train, y_train)\n",
    "\n",
    "y_pred = rf.predict(x_test)\n",
    "y_pred_train=rf.predict(x_train)\n",
    "\n",
    "rmse_test = MSE(y_test, y_pred)**(1/2)\n",
    "\n",
    "print('Test set RMSE of rf: {:.2f}'.format(rmse_test))\n",
    "\n",
    "\n",
    "# Compute the array containing the 10-folds CV MSEs\n",
    "MSE_CV_scores = - cross_val_score(rf, x_train, y_train, cv=10, \n",
    "                                  scoring='neg_mean_squared_error', \n",
    "                                  n_jobs=-1) \n",
    "\n",
    "\n",
    "rf_RMSE_CV = (MSE_CV_scores.mean())**(1/2)\n",
    "\n",
    "# Print RMSE_CV\n",
    "print('CV RMSE: {:.2f}'.format(rf_RMSE_CV))\n",
    "\n",
    "rmse_train = MSE(y_train, y_pred_train)**(1/2)\n",
    "# Print the test set RMSE\n",
    "\n",
    "print('Train set RMSE of rf: {:.2f}'.format(rmse_train))"
   ]
  },
  {
   "cell_type": "code",
   "execution_count": 60,
   "metadata": {},
   "outputs": [
    {
     "data": {
      "text/plain": [
       "0.20000000000000018"
      ]
     },
     "execution_count": 60,
     "metadata": {},
     "output_type": "execute_result"
    }
   ],
   "source": [
    "2.22-2.02"
   ]
  },
  {
   "cell_type": "code",
   "execution_count": 61,
   "metadata": {},
   "outputs": [
    {
     "name": "stdout",
     "output_type": "stream",
     "text": [
      "Test set RMSE of rf: 2.82\n",
      "CV RMSE: 2.26\n",
      "Train set RMSE of rf: 2.09\n"
     ]
    }
   ],
   "source": [
    "# Basic imports\n",
    "from sklearn.ensemble import RandomForestRegressor\n",
    "from sklearn.model_selection import train_test_split\n",
    "from sklearn.metrics import mean_squared_error as MSE\n",
    "# Set seed for reproducibility\n",
    "SEED = 1\n",
    "\n",
    "\n",
    "rf = RandomForestRegressor(n_estimators=300,\n",
    "min_samples_leaf=35,\n",
    "random_state=SEED)\n",
    "# Fit 'rf' to the training set\n",
    "rf.fit(x_train, y_train)\n",
    "\n",
    "y_pred = rf.predict(x_test)\n",
    "y_pred_train=rf.predict(x_train)\n",
    "\n",
    "rmse_test = MSE(y_test, y_pred)**(1/2)\n",
    "\n",
    "print('Test set RMSE of rf: {:.2f}'.format(rmse_test))\n",
    "\n",
    "\n",
    "# Compute the array containing the 10-folds CV MSEs\n",
    "MSE_CV_scores = - cross_val_score(rf, x_train, y_train, cv=10, \n",
    "                                  scoring='neg_mean_squared_error', \n",
    "                                  n_jobs=-1) \n",
    "\n",
    "\n",
    "rf_RMSE_CV = (MSE_CV_scores.mean())**(1/2)\n",
    "\n",
    "# Print RMSE_CV\n",
    "print('CV RMSE: {:.2f}'.format(rf_RMSE_CV))\n",
    "\n",
    "rmse_train = MSE(y_train, y_pred_train)**(1/2)\n",
    "# Print the test set RMSE\n",
    "\n",
    "print('Train set RMSE of rf: {:.2f}'.format(rmse_train))"
   ]
  },
  {
   "cell_type": "code",
   "execution_count": 62,
   "metadata": {},
   "outputs": [
    {
     "data": {
      "text/plain": [
       "0.16999999999999993"
      ]
     },
     "execution_count": 62,
     "metadata": {},
     "output_type": "execute_result"
    }
   ],
   "source": [
    "2.26-2.09"
   ]
  },
  {
   "cell_type": "markdown",
   "metadata": {},
   "source": [
    "### Decision Tree Regressor"
   ]
  },
  {
   "cell_type": "code",
   "execution_count": 63,
   "metadata": {},
   "outputs": [
    {
     "name": "stdout",
     "output_type": "stream",
     "text": [
      "Test set RMSE of dt: 3.01\n",
      "CV RMSE: 2.39\n",
      "Train RMSE: 2.16\n"
     ]
    }
   ],
   "source": [
    "# Instantiate dt\n",
    "dt = DecisionTreeRegressor(max_depth=5,min_samples_leaf=25,random_state=1)\n",
    "\n",
    "# Fit dt to the training set\n",
    "dt.fit(x_train, y_train)\n",
    "\n",
    "\n",
    "# Compute y_pred\n",
    "y_pred = dt.predict(x_test)\n",
    "\n",
    "# Compute mse_dt\n",
    "mse_dt = MSE(y_test, y_pred)\n",
    "\n",
    "# Compute rmse_dt\n",
    "rmse_dt = mse_dt**(1/2)\n",
    "\n",
    "# Print rmse_dt\n",
    "print(\"Test set RMSE of dt: {:.2f}\".format(rmse_dt))\n",
    "\n",
    "from sklearn.model_selection import cross_val_score\n",
    "# Compute the array containing the 10-folds CV MSEs\n",
    "MSE_CV_scores = - cross_val_score(dt, x_train, y_train, cv=10, \n",
    "                                  scoring='neg_mean_squared_error', \n",
    "                                  n_jobs=-1) \n",
    "\n",
    "\n",
    "dt_RMSE_CV = (MSE_CV_scores.mean())**(1/2)\n",
    "\n",
    "print('CV RMSE: {:.2f}'.format(dt_RMSE_CV))\n",
    "\n",
    "\n",
    "\n",
    "# Fit dt to the training set\n",
    "dt.fit(x_train, y_train)\n",
    "\n",
    "# Predict the labels of the training set\n",
    "y_pred_train = dt.predict(x_train)\n",
    "\n",
    "# Evaluate the training set RMSE of dt\n",
    "RMSE_train = (MSE(y_train, y_pred_train))**(1/2)\n",
    "\n",
    "# Print RMSE_train\n",
    "print('Train RMSE: {:.2f}'.format(RMSE_train))"
   ]
  },
  {
   "cell_type": "markdown",
   "metadata": {},
   "source": [
    "### Linear Regression"
   ]
  },
  {
   "cell_type": "code",
   "execution_count": 64,
   "metadata": {},
   "outputs": [
    {
     "name": "stdout",
     "output_type": "stream",
     "text": [
      "Test set RMSE of lr: 3.04\n",
      "CV RMSE: 2.82\n",
      "Train RMSE: 2.21\n"
     ]
    }
   ],
   "source": [
    "lr = LinearRegression()\n",
    "lr.fit(x_train, y_train)\n",
    "\n",
    "from sklearn.metrics import mean_squared_error as MSE\n",
    "\n",
    "y_pred = lr.predict(x_test)\n",
    "\n",
    "\n",
    "mse_lr = MSE(y_test, y_pred)\n",
    "\n",
    "\n",
    "rmse_lr = mse_lr**(1/2)\n",
    "\n",
    "\n",
    "print(\"Test set RMSE of lr: {:.2f}\".format(rmse_lr))\n",
    "\n",
    "from sklearn.model_selection import cross_val_score\n",
    "MSE_CV_scores = - cross_val_score(lr, x_train, y_train, cv=10, \n",
    "                                  scoring='neg_mean_squared_error', \n",
    "                                  n_jobs=-1) \n",
    "lr_RMSE_CV = (MSE_CV_scores.mean())**(1/2)\n",
    "print('CV RMSE: {:.2f}'.format(lr_RMSE_CV))\n",
    "\n",
    "# Import mean_squared_error from sklearn.metrics as MSE\n",
    "from sklearn.metrics import mean_squared_error as MSE\n",
    "y_pred_train = lr.predict(x_train)\n",
    "RMSE_train = (MSE(y_train, y_pred_train))**(1/2)\n",
    "print('Train RMSE: {:.2f}'.format(RMSE_train))"
   ]
  },
  {
   "cell_type": "code",
   "execution_count": 65,
   "metadata": {},
   "outputs": [
    {
     "data": {
      "text/html": [
       "<div>\n",
       "<style scoped>\n",
       "    .dataframe tbody tr th:only-of-type {\n",
       "        vertical-align: middle;\n",
       "    }\n",
       "\n",
       "    .dataframe tbody tr th {\n",
       "        vertical-align: top;\n",
       "    }\n",
       "\n",
       "    .dataframe thead th {\n",
       "        text-align: right;\n",
       "    }\n",
       "</style>\n",
       "<table border=\"1\" class=\"dataframe\">\n",
       "  <thead>\n",
       "    <tr style=\"text-align: right;\">\n",
       "      <th></th>\n",
       "      <th>Model</th>\n",
       "      <th>CV error</th>\n",
       "    </tr>\n",
       "  </thead>\n",
       "  <tbody>\n",
       "    <tr>\n",
       "      <th>0</th>\n",
       "      <td>Random Forest</td>\n",
       "      <td>2.255731</td>\n",
       "    </tr>\n",
       "    <tr>\n",
       "      <th>1</th>\n",
       "      <td>Decision Tree</td>\n",
       "      <td>2.389432</td>\n",
       "    </tr>\n",
       "    <tr>\n",
       "      <th>2</th>\n",
       "      <td>Linear Regression</td>\n",
       "      <td>2.820268</td>\n",
       "    </tr>\n",
       "  </tbody>\n",
       "</table>\n",
       "</div>"
      ],
      "text/plain": [
       "               Model  CV error\n",
       "0      Random Forest  2.255731\n",
       "1      Decision Tree  2.389432\n",
       "2  Linear Regression  2.820268"
      ]
     },
     "execution_count": 65,
     "metadata": {},
     "output_type": "execute_result"
    }
   ],
   "source": [
    "models = pd.DataFrame({\n",
    "    'Model': ['Random Forest','Decision Tree','Linear Regression'],\n",
    "    \n",
    "    'CV error': [rf_RMSE_CV,dt_RMSE_CV,lr_RMSE_CV]\n",
    "    })\n",
    "\n",
    "models.sort_values(by='CV error')"
   ]
  },
  {
   "cell_type": "markdown",
   "metadata": {},
   "source": [
    "### Models work well when data is generated using SMOTE. Although we were not able to completely eliminate the overfitting problem, the difference between CV RMSE and Train RMSE reduced after more training data was generated. We are going to select Random Forest for the final model since the CV error is the lowest"
   ]
  },
  {
   "cell_type": "code",
   "execution_count": null,
   "metadata": {},
   "outputs": [],
   "source": []
  }
 ],
 "metadata": {
  "kernelspec": {
   "display_name": "Python 3",
   "language": "python",
   "name": "python3"
  },
  "language_info": {
   "codemirror_mode": {
    "name": "ipython",
    "version": 3
   },
   "file_extension": ".py",
   "mimetype": "text/x-python",
   "name": "python",
   "nbconvert_exporter": "python",
   "pygments_lexer": "ipython3",
   "version": "3.7.1"
  }
 },
 "nbformat": 4,
 "nbformat_minor": 2
}
