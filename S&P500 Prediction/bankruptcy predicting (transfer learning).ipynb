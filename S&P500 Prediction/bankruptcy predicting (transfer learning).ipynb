{
 "cells": [
  {
   "cell_type": "markdown",
   "metadata": {},
   "source": [
    "# Bankruptcy Predicting (Transfer Learning)"
   ]
  },
  {
   "cell_type": "code",
   "execution_count": 1,
   "metadata": {
    "scrolled": true
   },
   "outputs": [],
   "source": [
    "#!pip install imblearn"
   ]
  },
  {
   "cell_type": "code",
   "execution_count": 2,
   "metadata": {},
   "outputs": [],
   "source": [
    "import pandas as pd\n",
    "import seaborn as sns\n",
    "import numpy as np\n",
    "import math\n",
    "from sklearn.linear_model import LogisticRegression\n",
    "from sklearn.svm import SVC, LinearSVC\n",
    "from sklearn.neighbors import KNeighborsClassifier as KNN\n",
    "from sklearn.tree import DecisionTreeClassifier\n",
    "from sklearn.ensemble import RandomForestClassifier\n",
    "from sklearn.naive_bayes import GaussianNB\n",
    "from sklearn.linear_model import Perceptron\n",
    "from sklearn.linear_model import SGDClassifier\n",
    "from sklearn.ensemble import GradientBoostingClassifier\n",
    "from sklearn import metrics\n",
    "from sklearn.ensemble import VotingClassifier\n",
    "import matplotlib as plt\n",
    "from sklearn.metrics import accuracy_score\n",
    "from sklearn.metrics import f1_score\n",
    "from sklearn.model_selection import cross_val_score\n",
    "from sklearn.metrics import mean_squared_error as MSE\n",
    "import sklearn.model_selection as cv\n",
    "from sklearn.tree import DecisionTreeRegressor\n",
    "from sklearn.ensemble import BaggingClassifier\n",
    "from sklearn.linear_model import LinearRegression\n",
    "\n",
    "# Import packages\n",
    "import pandas as pd\n",
    "import numpy as np\n",
    "import matplotlib.pyplot as plt\n",
    "import seaborn as sns\n",
    "from sklearn.preprocessing import StandardScaler\n",
    "from sklearn.model_selection import train_test_split, GridSearchCV, cross_val_score\n",
    "from sklearn.linear_model import LogisticRegression, SGDClassifier\n",
    "from sklearn import svm, metrics\n",
    "from sklearn.tree import DecisionTreeClassifier\n",
    "from sklearn.neighbors import KNeighborsClassifier as KNN\n",
    "from sklearn.ensemble import VotingClassifier, BaggingClassifier, AdaBoostClassifier, RandomForestClassifier, GradientBoostingClassifier\n",
    "from sklearn.decomposition import TruncatedSVD\n",
    "from sklearn.metrics import accuracy_score\n",
    "from sklearn.metrics import mean_squared_error as MSE\n",
    "from sklearn.metrics import classification_report\n",
    "from sklearn.ensemble import GradientBoostingClassifier\n",
    "from imblearn.over_sampling import SMOTE\n",
    "from sklearn.metrics import confusion_matrix, precision_recall_curve, auc, roc_auc_score, roc_curve, recall_score, classification_report\n",
    "\n",
    "import warnings\n",
    "warnings.filterwarnings('ignore')"
   ]
  },
  {
   "cell_type": "markdown",
   "metadata": {},
   "source": [
    "# Train model - using bankruptcy_train.csv"
   ]
  },
  {
   "cell_type": "code",
   "execution_count": 3,
   "metadata": {
    "scrolled": true
   },
   "outputs": [],
   "source": [
    "bankruptcy_train=pd.read_csv(\"bankruptcy_Train.csv\")"
   ]
  },
  {
   "cell_type": "code",
   "execution_count": 4,
   "metadata": {
    "scrolled": true
   },
   "outputs": [
    {
     "data": {
      "text/html": [
       "<div>\n",
       "<style scoped>\n",
       "    .dataframe tbody tr th:only-of-type {\n",
       "        vertical-align: middle;\n",
       "    }\n",
       "\n",
       "    .dataframe tbody tr th {\n",
       "        vertical-align: top;\n",
       "    }\n",
       "\n",
       "    .dataframe thead th {\n",
       "        text-align: right;\n",
       "    }\n",
       "</style>\n",
       "<table border=\"1\" class=\"dataframe\">\n",
       "  <thead>\n",
       "    <tr style=\"text-align: right;\">\n",
       "      <th></th>\n",
       "      <th>Attr1</th>\n",
       "      <th>Attr2</th>\n",
       "      <th>Attr3</th>\n",
       "      <th>Attr4</th>\n",
       "      <th>Attr5</th>\n",
       "      <th>Attr6</th>\n",
       "      <th>Attr7</th>\n",
       "      <th>Attr8</th>\n",
       "      <th>Attr9</th>\n",
       "      <th>Attr10</th>\n",
       "      <th>...</th>\n",
       "      <th>Attr56</th>\n",
       "      <th>Attr57</th>\n",
       "      <th>Attr58</th>\n",
       "      <th>Attr59</th>\n",
       "      <th>Attr60</th>\n",
       "      <th>Attr61</th>\n",
       "      <th>Attr62</th>\n",
       "      <th>Attr63</th>\n",
       "      <th>Attr64</th>\n",
       "      <th>class</th>\n",
       "    </tr>\n",
       "  </thead>\n",
       "  <tbody>\n",
       "    <tr>\n",
       "      <th>0</th>\n",
       "      <td>-0.031545</td>\n",
       "      <td>-0.091313</td>\n",
       "      <td>-0.040269</td>\n",
       "      <td>-0.013529</td>\n",
       "      <td>0.007406</td>\n",
       "      <td>-0.016047</td>\n",
       "      <td>-0.000264</td>\n",
       "      <td>0.641242</td>\n",
       "      <td>-0.748385</td>\n",
       "      <td>0.126789</td>\n",
       "      <td>...</td>\n",
       "      <td>0.014367</td>\n",
       "      <td>0.005457</td>\n",
       "      <td>-0.014143</td>\n",
       "      <td>-0.020924</td>\n",
       "      <td>0.068399</td>\n",
       "      <td>-0.214478</td>\n",
       "      <td>-0.013915</td>\n",
       "      <td>-0.173939</td>\n",
       "      <td>-0.046788</td>\n",
       "      <td>0</td>\n",
       "    </tr>\n",
       "    <tr>\n",
       "      <th>1</th>\n",
       "      <td>-0.231729</td>\n",
       "      <td>-0.049448</td>\n",
       "      <td>0.304381</td>\n",
       "      <td>-0.080975</td>\n",
       "      <td>0.007515</td>\n",
       "      <td>-0.016047</td>\n",
       "      <td>-0.034963</td>\n",
       "      <td>0.074710</td>\n",
       "      <td>0.469815</td>\n",
       "      <td>0.073759</td>\n",
       "      <td>...</td>\n",
       "      <td>0.008492</td>\n",
       "      <td>-0.008385</td>\n",
       "      <td>-0.008666</td>\n",
       "      <td>-0.023095</td>\n",
       "      <td>-0.033498</td>\n",
       "      <td>-0.205796</td>\n",
       "      <td>-0.015174</td>\n",
       "      <td>-0.073056</td>\n",
       "      <td>-0.027236</td>\n",
       "      <td>0</td>\n",
       "    </tr>\n",
       "    <tr>\n",
       "      <th>2</th>\n",
       "      <td>-0.058602</td>\n",
       "      <td>0.065060</td>\n",
       "      <td>-0.488404</td>\n",
       "      <td>-0.189489</td>\n",
       "      <td>0.006572</td>\n",
       "      <td>-0.016047</td>\n",
       "      <td>-0.004954</td>\n",
       "      <td>-0.456287</td>\n",
       "      <td>0.270351</td>\n",
       "      <td>-0.071287</td>\n",
       "      <td>...</td>\n",
       "      <td>0.010819</td>\n",
       "      <td>0.006779</td>\n",
       "      <td>-0.009437</td>\n",
       "      <td>-0.007919</td>\n",
       "      <td>-0.043455</td>\n",
       "      <td>0.019740</td>\n",
       "      <td>-0.011736</td>\n",
       "      <td>-0.291624</td>\n",
       "      <td>-0.033580</td>\n",
       "      <td>0</td>\n",
       "    </tr>\n",
       "    <tr>\n",
       "      <th>3</th>\n",
       "      <td>-0.069376</td>\n",
       "      <td>0.044641</td>\n",
       "      <td>-0.181684</td>\n",
       "      <td>-0.140032</td>\n",
       "      <td>0.007477</td>\n",
       "      <td>-0.010915</td>\n",
       "      <td>-0.005599</td>\n",
       "      <td>-0.462971</td>\n",
       "      <td>-0.286746</td>\n",
       "      <td>-0.085266</td>\n",
       "      <td>...</td>\n",
       "      <td>0.010683</td>\n",
       "      <td>0.005384</td>\n",
       "      <td>-0.010840</td>\n",
       "      <td>0.001381</td>\n",
       "      <td>-0.042828</td>\n",
       "      <td>-0.350519</td>\n",
       "      <td>0.002969</td>\n",
       "      <td>-0.554685</td>\n",
       "      <td>-0.046823</td>\n",
       "      <td>0</td>\n",
       "    </tr>\n",
       "    <tr>\n",
       "      <th>4</th>\n",
       "      <td>0.236424</td>\n",
       "      <td>-0.051912</td>\n",
       "      <td>0.678337</td>\n",
       "      <td>-0.014680</td>\n",
       "      <td>0.007879</td>\n",
       "      <td>-0.016047</td>\n",
       "      <td>0.057418</td>\n",
       "      <td>0.097183</td>\n",
       "      <td>0.423405</td>\n",
       "      <td>0.076880</td>\n",
       "      <td>...</td>\n",
       "      <td>0.010970</td>\n",
       "      <td>0.025295</td>\n",
       "      <td>-0.011056</td>\n",
       "      <td>-0.022535</td>\n",
       "      <td>-0.035892</td>\n",
       "      <td>-0.181557</td>\n",
       "      <td>-0.015623</td>\n",
       "      <td>-0.027841</td>\n",
       "      <td>-0.023694</td>\n",
       "      <td>0</td>\n",
       "    </tr>\n",
       "  </tbody>\n",
       "</table>\n",
       "<p>5 rows × 65 columns</p>\n",
       "</div>"
      ],
      "text/plain": [
       "      Attr1     Attr2     Attr3     Attr4     Attr5     Attr6     Attr7  \\\n",
       "0 -0.031545 -0.091313 -0.040269 -0.013529  0.007406 -0.016047 -0.000264   \n",
       "1 -0.231729 -0.049448  0.304381 -0.080975  0.007515 -0.016047 -0.034963   \n",
       "2 -0.058602  0.065060 -0.488404 -0.189489  0.006572 -0.016047 -0.004954   \n",
       "3 -0.069376  0.044641 -0.181684 -0.140032  0.007477 -0.010915 -0.005599   \n",
       "4  0.236424 -0.051912  0.678337 -0.014680  0.007879 -0.016047  0.057418   \n",
       "\n",
       "      Attr8     Attr9    Attr10  ...    Attr56    Attr57    Attr58    Attr59  \\\n",
       "0  0.641242 -0.748385  0.126789  ...  0.014367  0.005457 -0.014143 -0.020924   \n",
       "1  0.074710  0.469815  0.073759  ...  0.008492 -0.008385 -0.008666 -0.023095   \n",
       "2 -0.456287  0.270351 -0.071287  ...  0.010819  0.006779 -0.009437 -0.007919   \n",
       "3 -0.462971 -0.286746 -0.085266  ...  0.010683  0.005384 -0.010840  0.001381   \n",
       "4  0.097183  0.423405  0.076880  ...  0.010970  0.025295 -0.011056 -0.022535   \n",
       "\n",
       "     Attr60    Attr61    Attr62    Attr63    Attr64  class  \n",
       "0  0.068399 -0.214478 -0.013915 -0.173939 -0.046788      0  \n",
       "1 -0.033498 -0.205796 -0.015174 -0.073056 -0.027236      0  \n",
       "2 -0.043455  0.019740 -0.011736 -0.291624 -0.033580      0  \n",
       "3 -0.042828 -0.350519  0.002969 -0.554685 -0.046823      0  \n",
       "4 -0.035892 -0.181557 -0.015623 -0.027841 -0.023694      0  \n",
       "\n",
       "[5 rows x 65 columns]"
      ]
     },
     "execution_count": 4,
     "metadata": {},
     "output_type": "execute_result"
    }
   ],
   "source": [
    "bankruptcy_train.head()"
   ]
  },
  {
   "cell_type": "code",
   "execution_count": 5,
   "metadata": {
    "scrolled": false
   },
   "outputs": [
    {
     "data": {
      "text/plain": [
       "(10000, 65)"
      ]
     },
     "execution_count": 5,
     "metadata": {},
     "output_type": "execute_result"
    }
   ],
   "source": [
    "bankruptcy_train.shape"
   ]
  },
  {
   "cell_type": "code",
   "execution_count": 6,
   "metadata": {},
   "outputs": [],
   "source": [
    "# Bloew are the formulas behind each attributes:\n",
    "#Attr1\tnet profit / total assets\n",
    "#Attr2\ttotal liabilities / total assets\n",
    "#Attr3\tworking capital / total assets\n",
    "#Attr4\tcurrent assets / short-term liabilities\n",
    "#Attr5\t[(cash + short-term securities + receivables - short-term liabilities) / (operating expenses - depreciation)] * 365\n",
    "#Attr6\tretained earnings / total assets\n",
    "#Attr7\tEBIT / total assets\n",
    "#Attr8\tbook value of equity / total liabilities\n",
    "#Attr9\tsales / total assets\n",
    "#Attr10\tequity / total assets\n",
    "#Attr11\t(gross profit + extraordinary items + financial expenses) / total assets\n",
    "#Attr12\tgross profit / short-term liabilities\n",
    "#Attr13\t(gross profit + depreciation) / sales\n",
    "#Attr14\t(gross profit + interest) / total assets\n",
    "#Attr15\t(total liabilities * 365) / (gross profit + depreciation)\n",
    "#Attr16\t(gross profit + depreciation) / total liabilities\n",
    "#Attr17\ttotal assets / total liabilities\n",
    "#Attr18\tgross profit / total assets\n",
    "#Attr19\tgross profit / sales\n",
    "#Attr20\t(inventory * 365) / sales\n",
    "#Attr21\tsales (n) / sales (n-1)\n",
    "#Attr22\tprofit on operating activities / total assets\n",
    "#Attr23\tnet profit / sales\n",
    "#Attr24\tgross profit (in 3 years) / total assets\n",
    "#Attr25\t(equity - share capital) / total assets\n",
    "#Attr26\t(net profit + depreciation) / total liabilities\n",
    "#Attr27\tprofit on operating activities / financial expenses\n",
    "#Attr28\tworking capital / fixed assets\n",
    "#Attr29\tlogarithm of total assets\n",
    "#Attr30\t(total liabilities - cash) / sales\n",
    "#Attr31\t(gross profit + interest) / sales\n",
    "#Attr32\t(current liabilities * 365) / cost of products sold\n",
    "#Attr33\toperating expenses / short-term liabilities\n",
    "#Attr34\toperating expenses / total liabilities\n",
    "#Attr35\tprofit on sales / total assets\n",
    "#Attr36\ttotal sales / total assets\n",
    "#Attr37\t(current assets - inventories) / long-term liabilities\n",
    "#Attr38\tconstant capital / total assets\n",
    "#Attr39\tprofit on sales / sales\n",
    "#Attr40\t(current assets - inventory - receivables) / short-term liabilities\n",
    "#Attr41\ttotal liabilities / ((profit on operating activities + depreciation) * (12/365))\n",
    "#Attr42\tprofit on operating activities / sales\n",
    "#Attr43\trotation receivables + inventory turnover in days\n",
    "#Attr44\t(receivables * 365) / sales\n",
    "#Attr45\tnet profit / inventory\n",
    "#Attr46\t(current assets - inventory) / short-term liabilities\n",
    "#Attr47\t(inventory * 365) / cost of products sold\n",
    "#Attr48\tEBITDA (profit on operating activities - depreciation) / total assets\n",
    "#Attr49\tEBITDA (profit on operating activities - depreciation) / sales\n",
    "#Attr50\tcurrent assets / total liabilities\n",
    "#Attr51\tshort-term liabilities / total assets\n",
    "#Attr52\t(short-term liabilities * 365) / cost of products sold)\n",
    "#Attr53\tequity / fixed assets\n",
    "#Attr54\tconstant capital / fixed assets\n",
    "#Attr55\tworking capital\n",
    "#Attr56\t(sales - cost of products sold) / sales\n",
    "#Attr57\t(current assets - inventory - short-term liabilities) / (sales - gross profit - depreciation)\n",
    "#Attr58\ttotal costs /total sales\n",
    "#Attr59\tlong-term liabilities / equity\n",
    "#Attr60\tsales / inventory\n",
    "#Attr61\tsales / receivables\n",
    "#Attr62\t(short-term liabilities *365) / sales\n",
    "#Attr63\tsales / short-term liabilities\n",
    "#Attr64\tsales / fixed assets"
   ]
  },
  {
   "cell_type": "markdown",
   "metadata": {},
   "source": [
    "### Clean data"
   ]
  },
  {
   "cell_type": "code",
   "execution_count": 7,
   "metadata": {},
   "outputs": [],
   "source": [
    "# Drop the columns that can not be created in \"Fundamental\" dataset, where we are going to aplly model.\n",
    "bankruptcy_train = bankruptcy_train.drop(['Attr5','Attr11','Attr21','Attr24','Attr25','Attr27','Attr29',\n",
    "                                          'Attr33','Attr34','Attr35','Attr38','Attr39','Attr43','Attr54','Attr55','Attr58'], axis=1)"
   ]
  },
  {
   "cell_type": "code",
   "execution_count": 8,
   "metadata": {},
   "outputs": [
    {
     "name": "stdout",
     "output_type": "stream",
     "text": [
      "<class 'pandas.core.frame.DataFrame'>\n",
      "RangeIndex: 10000 entries, 0 to 9999\n",
      "Data columns (total 49 columns):\n",
      "Attr1     10000 non-null float64\n",
      "Attr2     10000 non-null float64\n",
      "Attr3     10000 non-null float64\n",
      "Attr4     10000 non-null float64\n",
      "Attr6     10000 non-null float64\n",
      "Attr7     10000 non-null float64\n",
      "Attr8     10000 non-null float64\n",
      "Attr9     10000 non-null float64\n",
      "Attr10    10000 non-null float64\n",
      "Attr12    10000 non-null float64\n",
      "Attr13    10000 non-null float64\n",
      "Attr14    10000 non-null float64\n",
      "Attr15    10000 non-null float64\n",
      "Attr16    10000 non-null float64\n",
      "Attr17    10000 non-null float64\n",
      "Attr18    10000 non-null float64\n",
      "Attr19    10000 non-null float64\n",
      "Attr20    10000 non-null float64\n",
      "Attr22    10000 non-null float64\n",
      "Attr23    10000 non-null float64\n",
      "Attr26    10000 non-null float64\n",
      "Attr28    10000 non-null float64\n",
      "Attr30    10000 non-null float64\n",
      "Attr31    10000 non-null float64\n",
      "Attr32    10000 non-null float64\n",
      "Attr36    10000 non-null float64\n",
      "Attr37    10000 non-null float64\n",
      "Attr40    10000 non-null float64\n",
      "Attr41    10000 non-null float64\n",
      "Attr42    10000 non-null float64\n",
      "Attr44    10000 non-null float64\n",
      "Attr45    10000 non-null float64\n",
      "Attr46    10000 non-null float64\n",
      "Attr47    10000 non-null float64\n",
      "Attr48    10000 non-null float64\n",
      "Attr49    10000 non-null float64\n",
      "Attr50    10000 non-null float64\n",
      "Attr51    10000 non-null float64\n",
      "Attr52    10000 non-null float64\n",
      "Attr53    10000 non-null float64\n",
      "Attr56    10000 non-null float64\n",
      "Attr57    10000 non-null float64\n",
      "Attr59    10000 non-null float64\n",
      "Attr60    10000 non-null float64\n",
      "Attr61    10000 non-null float64\n",
      "Attr62    10000 non-null float64\n",
      "Attr63    10000 non-null float64\n",
      "Attr64    10000 non-null float64\n",
      "class     10000 non-null int64\n",
      "dtypes: float64(48), int64(1)\n",
      "memory usage: 3.7 MB\n"
     ]
    }
   ],
   "source": [
    "bankruptcy_train.info()"
   ]
  },
  {
   "cell_type": "code",
   "execution_count": 9,
   "metadata": {},
   "outputs": [
    {
     "name": "stdout",
     "output_type": "stream",
     "text": [
      "0    9797\n",
      "1     203\n",
      "Name: class, dtype: int64\n",
      "0    0.9797\n",
      "1    0.0203\n",
      "Name: class, dtype: float64\n"
     ]
    }
   ],
   "source": [
    "# Count the occurrences of bankruptcy and no bankruptcy\n",
    "occ = bankruptcy_train['class'].value_counts()\n",
    "print(occ)\n",
    "\n",
    "# Print the ratio of bankruptcy cases\n",
    "print(occ / len(bankruptcy_train.index))"
   ]
  },
  {
   "cell_type": "markdown",
   "metadata": {},
   "source": [
    "### Data Exploratory"
   ]
  },
  {
   "cell_type": "code",
   "execution_count": 10,
   "metadata": {},
   "outputs": [],
   "source": [
    "def plot_pairgrid(df):\n",
    "    \n",
    "    df = df[['Attr6', 'Attr9', 'Attr13', 'Attr16', 'Attr26', 'Attr46']]\n",
    "    g = sns.PairGrid(df)\n",
    "    g = g.map_offdiag(plt.scatter)\n",
    "    ax = g.map_diag(plt.hist)\n",
    "    \n",
    "    return ax"
   ]
  },
  {
   "cell_type": "code",
   "execution_count": 11,
   "metadata": {
    "scrolled": true
   },
   "outputs": [
    {
     "data": {
      "image/png": "[encoded data removed]",
      "text/plain": [
       "<Figure size 1080x1080 with 42 Axes>"
      ]
     },
     "metadata": {
      "needs_background": "light"
     },
     "output_type": "display_data"
    }
   ],
   "source": [
    "pg = plot_pairgrid(bankruptcy_train)"
   ]
  },
  {
   "cell_type": "markdown",
   "metadata": {},
   "source": [
    "##### Although bankruptcy companies may have higher sales, however, they usually have lower profitability."
   ]
  },
  {
   "cell_type": "code",
   "execution_count": 12,
   "metadata": {
    "scrolled": true
   },
   "outputs": [
    {
     "data": {
      "text/plain": [
       "<seaborn.axisgrid.FacetGrid at 0x1a1c693dd8>"
      ]
     },
     "execution_count": 12,
     "metadata": {},
     "output_type": "execute_result"
    },
    {
     "data": {
      "image/png": "[encoded data removed]",
      "text/plain": [
       "<Figure size 288x288 with 1 Axes>"
      ]
     },
     "metadata": {
      "needs_background": "light"
     },
     "output_type": "display_data"
    },
    {
     "data": {
      "image/png": "[encoded data removed]",
      "text/plain": [
       "<Figure size 288x288 with 1 Axes>"
      ]
     },
     "metadata": {
      "needs_background": "light"
     },
     "output_type": "display_data"
    },
    {
     "data": {
      "image/png": "[encoded data removed]",
      "text/plain": [
       "<Figure size 288x288 with 1 Axes>"
      ]
     },
     "metadata": {
      "needs_background": "light"
     },
     "output_type": "display_data"
    }
   ],
   "source": [
    "#Attr6\tretained earnings / total assets\n",
    "sns.factorplot('class','Attr6',data=bankruptcy_train,size=4)\n",
    "\n",
    "#Attr9\tsales / total assets\n",
    "sns.factorplot('class','Attr9',data=bankruptcy_train,size=4)\n",
    "\n",
    "#Attr13\t(gross profit + depreciation) / sales\n",
    "sns.factorplot('class','Attr13',data=bankruptcy_train,size=4)"
   ]
  },
  {
   "cell_type": "markdown",
   "metadata": {},
   "source": [
    "##### Bankruptcy companies usually have lower liquidity."
   ]
  },
  {
   "cell_type": "code",
   "execution_count": 13,
   "metadata": {},
   "outputs": [
    {
     "data": {
      "text/plain": [
       "<seaborn.axisgrid.FacetGrid at 0x1a1d180c88>"
      ]
     },
     "execution_count": 13,
     "metadata": {},
     "output_type": "execute_result"
    },
    {
     "data": {
      "image/png": "[encoded data removed]",
      "text/plain": [
       "<Figure size 288x288 with 1 Axes>"
      ]
     },
     "metadata": {
      "needs_background": "light"
     },
     "output_type": "display_data"
    },
    {
     "data": {
      "image/png": "[encoded data removed]",
      "text/plain": [
       "<Figure size 288x288 with 1 Axes>"
      ]
     },
     "metadata": {
      "needs_background": "light"
     },
     "output_type": "display_data"
    },
    {
     "data": {
      "image/png": "[encoded data removed]",
      "text/plain": [
       "<Figure size 288x288 with 1 Axes>"
      ]
     },
     "metadata": {
      "needs_background": "light"
     },
     "output_type": "display_data"
    }
   ],
   "source": [
    "#Attr16\t(gross profit + depreciation) / total liabilities\n",
    "sns.factorplot('class','Attr16',data=bankruptcy_train,size=4)\n",
    "\n",
    "#Attr26\t(net profit + depreciation) / total liabilities\n",
    "sns.factorplot('class','Attr26',data=bankruptcy_train,size=4)\n",
    "\n",
    "#Attr46\t(current assets - inventory) / short-term liabilities\n",
    "sns.factorplot('class','Attr46',data=bankruptcy_train,size=4)"
   ]
  },
  {
   "cell_type": "markdown",
   "metadata": {},
   "source": [
    "### SMOTE to deal with imbalance data"
   ]
  },
  {
   "cell_type": "code",
   "execution_count": 14,
   "metadata": {},
   "outputs": [
    {
     "name": "stdout",
     "output_type": "stream",
     "text": [
      "Shape of X: (10000, 48)\n",
      "Shape of y: (10000,)\n"
     ]
    }
   ],
   "source": [
    "X=bankruptcy_train.iloc[:,0:48]\n",
    "y=bankruptcy_train.iloc[:,48]\n",
    "print('Shape of X: {}'.format(X.shape))\n",
    "print('Shape of y: {}'.format(y.shape))"
   ]
  },
  {
   "cell_type": "code",
   "execution_count": 15,
   "metadata": {},
   "outputs": [
    {
     "name": "stdout",
     "output_type": "stream",
     "text": [
      "Number transactions X_train dataset:  (7000, 48)\n",
      "Number transactions y_train dataset:  (7000,)\n",
      "Number transactions X_test dataset:  (3000, 48)\n",
      "Number transactions y_test dataset:  (3000,)\n"
     ]
    }
   ],
   "source": [
    "X_train, X_test, y_train, y_test = train_test_split(X, y, test_size=0.3, random_state=0)\n",
    "\n",
    "print(\"Number transactions X_train dataset: \", X_train.shape)\n",
    "print(\"Number transactions y_train dataset: \", y_train.shape)\n",
    "print(\"Number transactions X_test dataset: \", X_test.shape)\n",
    "print(\"Number transactions y_test dataset: \", y_test.shape)"
   ]
  },
  {
   "cell_type": "code",
   "execution_count": 16,
   "metadata": {},
   "outputs": [
    {
     "name": "stdout",
     "output_type": "stream",
     "text": [
      "Before OverSampling, counts of label '1': 130\n",
      "Before OverSampling, counts of label '0': 6870 \n",
      "\n",
      "After OverSampling, the shape of train_X: (13740, 48)\n",
      "After OverSampling, the shape of train_y: (13740,) \n",
      "\n",
      "After OverSampling, counts of label '1': 6870\n",
      "After OverSampling, counts of label '0': 6870\n"
     ]
    }
   ],
   "source": [
    "print(\"Before OverSampling, counts of label '1': {}\".format(sum(y_train==1)))\n",
    "print(\"Before OverSampling, counts of label '0': {} \\n\".format(sum(y_train==0)))\n",
    "\n",
    "sm = SMOTE(random_state=2)\n",
    "X_train_res, y_train_res = sm.fit_sample(X_train, y_train.ravel())\n",
    "\n",
    "print('After OverSampling, the shape of train_X: {}'.format(X_train_res.shape))\n",
    "print('After OverSampling, the shape of train_y: {} \\n'.format(y_train_res.shape))\n",
    "\n",
    "print(\"After OverSampling, counts of label '1': {}\".format(sum(y_train_res==1)))\n",
    "print(\"After OverSampling, counts of label '0': {}\".format(sum(y_train_res==0)))"
   ]
  },
  {
   "cell_type": "markdown",
   "metadata": {},
   "source": [
    "### Logistic Regression Model"
   ]
  },
  {
   "cell_type": "code",
   "execution_count": 17,
   "metadata": {},
   "outputs": [
    {
     "name": "stdout",
     "output_type": "stream",
     "text": [
      "Fitting 5 folds for each of 10 candidates, totalling 50 fits\n"
     ]
    },
    {
     "name": "stderr",
     "output_type": "stream",
     "text": [
      "[Parallel(n_jobs=3)]: Using backend LokyBackend with 3 concurrent workers.\n",
      "[Parallel(n_jobs=3)]: Done  12 tasks      | elapsed:    4.7s\n",
      "[Parallel(n_jobs=3)]: Done  50 out of  50 | elapsed:   14.6s finished\n"
     ]
    },
    {
     "data": {
      "text/plain": [
       "GridSearchCV(cv=5, error_score='raise-deprecating',\n",
       "       estimator=LogisticRegression(C=1.0, class_weight=None, dual=False, fit_intercept=True,\n",
       "          intercept_scaling=1, max_iter=100, multi_class='warn',\n",
       "          n_jobs=None, penalty='l2', random_state=None, solver='warn',\n",
       "          tol=0.0001, verbose=0, warm_start=False),\n",
       "       fit_params=None, iid='warn', n_jobs=3,\n",
       "       param_grid={'C': array([ 1.,  2.,  3.,  4.,  5.,  6.,  7.,  8.,  9., 10.])},\n",
       "       pre_dispatch='2*n_jobs', refit=True, return_train_score='warn',\n",
       "       scoring=None, verbose=5)"
      ]
     },
     "execution_count": 17,
     "metadata": {},
     "output_type": "execute_result"
    }
   ],
   "source": [
    "lr = LogisticRegression()\n",
    "# tuning the parameters\n",
    "parameters = {'C': np.linspace(1, 10, 10)}\n",
    "clf = GridSearchCV(lr, parameters, cv=5, verbose=5, n_jobs=3)\n",
    "clf.fit(X_train_res, y_train_res.ravel())"
   ]
  },
  {
   "cell_type": "code",
   "execution_count": 18,
   "metadata": {},
   "outputs": [
    {
     "data": {
      "text/plain": [
       "{'C': 2.0}"
      ]
     },
     "execution_count": 18,
     "metadata": {},
     "output_type": "execute_result"
    }
   ],
   "source": [
    "clf.best_params_"
   ]
  },
  {
   "cell_type": "code",
   "execution_count": 19,
   "metadata": {
    "scrolled": true
   },
   "outputs": [
    {
     "name": "stdout",
     "output_type": "stream",
     "text": [
      "[LibLinear]"
     ]
    },
    {
     "data": {
      "text/plain": [
       "LogisticRegression(C=2, class_weight=None, dual=False, fit_intercept=True,\n",
       "          intercept_scaling=1, max_iter=100, multi_class='warn',\n",
       "          n_jobs=None, penalty='l1', random_state=None, solver='warn',\n",
       "          tol=0.0001, verbose=5, warm_start=False)"
      ]
     },
     "execution_count": 19,
     "metadata": {},
     "output_type": "execute_result"
    }
   ],
   "source": [
    "lr1 = LogisticRegression(C=2,penalty='l1', verbose=5)\n",
    "lr1.fit(X_train_res, y_train_res)"
   ]
  },
  {
   "cell_type": "code",
   "execution_count": 20,
   "metadata": {},
   "outputs": [],
   "source": [
    "import itertools\n",
    "\n",
    "def plot_confusion_matrix(cm, classes,\n",
    "                          normalize=False,\n",
    "                          title='Confusion matrix',\n",
    "                          cmap=plt.cm.Blues):\n",
    "    \"\"\"\n",
    "    This function prints and plots the confusion matrix.\n",
    "    Normalization can be applied by setting `normalize=True`.\n",
    "    \"\"\"\n",
    "    plt.imshow(cm, interpolation='nearest', cmap=cmap)\n",
    "    plt.title(title)\n",
    "    plt.colorbar()\n",
    "    tick_marks = np.arange(len(classes))\n",
    "    plt.xticks(tick_marks, classes, rotation=0)\n",
    "    plt.yticks(tick_marks, classes)\n",
    "\n",
    "    if normalize:\n",
    "        cm = cm.astype('float') / cm.sum(axis=1)[:, np.newaxis]\n",
    "        #print(\"Normalized confusion matrix\")\n",
    "    else:\n",
    "        1#print('Confusion matrix, without normalization')\n",
    "\n",
    "    #print(cm)\n",
    "\n",
    "    thresh = cm.max() / 2.\n",
    "    for i, j in itertools.product(range(cm.shape[0]), range(cm.shape[1])):\n",
    "        plt.text(j, i, cm[i, j],\n",
    "                 horizontalalignment=\"center\",\n",
    "                 color=\"white\" if cm[i, j] > thresh else \"black\")\n",
    "\n",
    "    plt.tight_layout()\n",
    "    plt.ylabel('True label')\n",
    "    plt.xlabel('Predicted label')"
   ]
  },
  {
   "cell_type": "code",
   "execution_count": 21,
   "metadata": {
    "scrolled": true
   },
   "outputs": [
    {
     "name": "stdout",
     "output_type": "stream",
     "text": [
      "Recall metric in the train dataset: 86.15384615384616%\n"
     ]
    },
    {
     "data": {
      "image/png": "[encoded data removed]",
      "text/plain": [
       "<Figure size 432x288 with 2 Axes>"
      ]
     },
     "metadata": {
      "needs_background": "light"
     },
     "output_type": "display_data"
    }
   ],
   "source": [
    "y_train_pre = lr1.predict(X_train)\n",
    "cnf_matrix_tra = confusion_matrix(y_train, y_train_pre)\n",
    "\n",
    "print(\"Recall metric in the train dataset: {}%\".format(100*cnf_matrix_tra[1,1]/(cnf_matrix_tra[1,0]+cnf_matrix_tra[1,1])))\n",
    "# Plot non-normalized confusion matrix\n",
    "class_names = [0,1]\n",
    "plt.figure()\n",
    "plot_confusion_matrix(cnf_matrix_tra , classes=class_names, title='Confusion matrix')\n",
    "plt.show()"
   ]
  },
  {
   "cell_type": "code",
   "execution_count": 22,
   "metadata": {
    "scrolled": false
   },
   "outputs": [
    {
     "name": "stdout",
     "output_type": "stream",
     "text": [
      "Recall metric in the testing dataset: 83.56164383561644%\n"
     ]
    },
    {
     "data": {
      "image/png": "[encoded data removed]",
      "text/plain": [
       "<Figure size 432x288 with 2 Axes>"
      ]
     },
     "metadata": {
      "needs_background": "light"
     },
     "output_type": "display_data"
    }
   ],
   "source": [
    "y_pre = lr1.predict(X_test)\n",
    "cnf_matrix = confusion_matrix(y_test, y_pre)\n",
    "\n",
    "print(\"Recall metric in the testing dataset: {}%\".format(100*cnf_matrix[1,1]/(cnf_matrix[1,0]+cnf_matrix[1,1])))\n",
    "# Plot non-normalized confusion matrix\n",
    "class_names = [0,1]\n",
    "plt.figure()\n",
    "plot_confusion_matrix(cnf_matrix , classes=class_names, title='Confusion matrix')\n",
    "plt.show()"
   ]
  },
  {
   "cell_type": "code",
   "execution_count": 23,
   "metadata": {
    "scrolled": true
   },
   "outputs": [
    {
     "name": "stdout",
     "output_type": "stream",
     "text": [
      "Logistic Regression Accuracy: 0.746\n",
      "Logistic Regression Precision: 0.0752157829839704\n",
      "Logistic Regression Recall: 0.8356164383561644\n"
     ]
    }
   ],
   "source": [
    "lr_accuracy_score_smote = metrics.accuracy_score(y_test, y_pre)\n",
    "print(\"Logistic Regression Accuracy:\", lr_accuracy_score_smote)\n",
    "\n",
    "lr_precision_score_smote = metrics.precision_score(y_test, y_pre)\n",
    "print(\"Logistic Regression Precision:\", lr_precision_score_smote)\n",
    "\n",
    "lr_recall_score_smote = metrics.recall_score(y_test, y_pre)\n",
    "print(\"Logistic Regression Recall:\", lr_recall_score_smote)"
   ]
  },
  {
   "cell_type": "code",
   "execution_count": 24,
   "metadata": {},
   "outputs": [
    {
     "name": "stdout",
     "output_type": "stream",
     "text": [
      "              precision    recall  f1-score   support\n",
      "\n",
      "           0       0.99      0.74      0.85      2927\n",
      "           1       0.08      0.84      0.14        73\n",
      "\n",
      "   micro avg       0.75      0.75      0.75      3000\n",
      "   macro avg       0.53      0.79      0.49      3000\n",
      "weighted avg       0.97      0.75      0.83      3000\n",
      "\n"
     ]
    }
   ],
   "source": [
    "print(classification_report(y_test, y_pre))"
   ]
  },
  {
   "cell_type": "markdown",
   "metadata": {},
   "source": [
    "### Decision Tree Classifier Model"
   ]
  },
  {
   "cell_type": "code",
   "execution_count": 25,
   "metadata": {},
   "outputs": [
    {
     "data": {
      "text/plain": [
       "{'max_depth': 5, 'min_samples_leaf': 0.04}"
      ]
     },
     "execution_count": 25,
     "metadata": {},
     "output_type": "execute_result"
    }
   ],
   "source": [
    "dt = DecisionTreeClassifier()\n",
    "# tuning the parameters\n",
    "parameters = {'max_depth': [2,3,4,5], 'min_samples_leaf':[0.04,0.06,0.08,0.1]}\n",
    "dt = GridSearchCV(dt, parameters, cv=5)\n",
    "dt.fit(X_train_res, y_train_res)\n",
    "dt.best_params_"
   ]
  },
  {
   "cell_type": "code",
   "execution_count": 26,
   "metadata": {},
   "outputs": [
    {
     "data": {
      "text/plain": [
       "DecisionTreeClassifier(class_weight=None, criterion='gini', max_depth=5,\n",
       "            max_features=None, max_leaf_nodes=None,\n",
       "            min_impurity_decrease=0.0, min_impurity_split=None,\n",
       "            min_samples_leaf=0.04, min_samples_split=2,\n",
       "            min_weight_fraction_leaf=0.0, presort=False, random_state=None,\n",
       "            splitter='best')"
      ]
     },
     "execution_count": 26,
     "metadata": {},
     "output_type": "execute_result"
    }
   ],
   "source": [
    "dt1 = DecisionTreeClassifier(max_depth = 5, min_samples_leaf = 0.04) \n",
    "dt1.fit(X_train_res, y_train_res)  "
   ]
  },
  {
   "cell_type": "code",
   "execution_count": 27,
   "metadata": {},
   "outputs": [
    {
     "name": "stdout",
     "output_type": "stream",
     "text": [
      "Recall metric in the train dataset: 83.84615384615384%\n"
     ]
    },
    {
     "data": {
      "image/png": "[encoded data removed]",
      "text/plain": [
       "<Figure size 432x288 with 2 Axes>"
      ]
     },
     "metadata": {
      "needs_background": "light"
     },
     "output_type": "display_data"
    }
   ],
   "source": [
    "y_train_pre = dt1.predict(X_train)\n",
    "cnf_matrix_tra = confusion_matrix(y_train, y_train_pre)\n",
    "\n",
    "print(\"Recall metric in the train dataset: {}%\".format(100*cnf_matrix_tra[1,1]/(cnf_matrix_tra[1,0]+cnf_matrix_tra[1,1])))\n",
    "# Plot non-normalized confusion matrix\n",
    "class_names = [0,1]\n",
    "plt.figure()\n",
    "plot_confusion_matrix(cnf_matrix_tra , classes=class_names, title='Confusion matrix')\n",
    "plt.show()"
   ]
  },
  {
   "cell_type": "code",
   "execution_count": 28,
   "metadata": {
    "scrolled": true
   },
   "outputs": [
    {
     "name": "stdout",
     "output_type": "stream",
     "text": [
      "Recall metric in the testing dataset: 71.23287671232876%\n"
     ]
    },
    {
     "data": {
      "image/png": "[encoded data removed]",
      "text/plain": [
       "<Figure size 432x288 with 2 Axes>"
      ]
     },
     "metadata": {
      "needs_background": "light"
     },
     "output_type": "display_data"
    }
   ],
   "source": [
    "y_pre = dt1.predict(X_test)\n",
    "cnf_matrix = confusion_matrix(y_test, y_pre)\n",
    "\n",
    "print(\"Recall metric in the testing dataset: {}%\".format(100*cnf_matrix[1,1]/(cnf_matrix[1,0]+cnf_matrix[1,1])))\n",
    "# Plot non-normalized confusion matrix\n",
    "class_names = [0,1]\n",
    "plt.figure()\n",
    "plot_confusion_matrix(cnf_matrix , classes=class_names, title='Confusion matrix')\n",
    "plt.show()"
   ]
  },
  {
   "cell_type": "code",
   "execution_count": 29,
   "metadata": {
    "scrolled": true
   },
   "outputs": [
    {
     "name": "stdout",
     "output_type": "stream",
     "text": [
      "Decision Tree Classifier Accuracy: 0.6933333333333334\n",
      "Decision Tree Classifier Precision: 0.054679284963196635\n",
      "Decision Tree Classifier Recall: 0.7123287671232876\n"
     ]
    }
   ],
   "source": [
    "dt_accuracy_score_smote = metrics.accuracy_score(y_test, y_pre)\n",
    "print(\"Decision Tree Classifier Accuracy:\", dt_accuracy_score_smote)\n",
    "\n",
    "dt_precision_score_smote = metrics.precision_score(y_test, y_pre)\n",
    "print(\"Decision Tree Classifier Precision:\", dt_precision_score_smote)\n",
    "\n",
    "dt_recall_score_smote = metrics.recall_score(y_test, y_pre)\n",
    "print(\"Decision Tree Classifier Recall:\", dt_recall_score_smote)"
   ]
  },
  {
   "cell_type": "markdown",
   "metadata": {},
   "source": [
    "### Random Forest Classifier Model"
   ]
  },
  {
   "cell_type": "code",
   "execution_count": 30,
   "metadata": {
    "scrolled": true
   },
   "outputs": [
    {
     "data": {
      "text/plain": [
       "RandomForestClassifier(bootstrap=True, class_weight=None, criterion='gini',\n",
       "            max_depth=None, max_features='auto', max_leaf_nodes=None,\n",
       "            min_impurity_decrease=0.0, min_impurity_split=None,\n",
       "            min_samples_leaf=1, min_samples_split=2,\n",
       "            min_weight_fraction_leaf=0.0, n_estimators=500, n_jobs=None,\n",
       "            oob_score=False, random_state=None, verbose=0,\n",
       "            warm_start=False)"
      ]
     },
     "execution_count": 30,
     "metadata": {},
     "output_type": "execute_result"
    }
   ],
   "source": [
    "rf = RandomForestClassifier(n_estimators=500)\n",
    "rf.fit(X_train_res, y_train_res)"
   ]
  },
  {
   "cell_type": "code",
   "execution_count": 31,
   "metadata": {},
   "outputs": [
    {
     "name": "stdout",
     "output_type": "stream",
     "text": [
      "Recall metric in the train dataset: 100.0%\n"
     ]
    },
    {
     "data": {
      "image/png": "[encoded data removed]",
      "text/plain": [
       "<Figure size 432x288 with 2 Axes>"
      ]
     },
     "metadata": {
      "needs_background": "light"
     },
     "output_type": "display_data"
    }
   ],
   "source": [
    "y_train_pre = rf.predict(X_train)\n",
    "cnf_matrix_tra = confusion_matrix(y_train, y_train_pre)\n",
    "\n",
    "print(\"Recall metric in the train dataset: {}%\".format(100*cnf_matrix_tra[1,1]/(cnf_matrix_tra[1,0]+cnf_matrix_tra[1,1])))\n",
    "# Plot non-normalized confusion matrix\n",
    "class_names = [0,1]\n",
    "plt.figure()\n",
    "plot_confusion_matrix(cnf_matrix_tra , classes=class_names, title='Confusion matrix')\n",
    "plt.show()"
   ]
  },
  {
   "cell_type": "code",
   "execution_count": 32,
   "metadata": {},
   "outputs": [
    {
     "name": "stdout",
     "output_type": "stream",
     "text": [
      "Recall metric in the testing dataset: 16.438356164383563%\n"
     ]
    },
    {
     "data": {
      "image/png": "[encoded data removed]",
      "text/plain": [
       "<Figure size 432x288 with 2 Axes>"
      ]
     },
     "metadata": {
      "needs_background": "light"
     },
     "output_type": "display_data"
    }
   ],
   "source": [
    "y_pre = rf.predict(X_test)\n",
    "cnf_matrix = confusion_matrix(y_test, y_pre)\n",
    "\n",
    "print(\"Recall metric in the testing dataset: {}%\".format(100*cnf_matrix[1,1]/(cnf_matrix[1,0]+cnf_matrix[1,1])))\n",
    "# Plot non-normalized confusion matrix\n",
    "class_names = [0,1]\n",
    "plt.figure()\n",
    "plot_confusion_matrix(cnf_matrix , classes=class_names, title='Confusion matrix')\n",
    "plt.show()"
   ]
  },
  {
   "cell_type": "code",
   "execution_count": 33,
   "metadata": {},
   "outputs": [
    {
     "name": "stdout",
     "output_type": "stream",
     "text": [
      "Random Forest Classifier Accuracy: 0.967\n",
      "Random Forest Classifier Precision: 0.24\n",
      "Random Forest Classifier Recall: 0.1643835616438356\n"
     ]
    }
   ],
   "source": [
    "rf_accuracy_score_smote = metrics.accuracy_score(y_test, y_pre)\n",
    "print(\"Random Forest Classifier Accuracy:\", rf_accuracy_score_smote)\n",
    "\n",
    "rf_precision_score_smote = metrics.precision_score(y_test, y_pre)\n",
    "print(\"Random Forest Classifier Precision:\", rf_precision_score_smote)\n",
    "\n",
    "rf_recall_score_smote = metrics.recall_score(y_test, y_pre)\n",
    "print(\"Random Forest Classifier Recall:\", rf_recall_score_smote)"
   ]
  },
  {
   "cell_type": "code",
   "execution_count": 34,
   "metadata": {
    "scrolled": true
   },
   "outputs": [
    {
     "data": {
      "text/html": [
       "<div>\n",
       "<style scoped>\n",
       "    .dataframe tbody tr th:only-of-type {\n",
       "        vertical-align: middle;\n",
       "    }\n",
       "\n",
       "    .dataframe tbody tr th {\n",
       "        vertical-align: top;\n",
       "    }\n",
       "\n",
       "    .dataframe thead th {\n",
       "        text-align: right;\n",
       "    }\n",
       "</style>\n",
       "<table border=\"1\" class=\"dataframe\">\n",
       "  <thead>\n",
       "    <tr style=\"text-align: right;\">\n",
       "      <th></th>\n",
       "      <th>importance</th>\n",
       "    </tr>\n",
       "    <tr>\n",
       "      <th>feature</th>\n",
       "      <th></th>\n",
       "    </tr>\n",
       "  </thead>\n",
       "  <tbody>\n",
       "    <tr>\n",
       "      <th>Attr26</th>\n",
       "      <td>0.059</td>\n",
       "    </tr>\n",
       "    <tr>\n",
       "      <th>Attr6</th>\n",
       "      <td>0.050</td>\n",
       "    </tr>\n",
       "    <tr>\n",
       "      <th>Attr13</th>\n",
       "      <td>0.048</td>\n",
       "    </tr>\n",
       "    <tr>\n",
       "      <th>Attr16</th>\n",
       "      <td>0.045</td>\n",
       "    </tr>\n",
       "    <tr>\n",
       "      <th>Attr9</th>\n",
       "      <td>0.037</td>\n",
       "    </tr>\n",
       "    <tr>\n",
       "      <th>Attr2</th>\n",
       "      <td>0.035</td>\n",
       "    </tr>\n",
       "    <tr>\n",
       "      <th>Attr46</th>\n",
       "      <td>0.034</td>\n",
       "    </tr>\n",
       "    <tr>\n",
       "      <th>Attr15</th>\n",
       "      <td>0.025</td>\n",
       "    </tr>\n",
       "    <tr>\n",
       "      <th>Attr41</th>\n",
       "      <td>0.023</td>\n",
       "    </tr>\n",
       "    <tr>\n",
       "      <th>Attr59</th>\n",
       "      <td>0.023</td>\n",
       "    </tr>\n",
       "  </tbody>\n",
       "</table>\n",
       "</div>"
      ],
      "text/plain": [
       "         importance\n",
       "feature            \n",
       "Attr26        0.059\n",
       "Attr6         0.050\n",
       "Attr13        0.048\n",
       "Attr16        0.045\n",
       "Attr9         0.037\n",
       "Attr2         0.035\n",
       "Attr46        0.034\n",
       "Attr15        0.025\n",
       "Attr41        0.023\n",
       "Attr59        0.023"
      ]
     },
     "execution_count": 34,
     "metadata": {},
     "output_type": "execute_result"
    }
   ],
   "source": [
    "# Feature Importance\n",
    "importances = pd.DataFrame({'feature':X_train.columns,'importance':np.round(rf.feature_importances_,3)})\n",
    "importances = importances.sort_values('importance',ascending=False).set_index('feature')\n",
    "importances.head(10)"
   ]
  },
  {
   "cell_type": "markdown",
   "metadata": {},
   "source": [
    "### Just for fun! How SMOTE technique improved the model? What if we just use the original dataset?\n",
    "##### We are using the similar logic as above but with the original dataset, where SMOTE was not applied."
   ]
  },
  {
   "cell_type": "markdown",
   "metadata": {},
   "source": [
    "##### Logistic Regression Model - no smote"
   ]
  },
  {
   "cell_type": "code",
   "execution_count": 35,
   "metadata": {},
   "outputs": [
    {
     "name": "stdout",
     "output_type": "stream",
     "text": [
      "Fitting 5 folds for each of 10 candidates, totalling 50 fits\n"
     ]
    },
    {
     "name": "stderr",
     "output_type": "stream",
     "text": [
      "[Parallel(n_jobs=3)]: Using backend LokyBackend with 3 concurrent workers.\n",
      "[Parallel(n_jobs=3)]: Done  12 tasks      | elapsed:    1.3s\n",
      "[Parallel(n_jobs=3)]: Done  50 out of  50 | elapsed:    3.9s finished\n"
     ]
    },
    {
     "data": {
      "text/plain": [
       "GridSearchCV(cv=5, error_score='raise-deprecating',\n",
       "       estimator=LogisticRegression(C=1.0, class_weight=None, dual=False, fit_intercept=True,\n",
       "          intercept_scaling=1, max_iter=100, multi_class='warn',\n",
       "          n_jobs=None, penalty='l2', random_state=None, solver='warn',\n",
       "          tol=0.0001, verbose=0, warm_start=False),\n",
       "       fit_params=None, iid='warn', n_jobs=3,\n",
       "       param_grid={'C': array([ 1.,  2.,  3.,  4.,  5.,  6.,  7.,  8.,  9., 10.])},\n",
       "       pre_dispatch='2*n_jobs', refit=True, return_train_score='warn',\n",
       "       scoring=None, verbose=5)"
      ]
     },
     "execution_count": 35,
     "metadata": {},
     "output_type": "execute_result"
    }
   ],
   "source": [
    "lr3 = LogisticRegression()\n",
    "# tuning the parameters\n",
    "parameters = {'C': np.linspace(1, 10, 10)}\n",
    "clf = GridSearchCV(lr3, parameters, cv=5, verbose=5, n_jobs=3)\n",
    "clf.fit(X_train, y_train)"
   ]
  },
  {
   "cell_type": "code",
   "execution_count": 36,
   "metadata": {},
   "outputs": [
    {
     "data": {
      "text/plain": [
       "{'C': 8.0}"
      ]
     },
     "execution_count": 36,
     "metadata": {},
     "output_type": "execute_result"
    }
   ],
   "source": [
    "clf.best_params_"
   ]
  },
  {
   "cell_type": "code",
   "execution_count": 37,
   "metadata": {},
   "outputs": [
    {
     "name": "stdout",
     "output_type": "stream",
     "text": [
      "[LibLinear]"
     ]
    },
    {
     "data": {
      "text/plain": [
       "LogisticRegression(C=8, class_weight=None, dual=False, fit_intercept=True,\n",
       "          intercept_scaling=1, max_iter=100, multi_class='warn',\n",
       "          n_jobs=None, penalty='l1', random_state=None, solver='warn',\n",
       "          tol=0.0001, verbose=5, warm_start=False)"
      ]
     },
     "execution_count": 37,
     "metadata": {},
     "output_type": "execute_result"
    }
   ],
   "source": [
    "lr4 = LogisticRegression(C=8,penalty='l1', verbose=5)\n",
    "lr4.fit(X_train, y_train)"
   ]
  },
  {
   "cell_type": "code",
   "execution_count": 38,
   "metadata": {},
   "outputs": [],
   "source": [
    "import itertools\n",
    "\n",
    "def plot_confusion_matrix(cm, classes,\n",
    "                          normalize=False,\n",
    "                          title='Confusion matrix',\n",
    "                          cmap=plt.cm.Blues):\n",
    "    \"\"\"\n",
    "    This function prints and plots the confusion matrix.\n",
    "    Normalization can be applied by setting `normalize=True`.\n",
    "    \"\"\"\n",
    "    plt.imshow(cm, interpolation='nearest', cmap=cmap)\n",
    "    plt.title(title)\n",
    "    plt.colorbar()\n",
    "    tick_marks = np.arange(len(classes))\n",
    "    plt.xticks(tick_marks, classes, rotation=0)\n",
    "    plt.yticks(tick_marks, classes)\n",
    "\n",
    "    if normalize:\n",
    "        cm = cm.astype('float') / cm.sum(axis=1)[:, np.newaxis]\n",
    "        #print(\"Normalized confusion matrix\")\n",
    "    else:\n",
    "        1#print('Confusion matrix, without normalization')\n",
    "\n",
    "    #print(cm)\n",
    "\n",
    "    thresh = cm.max() / 2.\n",
    "    for i, j in itertools.product(range(cm.shape[0]), range(cm.shape[1])):\n",
    "        plt.text(j, i, cm[i, j],\n",
    "                 horizontalalignment=\"center\",\n",
    "                 color=\"white\" if cm[i, j] > thresh else \"black\")\n",
    "\n",
    "    plt.tight_layout()\n",
    "    plt.ylabel('True label')\n",
    "    plt.xlabel('Predicted label')"
   ]
  },
  {
   "cell_type": "code",
   "execution_count": 39,
   "metadata": {
    "scrolled": false
   },
   "outputs": [
    {
     "name": "stdout",
     "output_type": "stream",
     "text": [
      "Recall metric in the train dataset: 0.7692307692307693%\n"
     ]
    },
    {
     "data": {
      "image/png": "[encoded data removed]",
      "text/plain": [
       "<Figure size 432x288 with 2 Axes>"
      ]
     },
     "metadata": {
      "needs_background": "light"
     },
     "output_type": "display_data"
    }
   ],
   "source": [
    "y_train_pre = lr4.predict(X_train)\n",
    "cnf_matrix_tra = confusion_matrix(y_train, y_train_pre)\n",
    "\n",
    "print(\"Recall metric in the train dataset: {}%\".format(100*cnf_matrix_tra[1,1]/(cnf_matrix_tra[1,0]+cnf_matrix_tra[1,1])))\n",
    "# Plot non-normalized confusion matrix\n",
    "class_names = [0,1]\n",
    "plt.figure()\n",
    "plot_confusion_matrix(cnf_matrix_tra , classes=class_names, title='Confusion matrix')\n",
    "plt.show()"
   ]
  },
  {
   "cell_type": "code",
   "execution_count": 40,
   "metadata": {},
   "outputs": [
    {
     "name": "stdout",
     "output_type": "stream",
     "text": [
      "Recall metric in the testing dataset: 0.0%\n"
     ]
    },
    {
     "data": {
      "image/png": "[encoded data removed]",
      "text/plain": [
       "<Figure size 432x288 with 2 Axes>"
      ]
     },
     "metadata": {
      "needs_background": "light"
     },
     "output_type": "display_data"
    }
   ],
   "source": [
    "y_pre = lr4.predict(X_test)\n",
    "cnf_matrix = confusion_matrix(y_test, y_pre)\n",
    "\n",
    "print(\"Recall metric in the testing dataset: {}%\".format(100*cnf_matrix[1,1]/(cnf_matrix[1,0]+cnf_matrix[1,1])))\n",
    "# Plot non-normalized confusion matrix\n",
    "class_names = [0,1]\n",
    "plt.figure()\n",
    "plot_confusion_matrix(cnf_matrix , classes=class_names, title='Confusion matrix')\n",
    "plt.show()"
   ]
  },
  {
   "cell_type": "code",
   "execution_count": 41,
   "metadata": {},
   "outputs": [
    {
     "name": "stdout",
     "output_type": "stream",
     "text": [
      "Logistic Regression Accuracy (no smote): 0.973\n",
      "Logistic Regression Precision (no smote): 0.0\n",
      "Logistic Regression Recall (no smote): 0.0\n"
     ]
    }
   ],
   "source": [
    "lr_accuracy_score_nosmote = metrics.accuracy_score(y_test, y_pre)\n",
    "print(\"Logistic Regression Accuracy (no smote):\", lr_accuracy_score_nosmote)\n",
    "\n",
    "lr_precision_score_nosmote = metrics.precision_score(y_test, y_pre)\n",
    "print(\"Logistic Regression Precision (no smote):\", lr_precision_score_nosmote)\n",
    "\n",
    "lr_recall_score_nosmote = metrics.recall_score(y_test, y_pre)\n",
    "print(\"Logistic Regression Recall (no smote):\", lr_recall_score_nosmote)"
   ]
  },
  {
   "cell_type": "markdown",
   "metadata": {},
   "source": [
    "##### Decision Tree Classifier Model - no smote "
   ]
  },
  {
   "cell_type": "code",
   "execution_count": 42,
   "metadata": {},
   "outputs": [
    {
     "data": {
      "text/plain": [
       "{'max_depth': 2, 'min_samples_leaf': 0.04}"
      ]
     },
     "execution_count": 42,
     "metadata": {},
     "output_type": "execute_result"
    }
   ],
   "source": [
    "dt3 = DecisionTreeClassifier()\n",
    "# tuning the parameters\n",
    "parameters = {'max_depth': [2,3,4,5], 'min_samples_leaf':[0.04,0.06,0.08,0.1]}\n",
    "dt3 = GridSearchCV(dt3, parameters, cv=5)\n",
    "dt3.fit(X_train, y_train)\n",
    "dt3.best_params_"
   ]
  },
  {
   "cell_type": "code",
   "execution_count": 43,
   "metadata": {},
   "outputs": [
    {
     "data": {
      "text/plain": [
       "DecisionTreeClassifier(class_weight=None, criterion='gini', max_depth=2,\n",
       "            max_features=None, max_leaf_nodes=None,\n",
       "            min_impurity_decrease=0.0, min_impurity_split=None,\n",
       "            min_samples_leaf=0.04, min_samples_split=2,\n",
       "            min_weight_fraction_leaf=0.0, presort=False, random_state=None,\n",
       "            splitter='best')"
      ]
     },
     "execution_count": 43,
     "metadata": {},
     "output_type": "execute_result"
    }
   ],
   "source": [
    "dt4 = DecisionTreeClassifier(max_depth = 2, min_samples_leaf = 0.04) \n",
    "dt4.fit(X_train, y_train)  "
   ]
  },
  {
   "cell_type": "code",
   "execution_count": 44,
   "metadata": {},
   "outputs": [
    {
     "name": "stdout",
     "output_type": "stream",
     "text": [
      "Recall metric in the train dataset: 0.0%\n"
     ]
    },
    {
     "data": {
      "image/png": "[encoded data removed]",
      "text/plain": [
       "<Figure size 432x288 with 2 Axes>"
      ]
     },
     "metadata": {
      "needs_background": "light"
     },
     "output_type": "display_data"
    }
   ],
   "source": [
    "y_train_pre = dt4.predict(X_train)\n",
    "cnf_matrix_tra = confusion_matrix(y_train, y_train_pre)\n",
    "\n",
    "print(\"Recall metric in the train dataset: {}%\".format(100*cnf_matrix_tra[1,1]/(cnf_matrix_tra[1,0]+cnf_matrix_tra[1,1])))\n",
    "# Plot non-normalized confusion matrix\n",
    "class_names = [0,1]\n",
    "plt.figure()\n",
    "plot_confusion_matrix(cnf_matrix_tra , classes=class_names, title='Confusion matrix')\n",
    "plt.show()"
   ]
  },
  {
   "cell_type": "code",
   "execution_count": 45,
   "metadata": {
    "scrolled": true
   },
   "outputs": [
    {
     "name": "stdout",
     "output_type": "stream",
     "text": [
      "Recall metric in the testing dataset: 0.0%\n"
     ]
    },
    {
     "data": {
      "image/png": "[encoded data removed]",
      "text/plain": [
       "<Figure size 432x288 with 2 Axes>"
      ]
     },
     "metadata": {
      "needs_background": "light"
     },
     "output_type": "display_data"
    }
   ],
   "source": [
    "y_pre = dt4.predict(X_test)\n",
    "cnf_matrix = confusion_matrix(y_test, y_pre)\n",
    "\n",
    "print(\"Recall metric in the testing dataset: {}%\".format(100*cnf_matrix[1,1]/(cnf_matrix[1,0]+cnf_matrix[1,1])))\n",
    "# Plot non-normalized confusion matrix\n",
    "class_names = [0,1]\n",
    "plt.figure()\n",
    "plot_confusion_matrix(cnf_matrix , classes=class_names, title='Confusion matrix')\n",
    "plt.show()"
   ]
  },
  {
   "cell_type": "code",
   "execution_count": 46,
   "metadata": {},
   "outputs": [
    {
     "name": "stdout",
     "output_type": "stream",
     "text": [
      "Decision Tree Classifier Accuracy (no smote): 0.9756666666666667\n",
      "Decision Tree Classifier Precision (no smote): 0.0\n",
      "Decision Tree Classifier Recall (no smote): 0.0\n"
     ]
    }
   ],
   "source": [
    "dt_accuracy_score_nosmote = metrics.accuracy_score(y_test, y_pre)\n",
    "print(\"Decision Tree Classifier Accuracy (no smote):\", dt_accuracy_score_nosmote)\n",
    "\n",
    "dt_precision_score_nosmote = metrics.precision_score(y_test, y_pre)\n",
    "print(\"Decision Tree Classifier Precision (no smote):\", dt_precision_score_nosmote)\n",
    "\n",
    "dt_recall_score_nosmote = metrics.recall_score(y_test, y_pre)\n",
    "print(\"Decision Tree Classifier Recall (no smote):\", dt_recall_score_nosmote)"
   ]
  },
  {
   "cell_type": "markdown",
   "metadata": {},
   "source": [
    "##### Random Forest Classifier Model - no smote"
   ]
  },
  {
   "cell_type": "code",
   "execution_count": 47,
   "metadata": {
    "scrolled": true
   },
   "outputs": [
    {
     "data": {
      "text/plain": [
       "RandomForestClassifier(bootstrap=True, class_weight=None, criterion='gini',\n",
       "            max_depth=None, max_features='auto', max_leaf_nodes=None,\n",
       "            min_impurity_decrease=0.0, min_impurity_split=None,\n",
       "            min_samples_leaf=1, min_samples_split=2,\n",
       "            min_weight_fraction_leaf=0.0, n_estimators=500, n_jobs=None,\n",
       "            oob_score=False, random_state=None, verbose=0,\n",
       "            warm_start=False)"
      ]
     },
     "execution_count": 47,
     "metadata": {},
     "output_type": "execute_result"
    }
   ],
   "source": [
    "rf2 = RandomForestClassifier(n_estimators=500)\n",
    "rf2.fit(X_train, y_train)"
   ]
  },
  {
   "cell_type": "code",
   "execution_count": 48,
   "metadata": {},
   "outputs": [
    {
     "name": "stdout",
     "output_type": "stream",
     "text": [
      "Recall metric in the train dataset: 100.0%\n"
     ]
    },
    {
     "data": {
      "image/png": "[encoded data removed]",
      "text/plain": [
       "<Figure size 432x288 with 2 Axes>"
      ]
     },
     "metadata": {
      "needs_background": "light"
     },
     "output_type": "display_data"
    }
   ],
   "source": [
    "y_train_pre = rf2.predict(X_train)\n",
    "cnf_matrix_tra = confusion_matrix(y_train, y_train_pre)\n",
    "\n",
    "print(\"Recall metric in the train dataset: {}%\".format(100*cnf_matrix_tra[1,1]/(cnf_matrix_tra[1,0]+cnf_matrix_tra[1,1])))\n",
    "# Plot non-normalized confusion matrix\n",
    "class_names = [0,1]\n",
    "plt.figure()\n",
    "plot_confusion_matrix(cnf_matrix_tra , classes=class_names, title='Confusion matrix')\n",
    "plt.show()"
   ]
  },
  {
   "cell_type": "code",
   "execution_count": 49,
   "metadata": {},
   "outputs": [
    {
     "name": "stdout",
     "output_type": "stream",
     "text": [
      "Recall metric in the testing dataset: 1.36986301369863%\n"
     ]
    },
    {
     "data": {
      "image/png": "[encoded data removed]",
      "text/plain": [
       "<Figure size 432x288 with 2 Axes>"
      ]
     },
     "metadata": {
      "needs_background": "light"
     },
     "output_type": "display_data"
    }
   ],
   "source": [
    "y_pre = rf2.predict(X_test)\n",
    "cnf_matrix = confusion_matrix(y_test, y_pre)\n",
    "\n",
    "print(\"Recall metric in the testing dataset: {}%\".format(100*cnf_matrix[1,1]/(cnf_matrix[1,0]+cnf_matrix[1,1])))\n",
    "# Plot non-normalized confusion matrix\n",
    "class_names = [0,1]\n",
    "plt.figure()\n",
    "plot_confusion_matrix(cnf_matrix , classes=class_names, title='Confusion matrix')\n",
    "plt.show()"
   ]
  },
  {
   "cell_type": "code",
   "execution_count": 50,
   "metadata": {},
   "outputs": [
    {
     "name": "stdout",
     "output_type": "stream",
     "text": [
      "Random Forest Classifier Accuracy (no smote): 0.9743333333333334\n",
      "Random Forest Classifier Precision (no smote): 0.16666666666666666\n",
      "Random Forest Classifier Recall (no smote): 0.0136986301369863\n"
     ]
    }
   ],
   "source": [
    "rf_accuracy_score_nosmote = metrics.accuracy_score(y_test, y_pre)\n",
    "print(\"Random Forest Classifier Accuracy (no smote):\", rf_accuracy_score_nosmote)\n",
    "\n",
    "rf_precision_score_nosmote = metrics.precision_score(y_test, y_pre)\n",
    "print(\"Random Forest Classifier Precision (no smote):\", rf_precision_score_nosmote)\n",
    "\n",
    "rf_recall_score_nosmote = metrics.recall_score(y_test, y_pre)\n",
    "print(\"Random Forest Classifier Recall (no smote):\", rf_recall_score_nosmote)"
   ]
  },
  {
   "cell_type": "code",
   "execution_count": 51,
   "metadata": {
    "scrolled": true
   },
   "outputs": [
    {
     "data": {
      "text/html": [
       "<div>\n",
       "<style scoped>\n",
       "    .dataframe tbody tr th:only-of-type {\n",
       "        vertical-align: middle;\n",
       "    }\n",
       "\n",
       "    .dataframe tbody tr th {\n",
       "        vertical-align: top;\n",
       "    }\n",
       "\n",
       "    .dataframe thead th {\n",
       "        text-align: right;\n",
       "    }\n",
       "</style>\n",
       "<table border=\"1\" class=\"dataframe\">\n",
       "  <thead>\n",
       "    <tr style=\"text-align: right;\">\n",
       "      <th></th>\n",
       "      <th>importance</th>\n",
       "    </tr>\n",
       "    <tr>\n",
       "      <th>feature</th>\n",
       "      <th></th>\n",
       "    </tr>\n",
       "  </thead>\n",
       "  <tbody>\n",
       "    <tr>\n",
       "      <th>Attr46</th>\n",
       "      <td>0.038</td>\n",
       "    </tr>\n",
       "    <tr>\n",
       "      <th>Attr56</th>\n",
       "      <td>0.030</td>\n",
       "    </tr>\n",
       "    <tr>\n",
       "      <th>Attr9</th>\n",
       "      <td>0.028</td>\n",
       "    </tr>\n",
       "    <tr>\n",
       "      <th>Attr40</th>\n",
       "      <td>0.027</td>\n",
       "    </tr>\n",
       "    <tr>\n",
       "      <th>Attr26</th>\n",
       "      <td>0.026</td>\n",
       "    </tr>\n",
       "    <tr>\n",
       "      <th>Attr31</th>\n",
       "      <td>0.023</td>\n",
       "    </tr>\n",
       "    <tr>\n",
       "      <th>Attr60</th>\n",
       "      <td>0.023</td>\n",
       "    </tr>\n",
       "    <tr>\n",
       "      <th>Attr20</th>\n",
       "      <td>0.023</td>\n",
       "    </tr>\n",
       "    <tr>\n",
       "      <th>Attr28</th>\n",
       "      <td>0.023</td>\n",
       "    </tr>\n",
       "    <tr>\n",
       "      <th>Attr15</th>\n",
       "      <td>0.023</td>\n",
       "    </tr>\n",
       "  </tbody>\n",
       "</table>\n",
       "</div>"
      ],
      "text/plain": [
       "         importance\n",
       "feature            \n",
       "Attr46        0.038\n",
       "Attr56        0.030\n",
       "Attr9         0.028\n",
       "Attr40        0.027\n",
       "Attr26        0.026\n",
       "Attr31        0.023\n",
       "Attr60        0.023\n",
       "Attr20        0.023\n",
       "Attr28        0.023\n",
       "Attr15        0.023"
      ]
     },
     "execution_count": 51,
     "metadata": {},
     "output_type": "execute_result"
    }
   ],
   "source": [
    "# Feature Importance\n",
    "importances = pd.DataFrame({'feature':X_train.columns,'importance':np.round(rf2.feature_importances_,3)})\n",
    "importances = importances.sort_values('importance',ascending=False).set_index('feature')\n",
    "importances.head(10)"
   ]
  },
  {
   "cell_type": "markdown",
   "metadata": {},
   "source": [
    "### Compare models & Findings"
   ]
  },
  {
   "cell_type": "code",
   "execution_count": 52,
   "metadata": {},
   "outputs": [
    {
     "data": {
      "text/html": [
       "<div>\n",
       "<style scoped>\n",
       "    .dataframe tbody tr th:only-of-type {\n",
       "        vertical-align: middle;\n",
       "    }\n",
       "\n",
       "    .dataframe tbody tr th {\n",
       "        vertical-align: top;\n",
       "    }\n",
       "\n",
       "    .dataframe thead th {\n",
       "        text-align: right;\n",
       "    }\n",
       "</style>\n",
       "<table border=\"1\" class=\"dataframe\">\n",
       "  <thead>\n",
       "    <tr style=\"text-align: right;\">\n",
       "      <th></th>\n",
       "      <th>Model</th>\n",
       "      <th>Accuracy score</th>\n",
       "      <th>Precision</th>\n",
       "      <th>Recall</th>\n",
       "    </tr>\n",
       "  </thead>\n",
       "  <tbody>\n",
       "    <tr>\n",
       "      <th>2</th>\n",
       "      <td>Random Forest Classifier</td>\n",
       "      <td>0.974333</td>\n",
       "      <td>0.166667</td>\n",
       "      <td>0.013699</td>\n",
       "    </tr>\n",
       "    <tr>\n",
       "      <th>0</th>\n",
       "      <td>Logistic Regression</td>\n",
       "      <td>0.973000</td>\n",
       "      <td>0.000000</td>\n",
       "      <td>0.000000</td>\n",
       "    </tr>\n",
       "    <tr>\n",
       "      <th>1</th>\n",
       "      <td>Decision Tree Classifier</td>\n",
       "      <td>0.975667</td>\n",
       "      <td>0.000000</td>\n",
       "      <td>0.000000</td>\n",
       "    </tr>\n",
       "  </tbody>\n",
       "</table>\n",
       "</div>"
      ],
      "text/plain": [
       "                      Model  Accuracy score  Precision    Recall\n",
       "2  Random Forest Classifier        0.974333   0.166667  0.013699\n",
       "0       Logistic Regression        0.973000   0.000000  0.000000\n",
       "1  Decision Tree Classifier        0.975667   0.000000  0.000000"
      ]
     },
     "execution_count": 52,
     "metadata": {},
     "output_type": "execute_result"
    }
   ],
   "source": [
    "models_nosmote = pd.DataFrame({\n",
    "    'Model': ['Logistic Regression', 'Decision Tree Classifier','Random Forest Classifier',],\n",
    "    'Accuracy score': [lr_accuracy_score_nosmote, dt_accuracy_score_nosmote, rf_accuracy_score_nosmote],\n",
    "    'Precision': [lr_precision_score_nosmote, dt_precision_score_nosmote, rf_precision_score_nosmote],\n",
    "    'Recall': [lr_recall_score_nosmote, dt_recall_score_nosmote, rf_recall_score_nosmote]})\n",
    "\n",
    "models_nosmote.sort_values(by='Recall', ascending=False)"
   ]
  },
  {
   "cell_type": "code",
   "execution_count": 53,
   "metadata": {
    "scrolled": false
   },
   "outputs": [
    {
     "data": {
      "text/html": [
       "<div>\n",
       "<style scoped>\n",
       "    .dataframe tbody tr th:only-of-type {\n",
       "        vertical-align: middle;\n",
       "    }\n",
       "\n",
       "    .dataframe tbody tr th {\n",
       "        vertical-align: top;\n",
       "    }\n",
       "\n",
       "    .dataframe thead th {\n",
       "        text-align: right;\n",
       "    }\n",
       "</style>\n",
       "<table border=\"1\" class=\"dataframe\">\n",
       "  <thead>\n",
       "    <tr style=\"text-align: right;\">\n",
       "      <th></th>\n",
       "      <th>Model</th>\n",
       "      <th>Accuracy score</th>\n",
       "      <th>Precision</th>\n",
       "      <th>Recall</th>\n",
       "    </tr>\n",
       "  </thead>\n",
       "  <tbody>\n",
       "    <tr>\n",
       "      <th>0</th>\n",
       "      <td>Logistic Regression</td>\n",
       "      <td>0.746000</td>\n",
       "      <td>0.075216</td>\n",
       "      <td>0.835616</td>\n",
       "    </tr>\n",
       "    <tr>\n",
       "      <th>1</th>\n",
       "      <td>Decision Tree Classifier</td>\n",
       "      <td>0.693333</td>\n",
       "      <td>0.054679</td>\n",
       "      <td>0.712329</td>\n",
       "    </tr>\n",
       "    <tr>\n",
       "      <th>2</th>\n",
       "      <td>Random Forest Classifier</td>\n",
       "      <td>0.967000</td>\n",
       "      <td>0.240000</td>\n",
       "      <td>0.164384</td>\n",
       "    </tr>\n",
       "  </tbody>\n",
       "</table>\n",
       "</div>"
      ],
      "text/plain": [
       "                      Model  Accuracy score  Precision    Recall\n",
       "0       Logistic Regression        0.746000   0.075216  0.835616\n",
       "1  Decision Tree Classifier        0.693333   0.054679  0.712329\n",
       "2  Random Forest Classifier        0.967000   0.240000  0.164384"
      ]
     },
     "execution_count": 53,
     "metadata": {},
     "output_type": "execute_result"
    }
   ],
   "source": [
    "models = pd.DataFrame({\n",
    "    'Model': ['Logistic Regression', 'Decision Tree Classifier','Random Forest Classifier',],\n",
    "    'Accuracy score': [lr_accuracy_score_smote, dt_accuracy_score_smote, rf_accuracy_score_smote],\n",
    "    'Precision': [lr_precision_score_smote, dt_precision_score_smote, rf_precision_score_smote],\n",
    "    'Recall': [lr_recall_score_smote, dt_recall_score_smote, rf_recall_score_smote]})\n",
    "\n",
    "models.sort_values(by='Recall', ascending=False)"
   ]
  },
  {
   "cell_type": "markdown",
   "metadata": {},
   "source": [
    "#### 1. The models were imporved a lot after SMOTE technique applied.\n",
    "#### 2. We believe \"Recall\" is more important than \"Precision\" and \"Accuracy\" in this case, because our purpose is to narrow down the list of companies which might be bankruptcy. We would like to identify the companies which need further track or investigation.\n",
    "#### 3. Although the \"Random Forest Classifier\" has the highest accuracy score, its recall score is low.\n",
    "#### 4. After comparing recall score, the \"Logistic Regression\" model is the best. We are going to apply Logistic Regression to the Fundamental.csv (Please see below)."
   ]
  },
  {
   "cell_type": "markdown",
   "metadata": {},
   "source": [
    "# Apply model - using Fundamental.csv"
   ]
  },
  {
   "cell_type": "code",
   "execution_count": 54,
   "metadata": {},
   "outputs": [],
   "source": [
    "data=pd.read_csv(\"fundamentals.csv\")"
   ]
  },
  {
   "cell_type": "code",
   "execution_count": 55,
   "metadata": {},
   "outputs": [
    {
     "data": {
      "text/plain": [
       "(1781, 79)"
      ]
     },
     "execution_count": 55,
     "metadata": {},
     "output_type": "execute_result"
    }
   ],
   "source": [
    "data.shape"
   ]
  },
  {
   "cell_type": "code",
   "execution_count": 56,
   "metadata": {},
   "outputs": [
    {
     "data": {
      "text/html": [
       "<div>\n",
       "<style scoped>\n",
       "    .dataframe tbody tr th:only-of-type {\n",
       "        vertical-align: middle;\n",
       "    }\n",
       "\n",
       "    .dataframe tbody tr th {\n",
       "        vertical-align: top;\n",
       "    }\n",
       "\n",
       "    .dataframe thead th {\n",
       "        text-align: right;\n",
       "    }\n",
       "</style>\n",
       "<table border=\"1\" class=\"dataframe\">\n",
       "  <thead>\n",
       "    <tr style=\"text-align: right;\">\n",
       "      <th></th>\n",
       "      <th>Unnamed: 0</th>\n",
       "      <th>Ticker Symbol</th>\n",
       "      <th>Period Ending</th>\n",
       "      <th>Accounts Payable</th>\n",
       "      <th>Accounts Receivable</th>\n",
       "      <th>Add'l income/expense items</th>\n",
       "      <th>After Tax ROE</th>\n",
       "      <th>Capital Expenditures</th>\n",
       "      <th>Capital Surplus</th>\n",
       "      <th>Cash Ratio</th>\n",
       "      <th>...</th>\n",
       "      <th>Total Current Assets</th>\n",
       "      <th>Total Current Liabilities</th>\n",
       "      <th>Total Equity</th>\n",
       "      <th>Total Liabilities</th>\n",
       "      <th>Total Liabilities &amp; Equity</th>\n",
       "      <th>Total Revenue</th>\n",
       "      <th>Treasury Stock</th>\n",
       "      <th>For Year</th>\n",
       "      <th>Earnings Per Share</th>\n",
       "      <th>Estimated Shares Outstanding</th>\n",
       "    </tr>\n",
       "  </thead>\n",
       "  <tbody>\n",
       "    <tr>\n",
       "      <th>0</th>\n",
       "      <td>0</td>\n",
       "      <td>AAL</td>\n",
       "      <td>2012-12-31</td>\n",
       "      <td>3.068000e+09</td>\n",
       "      <td>-222000000.0</td>\n",
       "      <td>-1.961000e+09</td>\n",
       "      <td>23.0</td>\n",
       "      <td>-1.888000e+09</td>\n",
       "      <td>4.695000e+09</td>\n",
       "      <td>53.0</td>\n",
       "      <td>...</td>\n",
       "      <td>7.072000e+09</td>\n",
       "      <td>9.011000e+09</td>\n",
       "      <td>-7.987000e+09</td>\n",
       "      <td>2.489100e+10</td>\n",
       "      <td>1.690400e+10</td>\n",
       "      <td>2.485500e+10</td>\n",
       "      <td>-367000000.0</td>\n",
       "      <td>2012.0</td>\n",
       "      <td>-5.60</td>\n",
       "      <td>3.350000e+08</td>\n",
       "    </tr>\n",
       "    <tr>\n",
       "      <th>1</th>\n",
       "      <td>1</td>\n",
       "      <td>AAL</td>\n",
       "      <td>2013-12-31</td>\n",
       "      <td>4.975000e+09</td>\n",
       "      <td>-93000000.0</td>\n",
       "      <td>-2.723000e+09</td>\n",
       "      <td>67.0</td>\n",
       "      <td>-3.114000e+09</td>\n",
       "      <td>1.059200e+10</td>\n",
       "      <td>75.0</td>\n",
       "      <td>...</td>\n",
       "      <td>1.432300e+10</td>\n",
       "      <td>1.380600e+10</td>\n",
       "      <td>-2.731000e+09</td>\n",
       "      <td>4.500900e+10</td>\n",
       "      <td>4.227800e+10</td>\n",
       "      <td>2.674300e+10</td>\n",
       "      <td>0.0</td>\n",
       "      <td>2013.0</td>\n",
       "      <td>-11.25</td>\n",
       "      <td>1.630222e+08</td>\n",
       "    </tr>\n",
       "    <tr>\n",
       "      <th>2</th>\n",
       "      <td>2</td>\n",
       "      <td>AAL</td>\n",
       "      <td>2014-12-31</td>\n",
       "      <td>4.668000e+09</td>\n",
       "      <td>-160000000.0</td>\n",
       "      <td>-1.500000e+08</td>\n",
       "      <td>143.0</td>\n",
       "      <td>-5.311000e+09</td>\n",
       "      <td>1.513500e+10</td>\n",
       "      <td>60.0</td>\n",
       "      <td>...</td>\n",
       "      <td>1.175000e+10</td>\n",
       "      <td>1.340400e+10</td>\n",
       "      <td>2.021000e+09</td>\n",
       "      <td>4.120400e+10</td>\n",
       "      <td>4.322500e+10</td>\n",
       "      <td>4.265000e+10</td>\n",
       "      <td>0.0</td>\n",
       "      <td>2014.0</td>\n",
       "      <td>4.02</td>\n",
       "      <td>7.169154e+08</td>\n",
       "    </tr>\n",
       "    <tr>\n",
       "      <th>3</th>\n",
       "      <td>3</td>\n",
       "      <td>AAL</td>\n",
       "      <td>2015-12-31</td>\n",
       "      <td>5.102000e+09</td>\n",
       "      <td>352000000.0</td>\n",
       "      <td>-7.080000e+08</td>\n",
       "      <td>135.0</td>\n",
       "      <td>-6.151000e+09</td>\n",
       "      <td>1.159100e+10</td>\n",
       "      <td>51.0</td>\n",
       "      <td>...</td>\n",
       "      <td>9.985000e+09</td>\n",
       "      <td>1.360500e+10</td>\n",
       "      <td>5.635000e+09</td>\n",
       "      <td>4.278000e+10</td>\n",
       "      <td>4.841500e+10</td>\n",
       "      <td>4.099000e+10</td>\n",
       "      <td>0.0</td>\n",
       "      <td>2015.0</td>\n",
       "      <td>11.39</td>\n",
       "      <td>6.681299e+08</td>\n",
       "    </tr>\n",
       "    <tr>\n",
       "      <th>4</th>\n",
       "      <td>4</td>\n",
       "      <td>AAP</td>\n",
       "      <td>2012-12-29</td>\n",
       "      <td>2.409453e+09</td>\n",
       "      <td>-89482000.0</td>\n",
       "      <td>6.000000e+05</td>\n",
       "      <td>32.0</td>\n",
       "      <td>-2.711820e+08</td>\n",
       "      <td>5.202150e+08</td>\n",
       "      <td>23.0</td>\n",
       "      <td>...</td>\n",
       "      <td>3.184200e+09</td>\n",
       "      <td>2.559638e+09</td>\n",
       "      <td>1.210694e+09</td>\n",
       "      <td>3.403120e+09</td>\n",
       "      <td>4.613814e+09</td>\n",
       "      <td>6.205003e+09</td>\n",
       "      <td>-27095000.0</td>\n",
       "      <td>2012.0</td>\n",
       "      <td>5.29</td>\n",
       "      <td>7.328355e+07</td>\n",
       "    </tr>\n",
       "  </tbody>\n",
       "</table>\n",
       "<p>5 rows × 79 columns</p>\n",
       "</div>"
      ],
      "text/plain": [
       "   Unnamed: 0 Ticker Symbol Period Ending  Accounts Payable  \\\n",
       "0           0           AAL    2012-12-31      3.068000e+09   \n",
       "1           1           AAL    2013-12-31      4.975000e+09   \n",
       "2           2           AAL    2014-12-31      4.668000e+09   \n",
       "3           3           AAL    2015-12-31      5.102000e+09   \n",
       "4           4           AAP    2012-12-29      2.409453e+09   \n",
       "\n",
       "   Accounts Receivable  Add'l income/expense items  After Tax ROE  \\\n",
       "0         -222000000.0               -1.961000e+09           23.0   \n",
       "1          -93000000.0               -2.723000e+09           67.0   \n",
       "2         -160000000.0               -1.500000e+08          143.0   \n",
       "3          352000000.0               -7.080000e+08          135.0   \n",
       "4          -89482000.0                6.000000e+05           32.0   \n",
       "\n",
       "   Capital Expenditures  Capital Surplus  Cash Ratio  ...  \\\n",
       "0         -1.888000e+09     4.695000e+09        53.0  ...   \n",
       "1         -3.114000e+09     1.059200e+10        75.0  ...   \n",
       "2         -5.311000e+09     1.513500e+10        60.0  ...   \n",
       "3         -6.151000e+09     1.159100e+10        51.0  ...   \n",
       "4         -2.711820e+08     5.202150e+08        23.0  ...   \n",
       "\n",
       "   Total Current Assets  Total Current Liabilities  Total Equity  \\\n",
       "0          7.072000e+09               9.011000e+09 -7.987000e+09   \n",
       "1          1.432300e+10               1.380600e+10 -2.731000e+09   \n",
       "2          1.175000e+10               1.340400e+10  2.021000e+09   \n",
       "3          9.985000e+09               1.360500e+10  5.635000e+09   \n",
       "4          3.184200e+09               2.559638e+09  1.210694e+09   \n",
       "\n",
       "   Total Liabilities  Total Liabilities & Equity  Total Revenue  \\\n",
       "0       2.489100e+10                1.690400e+10   2.485500e+10   \n",
       "1       4.500900e+10                4.227800e+10   2.674300e+10   \n",
       "2       4.120400e+10                4.322500e+10   4.265000e+10   \n",
       "3       4.278000e+10                4.841500e+10   4.099000e+10   \n",
       "4       3.403120e+09                4.613814e+09   6.205003e+09   \n",
       "\n",
       "   Treasury Stock  For Year  Earnings Per Share  Estimated Shares Outstanding  \n",
       "0    -367000000.0    2012.0               -5.60                  3.350000e+08  \n",
       "1             0.0    2013.0              -11.25                  1.630222e+08  \n",
       "2             0.0    2014.0                4.02                  7.169154e+08  \n",
       "3             0.0    2015.0               11.39                  6.681299e+08  \n",
       "4     -27095000.0    2012.0                5.29                  7.328355e+07  \n",
       "\n",
       "[5 rows x 79 columns]"
      ]
     },
     "execution_count": 56,
     "metadata": {},
     "output_type": "execute_result"
    }
   ],
   "source": [
    "data.head()"
   ]
  },
  {
   "cell_type": "markdown",
   "metadata": {},
   "source": [
    "### Clean data"
   ]
  },
  {
   "cell_type": "code",
   "execution_count": 57,
   "metadata": {},
   "outputs": [],
   "source": [
    "data.drop(['Unnamed: 0'],axis=1,inplace=True)"
   ]
  },
  {
   "cell_type": "code",
   "execution_count": 58,
   "metadata": {},
   "outputs": [],
   "source": [
    "pd.options.mode.use_inf_as_na = True"
   ]
  },
  {
   "cell_type": "code",
   "execution_count": 59,
   "metadata": {},
   "outputs": [],
   "source": [
    "# Added new columns Attr1 - 64 (except for the dropped attributes) to based on the formulas behind each attributes.\n",
    "data['Attr1'] = data['Net Income']/data['Total Assets']\n",
    "data['Attr2'] = data['Total Liabilities']/data['Total Assets']\n",
    "data['Attr3'] = (data['Total Current Assets']-data['Total Current Liabilities'])/data['Total Assets']\n",
    "data['Attr4'] = data['Total Current Assets']/data['Total Current Liabilities']\n",
    "data['Attr6'] = data['Retained Earnings']/data['Total Assets']\n",
    "data['Attr7'] = data['Earnings Before Interest and Tax']/data['Total Assets']\n",
    "data['Attr8'] = (data['Total Assets']-data['Total Liabilities'])/data['Total Liabilities']\n",
    "data['Attr9'] = data['Total Revenue']/data['Total Assets']\n",
    "data['Attr10'] = data['Total Equity']/data['Total Assets']\n",
    "data['Attr12'] = data['Gross Profit']/data['Total Current Liabilities']\n",
    "data['Attr13'] = (data['Gross Profit']+data['Depreciation'])/data['Total Revenue']\n",
    "data['Attr14'] = (data['Gross Profit']+data['Interest Expense'])/data['Total Assets']\n",
    "data['Attr15'] = (data['Total Liabilities']*365)/(data['Gross Profit']+data['Depreciation'])\n",
    "data['Attr16'] = (data['Gross Profit']+data['Depreciation'])/data['Total Liabilities']\n",
    "data['Attr17'] = data['Total Assets']/data['Total Liabilities']\n",
    "data['Attr18'] = data['Gross Profit']/data['Total Assets']\n",
    "data['Attr19'] = data['Gross Profit']/data['Total Revenue']\n",
    "data['Attr20'] = (data['Inventory']*365)/data['Total Revenue']\n",
    "data['Attr22'] = data['Operating Income']/data['Total Assets']\n",
    "data['Attr23'] = data['Net Income']/data['Total Revenue']\n",
    "data['Attr26'] = (data['Net Income']+data['Depreciation'])/data['Total Liabilities']\n",
    "data['Attr28'] = (data['Total Current Assets']-data['Total Current Liabilities'])/data['Fixed Assets']\n",
    "data['Attr30'] = (data['Total Liabilities']-data['Cash and Cash Equivalents'])/data['Total Revenue']\n",
    "data['Attr31'] = (data['Gross Profit']+data['Interest Expense'])/data['Total Revenue']\n",
    "data['Attr32'] = (data['Total Current Liabilities']*365)/data['Cost of Revenue']\n",
    "data['Attr36'] = data['Total Revenue']/data['Total Assets']\n",
    "data['Attr37'] = (data['Total Current Assets']-data['Inventory'])/data['Long-Term Debt']\n",
    "data['Attr40'] = (data['Total Current Assets']-data['Inventory']-data['Accounts Receivable'])/data['Total Current Liabilities']\n",
    "data['Attr41'] = data['Total Liabilities']/((data['Operating Income']+data['Depreciation']) *12/365)\n",
    "data['Attr42'] = data['Operating Income']/data['Total Revenue']\n",
    "data['Attr44'] = (data['Accounts Receivable']*365)/data['Total Revenue']\n",
    "data['Attr45'] = data['Net Income']/data['Inventory']\n",
    "data['Attr46'] = (data['Total Current Assets']-data['Inventory'])/data['Total Current Liabilities']\n",
    "data['Attr47'] = (data['Inventory']*365)/data['Cost of Revenue']\n",
    "data['Attr48'] = (data['Operating Income']-data['Depreciation'])/data['Total Assets']\n",
    "data['Attr49'] = (data['Operating Income']-data['Depreciation'])/data['Total Revenue']\n",
    "data['Attr50'] = data['Total Current Assets']/data['Total Liabilities']\n",
    "data['Attr51'] = data['Total Current Liabilities']/data['Total Assets']\n",
    "data['Attr52'] = (data['Total Current Liabilities']*365)/data['Cost of Revenue']\n",
    "data['Attr53'] = data['Total Equity']/data['Fixed Assets']\n",
    "data['Attr56'] = (data['Total Revenue']-data['Cost of Revenue'])/data['Total Revenue']\n",
    "data['Attr57'] = (data['Total Current Assets']-data['Inventory']-data['Total Current Liabilities'])/(data['Total Revenue']-data['Gross Profit']-data['Depreciation'])\n",
    "data['Attr59'] = data['Long-Term Debt']/data['Total Equity']\n",
    "data['Attr60'] = data['Total Revenue']/data['Inventory']\n",
    "data['Attr61'] = data['Total Revenue']/data['Accounts Receivable']\n",
    "data['Attr62'] = (data['Total Current Liabilities']*365)/data['Total Revenue']\n",
    "data['Attr63'] = data['Total Revenue']/data['Total Current Liabilities']\n",
    "data['Attr64'] = data['Total Revenue']/data['Fixed Assets']"
   ]
  },
  {
   "cell_type": "code",
   "execution_count": 60,
   "metadata": {},
   "outputs": [
    {
     "data": {
      "text/plain": [
       "(1781, 126)"
      ]
     },
     "execution_count": 60,
     "metadata": {},
     "output_type": "execute_result"
    }
   ],
   "source": [
    "data.shape"
   ]
  },
  {
   "cell_type": "code",
   "execution_count": 61,
   "metadata": {},
   "outputs": [],
   "source": [
    "x_fundamental=data.iloc[:,78:126]\n",
    "x_fundamental['Ticker Symbol']=data['Ticker Symbol']"
   ]
  },
  {
   "cell_type": "code",
   "execution_count": 62,
   "metadata": {
    "scrolled": true
   },
   "outputs": [
    {
     "data": {
      "text/html": [
       "<div>\n",
       "<style scoped>\n",
       "    .dataframe tbody tr th:only-of-type {\n",
       "        vertical-align: middle;\n",
       "    }\n",
       "\n",
       "    .dataframe tbody tr th {\n",
       "        vertical-align: top;\n",
       "    }\n",
       "\n",
       "    .dataframe thead th {\n",
       "        text-align: right;\n",
       "    }\n",
       "</style>\n",
       "<table border=\"1\" class=\"dataframe\">\n",
       "  <thead>\n",
       "    <tr style=\"text-align: right;\">\n",
       "      <th></th>\n",
       "      <th>Attr1</th>\n",
       "      <th>Attr2</th>\n",
       "      <th>Attr3</th>\n",
       "      <th>Attr4</th>\n",
       "      <th>Attr6</th>\n",
       "      <th>Attr7</th>\n",
       "      <th>Attr8</th>\n",
       "      <th>Attr9</th>\n",
       "      <th>Attr10</th>\n",
       "      <th>Attr12</th>\n",
       "      <th>...</th>\n",
       "      <th>Attr53</th>\n",
       "      <th>Attr56</th>\n",
       "      <th>Attr57</th>\n",
       "      <th>Attr59</th>\n",
       "      <th>Attr60</th>\n",
       "      <th>Attr61</th>\n",
       "      <th>Attr62</th>\n",
       "      <th>Attr63</th>\n",
       "      <th>Attr64</th>\n",
       "      <th>Ticker Symbol</th>\n",
       "    </tr>\n",
       "  </thead>\n",
       "  <tbody>\n",
       "    <tr>\n",
       "      <th>0</th>\n",
       "      <td>-0.079796</td>\n",
       "      <td>1.058741</td>\n",
       "      <td>-0.082476</td>\n",
       "      <td>0.784819</td>\n",
       "      <td>-0.402467</td>\n",
       "      <td>-0.077116</td>\n",
       "      <td>-0.055482</td>\n",
       "      <td>1.057210</td>\n",
       "      <td>-0.339728</td>\n",
       "      <td>1.593164</td>\n",
       "      <td>...</td>\n",
       "      <td>-0.595956</td>\n",
       "      <td>0.577590</td>\n",
       "      <td>-0.265214</td>\n",
       "      <td>-0.890948</td>\n",
       "      <td>42.853448</td>\n",
       "      <td>-111.959459</td>\n",
       "      <td>132.328103</td>\n",
       "      <td>2.758295</td>\n",
       "      <td>1.854574</td>\n",
       "      <td>AAL</td>\n",
       "    </tr>\n",
       "    <tr>\n",
       "      <th>1</th>\n",
       "      <td>-0.043380</td>\n",
       "      <td>1.064596</td>\n",
       "      <td>0.012229</td>\n",
       "      <td>1.037447</td>\n",
       "      <td>-0.267184</td>\n",
       "      <td>-0.031317</td>\n",
       "      <td>-0.060677</td>\n",
       "      <td>0.632551</td>\n",
       "      <td>-0.064596</td>\n",
       "      <td>1.138925</td>\n",
       "      <td>...</td>\n",
       "      <td>-0.141804</td>\n",
       "      <td>0.587967</td>\n",
       "      <td>-0.049505</td>\n",
       "      <td>-5.621750</td>\n",
       "      <td>26.425889</td>\n",
       "      <td>-287.559140</td>\n",
       "      <td>188.430243</td>\n",
       "      <td>1.937056</td>\n",
       "      <td>1.388598</td>\n",
       "      <td>AAL</td>\n",
       "    </tr>\n",
       "    <tr>\n",
       "      <th>2</th>\n",
       "      <td>0.066674</td>\n",
       "      <td>0.953245</td>\n",
       "      <td>-0.038265</td>\n",
       "      <td>0.876604</td>\n",
       "      <td>-0.198080</td>\n",
       "      <td>0.094829</td>\n",
       "      <td>0.049049</td>\n",
       "      <td>0.986698</td>\n",
       "      <td>0.046755</td>\n",
       "      <td>2.016562</td>\n",
       "      <td>...</td>\n",
       "      <td>0.087550</td>\n",
       "      <td>0.633763</td>\n",
       "      <td>-0.186161</td>\n",
       "      <td>7.938149</td>\n",
       "      <td>42.480080</td>\n",
       "      <td>-266.562500</td>\n",
       "      <td>114.711841</td>\n",
       "      <td>3.181886</td>\n",
       "      <td>1.847600</td>\n",
       "      <td>AAL</td>\n",
       "    </tr>\n",
       "    <tr>\n",
       "      <th>3</th>\n",
       "      <td>0.157183</td>\n",
       "      <td>0.883610</td>\n",
       "      <td>-0.074770</td>\n",
       "      <td>0.733921</td>\n",
       "      <td>-0.025405</td>\n",
       "      <td>0.113519</td>\n",
       "      <td>0.131720</td>\n",
       "      <td>0.846638</td>\n",
       "      <td>0.116390</td>\n",
       "      <td>2.197280</td>\n",
       "      <td>...</td>\n",
       "      <td>0.204835</td>\n",
       "      <td>0.729300</td>\n",
       "      <td>-0.466542</td>\n",
       "      <td>3.252884</td>\n",
       "      <td>47.497103</td>\n",
       "      <td>116.448864</td>\n",
       "      <td>121.147231</td>\n",
       "      <td>3.012863</td>\n",
       "      <td>1.490004</td>\n",
       "      <td>AAL</td>\n",
       "    </tr>\n",
       "    <tr>\n",
       "      <th>4</th>\n",
       "      <td>0.084024</td>\n",
       "      <td>0.737594</td>\n",
       "      <td>0.135368</td>\n",
       "      <td>1.244004</td>\n",
       "      <td>0.154948</td>\n",
       "      <td>0.142597</td>\n",
       "      <td>0.355760</td>\n",
       "      <td>1.344875</td>\n",
       "      <td>0.262406</td>\n",
       "      <td>1.210341</td>\n",
       "      <td>...</td>\n",
       "      <td>0.936673</td>\n",
       "      <td>0.499280</td>\n",
       "      <td>-0.577238</td>\n",
       "      <td>0.499268</td>\n",
       "      <td>2.687767</td>\n",
       "      <td>-69.343589</td>\n",
       "      <td>150.566868</td>\n",
       "      <td>2.424172</td>\n",
       "      <td>4.800601</td>\n",
       "      <td>AAP</td>\n",
       "    </tr>\n",
       "  </tbody>\n",
       "</table>\n",
       "<p>5 rows × 49 columns</p>\n",
       "</div>"
      ],
      "text/plain": [
       "      Attr1     Attr2     Attr3     Attr4     Attr6     Attr7     Attr8  \\\n",
       "0 -0.079796  1.058741 -0.082476  0.784819 -0.402467 -0.077116 -0.055482   \n",
       "1 -0.043380  1.064596  0.012229  1.037447 -0.267184 -0.031317 -0.060677   \n",
       "2  0.066674  0.953245 -0.038265  0.876604 -0.198080  0.094829  0.049049   \n",
       "3  0.157183  0.883610 -0.074770  0.733921 -0.025405  0.113519  0.131720   \n",
       "4  0.084024  0.737594  0.135368  1.244004  0.154948  0.142597  0.355760   \n",
       "\n",
       "      Attr9    Attr10    Attr12  ...    Attr53    Attr56    Attr57    Attr59  \\\n",
       "0  1.057210 -0.339728  1.593164  ... -0.595956  0.577590 -0.265214 -0.890948   \n",
       "1  0.632551 -0.064596  1.138925  ... -0.141804  0.587967 -0.049505 -5.621750   \n",
       "2  0.986698  0.046755  2.016562  ...  0.087550  0.633763 -0.186161  7.938149   \n",
       "3  0.846638  0.116390  2.197280  ...  0.204835  0.729300 -0.466542  3.252884   \n",
       "4  1.344875  0.262406  1.210341  ...  0.936673  0.499280 -0.577238  0.499268   \n",
       "\n",
       "      Attr60      Attr61      Attr62    Attr63    Attr64  Ticker Symbol  \n",
       "0  42.853448 -111.959459  132.328103  2.758295  1.854574            AAL  \n",
       "1  26.425889 -287.559140  188.430243  1.937056  1.388598            AAL  \n",
       "2  42.480080 -266.562500  114.711841  3.181886  1.847600            AAL  \n",
       "3  47.497103  116.448864  121.147231  3.012863  1.490004            AAL  \n",
       "4   2.687767  -69.343589  150.566868  2.424172  4.800601            AAP  \n",
       "\n",
       "[5 rows x 49 columns]"
      ]
     },
     "execution_count": 62,
     "metadata": {},
     "output_type": "execute_result"
    }
   ],
   "source": [
    "x_fundamental.head()"
   ]
  },
  {
   "cell_type": "code",
   "execution_count": 63,
   "metadata": {},
   "outputs": [
    {
     "data": {
      "text/plain": [
       "(1781, 49)"
      ]
     },
     "execution_count": 63,
     "metadata": {},
     "output_type": "execute_result"
    }
   ],
   "source": [
    "x_fundamental.shape"
   ]
  },
  {
   "cell_type": "code",
   "execution_count": 64,
   "metadata": {},
   "outputs": [
    {
     "data": {
      "text/plain": [
       "Attr1              0\n",
       "Attr2              0\n",
       "Attr3              0\n",
       "Attr4            299\n",
       "Attr6              0\n",
       "Attr7              0\n",
       "Attr8              0\n",
       "Attr9              0\n",
       "Attr10             0\n",
       "Attr12           299\n",
       "Attr13             0\n",
       "Attr14             0\n",
       "Attr15             0\n",
       "Attr16             0\n",
       "Attr17             0\n",
       "Attr18             0\n",
       "Attr19             0\n",
       "Attr20             0\n",
       "Attr22             0\n",
       "Attr23             0\n",
       "Attr26             0\n",
       "Attr28            51\n",
       "Attr30             0\n",
       "Attr31             0\n",
       "Attr32           107\n",
       "Attr36             0\n",
       "Attr37           156\n",
       "Attr40           299\n",
       "Attr41             0\n",
       "Attr42             0\n",
       "Attr44             0\n",
       "Attr45           550\n",
       "Attr46           299\n",
       "Attr47           107\n",
       "Attr48             0\n",
       "Attr49             0\n",
       "Attr50             0\n",
       "Attr51             0\n",
       "Attr52           107\n",
       "Attr53            51\n",
       "Attr56             0\n",
       "Attr57             0\n",
       "Attr59             0\n",
       "Attr60           550\n",
       "Attr61           193\n",
       "Attr62             0\n",
       "Attr63           299\n",
       "Attr64            51\n",
       "Ticker Symbol      0\n",
       "dtype: int64"
      ]
     },
     "execution_count": 64,
     "metadata": {},
     "output_type": "execute_result"
    }
   ],
   "source": [
    "x_fundamental.isnull().sum()"
   ]
  },
  {
   "cell_type": "code",
   "execution_count": 65,
   "metadata": {},
   "outputs": [],
   "source": [
    "# Drop rows with missing values since the missing amount is less than 30%.\n",
    "x_fundamental = x_fundamental.dropna(subset=['Attr4'])\n",
    "x_fundamental = x_fundamental.dropna(subset=['Attr12'])\n",
    "x_fundamental = x_fundamental.dropna(subset=['Attr28'])\n",
    "x_fundamental = x_fundamental.dropna(subset=['Attr32'])\n",
    "x_fundamental = x_fundamental.dropna(subset=['Attr37'])\n",
    "x_fundamental = x_fundamental.dropna(subset=['Attr40'])\n",
    "x_fundamental = x_fundamental.dropna(subset=['Attr45'])\n",
    "x_fundamental = x_fundamental.dropna(subset=['Attr46'])\n",
    "x_fundamental = x_fundamental.dropna(subset=['Attr47'])\n",
    "x_fundamental = x_fundamental.dropna(subset=['Attr52'])\n",
    "x_fundamental = x_fundamental.dropna(subset=['Attr53'])\n",
    "x_fundamental = x_fundamental.dropna(subset=['Attr60'])\n",
    "x_fundamental = x_fundamental.dropna(subset=['Attr61'])\n",
    "x_fundamental = x_fundamental.dropna(subset=['Attr63'])\n",
    "x_fundamental = x_fundamental.dropna(subset=['Attr64'])"
   ]
  },
  {
   "cell_type": "markdown",
   "metadata": {},
   "source": [
    "### Predicting bankruptcy"
   ]
  },
  {
   "cell_type": "code",
   "execution_count": 66,
   "metadata": {},
   "outputs": [
    {
     "data": {
      "text/html": [
       "<div>\n",
       "<style scoped>\n",
       "    .dataframe tbody tr th:only-of-type {\n",
       "        vertical-align: middle;\n",
       "    }\n",
       "\n",
       "    .dataframe tbody tr th {\n",
       "        vertical-align: top;\n",
       "    }\n",
       "\n",
       "    .dataframe thead th {\n",
       "        text-align: right;\n",
       "    }\n",
       "</style>\n",
       "<table border=\"1\" class=\"dataframe\">\n",
       "  <thead>\n",
       "    <tr style=\"text-align: right;\">\n",
       "      <th></th>\n",
       "      <th>Attr1</th>\n",
       "      <th>Attr2</th>\n",
       "      <th>Attr3</th>\n",
       "      <th>Attr4</th>\n",
       "      <th>Attr6</th>\n",
       "      <th>Attr7</th>\n",
       "      <th>Attr8</th>\n",
       "      <th>Attr9</th>\n",
       "      <th>Attr10</th>\n",
       "      <th>Attr12</th>\n",
       "      <th>...</th>\n",
       "      <th>Attr52</th>\n",
       "      <th>Attr53</th>\n",
       "      <th>Attr56</th>\n",
       "      <th>Attr57</th>\n",
       "      <th>Attr59</th>\n",
       "      <th>Attr60</th>\n",
       "      <th>Attr61</th>\n",
       "      <th>Attr62</th>\n",
       "      <th>Attr63</th>\n",
       "      <th>Attr64</th>\n",
       "    </tr>\n",
       "  </thead>\n",
       "  <tbody>\n",
       "    <tr>\n",
       "      <th>0</th>\n",
       "      <td>-0.079796</td>\n",
       "      <td>1.058741</td>\n",
       "      <td>-0.082476</td>\n",
       "      <td>0.784819</td>\n",
       "      <td>-0.402467</td>\n",
       "      <td>-0.077116</td>\n",
       "      <td>-0.055482</td>\n",
       "      <td>1.057210</td>\n",
       "      <td>-0.339728</td>\n",
       "      <td>1.593164</td>\n",
       "      <td>...</td>\n",
       "      <td>313.269359</td>\n",
       "      <td>-0.595956</td>\n",
       "      <td>0.577590</td>\n",
       "      <td>-0.265214</td>\n",
       "      <td>-0.890948</td>\n",
       "      <td>42.853448</td>\n",
       "      <td>-111.959459</td>\n",
       "      <td>132.328103</td>\n",
       "      <td>2.758295</td>\n",
       "      <td>1.854574</td>\n",
       "    </tr>\n",
       "    <tr>\n",
       "      <th>1</th>\n",
       "      <td>-0.043380</td>\n",
       "      <td>1.064596</td>\n",
       "      <td>0.012229</td>\n",
       "      <td>1.037447</td>\n",
       "      <td>-0.267184</td>\n",
       "      <td>-0.031317</td>\n",
       "      <td>-0.060677</td>\n",
       "      <td>0.632551</td>\n",
       "      <td>-0.064596</td>\n",
       "      <td>1.138925</td>\n",
       "      <td>...</td>\n",
       "      <td>457.318268</td>\n",
       "      <td>-0.141804</td>\n",
       "      <td>0.587967</td>\n",
       "      <td>-0.049505</td>\n",
       "      <td>-5.621750</td>\n",
       "      <td>26.425889</td>\n",
       "      <td>-287.559140</td>\n",
       "      <td>188.430243</td>\n",
       "      <td>1.937056</td>\n",
       "      <td>1.388598</td>\n",
       "    </tr>\n",
       "    <tr>\n",
       "      <th>2</th>\n",
       "      <td>0.066674</td>\n",
       "      <td>0.953245</td>\n",
       "      <td>-0.038265</td>\n",
       "      <td>0.876604</td>\n",
       "      <td>-0.198080</td>\n",
       "      <td>0.094829</td>\n",
       "      <td>0.049049</td>\n",
       "      <td>0.986698</td>\n",
       "      <td>0.046755</td>\n",
       "      <td>2.016562</td>\n",
       "      <td>...</td>\n",
       "      <td>313.217670</td>\n",
       "      <td>0.087550</td>\n",
       "      <td>0.633763</td>\n",
       "      <td>-0.186161</td>\n",
       "      <td>7.938149</td>\n",
       "      <td>42.480080</td>\n",
       "      <td>-266.562500</td>\n",
       "      <td>114.711841</td>\n",
       "      <td>3.181886</td>\n",
       "      <td>1.847600</td>\n",
       "    </tr>\n",
       "    <tr>\n",
       "      <th>3</th>\n",
       "      <td>0.157183</td>\n",
       "      <td>0.883610</td>\n",
       "      <td>-0.074770</td>\n",
       "      <td>0.733921</td>\n",
       "      <td>-0.025405</td>\n",
       "      <td>0.113519</td>\n",
       "      <td>0.131720</td>\n",
       "      <td>0.846638</td>\n",
       "      <td>0.116390</td>\n",
       "      <td>2.197280</td>\n",
       "      <td>...</td>\n",
       "      <td>447.532895</td>\n",
       "      <td>0.204835</td>\n",
       "      <td>0.729300</td>\n",
       "      <td>-0.466542</td>\n",
       "      <td>3.252884</td>\n",
       "      <td>47.497103</td>\n",
       "      <td>116.448864</td>\n",
       "      <td>121.147231</td>\n",
       "      <td>3.012863</td>\n",
       "      <td>1.490004</td>\n",
       "    </tr>\n",
       "    <tr>\n",
       "      <th>4</th>\n",
       "      <td>0.084024</td>\n",
       "      <td>0.737594</td>\n",
       "      <td>0.135368</td>\n",
       "      <td>1.244004</td>\n",
       "      <td>0.154948</td>\n",
       "      <td>0.142597</td>\n",
       "      <td>0.355760</td>\n",
       "      <td>1.344875</td>\n",
       "      <td>0.262406</td>\n",
       "      <td>1.210341</td>\n",
       "      <td>...</td>\n",
       "      <td>300.700931</td>\n",
       "      <td>0.936673</td>\n",
       "      <td>0.499280</td>\n",
       "      <td>-0.577238</td>\n",
       "      <td>0.499268</td>\n",
       "      <td>2.687767</td>\n",
       "      <td>-69.343589</td>\n",
       "      <td>150.566868</td>\n",
       "      <td>2.424172</td>\n",
       "      <td>4.800601</td>\n",
       "    </tr>\n",
       "  </tbody>\n",
       "</table>\n",
       "<p>5 rows × 48 columns</p>\n",
       "</div>"
      ],
      "text/plain": [
       "      Attr1     Attr2     Attr3     Attr4     Attr6     Attr7     Attr8  \\\n",
       "0 -0.079796  1.058741 -0.082476  0.784819 -0.402467 -0.077116 -0.055482   \n",
       "1 -0.043380  1.064596  0.012229  1.037447 -0.267184 -0.031317 -0.060677   \n",
       "2  0.066674  0.953245 -0.038265  0.876604 -0.198080  0.094829  0.049049   \n",
       "3  0.157183  0.883610 -0.074770  0.733921 -0.025405  0.113519  0.131720   \n",
       "4  0.084024  0.737594  0.135368  1.244004  0.154948  0.142597  0.355760   \n",
       "\n",
       "      Attr9    Attr10    Attr12  ...      Attr52    Attr53    Attr56  \\\n",
       "0  1.057210 -0.339728  1.593164  ...  313.269359 -0.595956  0.577590   \n",
       "1  0.632551 -0.064596  1.138925  ...  457.318268 -0.141804  0.587967   \n",
       "2  0.986698  0.046755  2.016562  ...  313.217670  0.087550  0.633763   \n",
       "3  0.846638  0.116390  2.197280  ...  447.532895  0.204835  0.729300   \n",
       "4  1.344875  0.262406  1.210341  ...  300.700931  0.936673  0.499280   \n",
       "\n",
       "     Attr57    Attr59     Attr60      Attr61      Attr62    Attr63    Attr64  \n",
       "0 -0.265214 -0.890948  42.853448 -111.959459  132.328103  2.758295  1.854574  \n",
       "1 -0.049505 -5.621750  26.425889 -287.559140  188.430243  1.937056  1.388598  \n",
       "2 -0.186161  7.938149  42.480080 -266.562500  114.711841  3.181886  1.847600  \n",
       "3 -0.466542  3.252884  47.497103  116.448864  121.147231  3.012863  1.490004  \n",
       "4 -0.577238  0.499268   2.687767  -69.343589  150.566868  2.424172  4.800601  \n",
       "\n",
       "[5 rows x 48 columns]"
      ]
     },
     "execution_count": 66,
     "metadata": {},
     "output_type": "execute_result"
    }
   ],
   "source": [
    "x_fundamental_1=x_fundamental.iloc[:,0:48]\n",
    "x_fundamental_1.head()"
   ]
  },
  {
   "cell_type": "code",
   "execution_count": 67,
   "metadata": {},
   "outputs": [],
   "source": [
    "y_bankruptcy_pred = lr1.predict(x_fundamental_1)\n",
    "x_fundamental['bankruptcy'] = y_bankruptcy_pred"
   ]
  },
  {
   "cell_type": "code",
   "execution_count": 68,
   "metadata": {},
   "outputs": [
    {
     "data": {
      "text/plain": [
       "bankruptcy\n",
       "0    1044\n",
       "1      30\n",
       "Name: Attr1, dtype: int64"
      ]
     },
     "execution_count": 68,
     "metadata": {},
     "output_type": "execute_result"
    }
   ],
   "source": [
    "x_fundamental.groupby('bankruptcy').Attr1.count()"
   ]
  },
  {
   "cell_type": "code",
   "execution_count": 69,
   "metadata": {},
   "outputs": [],
   "source": [
    "x_fundamental_bankruptcy = x_fundamental[x_fundamental['bankruptcy'] == 1]"
   ]
  },
  {
   "cell_type": "code",
   "execution_count": 70,
   "metadata": {},
   "outputs": [],
   "source": [
    "list1=x_fundamental_bankruptcy['Ticker Symbol']"
   ]
  },
  {
   "cell_type": "code",
   "execution_count": 71,
   "metadata": {},
   "outputs": [
    {
     "data": {
      "text/plain": [
       "KMX     4\n",
       "CVX     3\n",
       "KR      2\n",
       "SYY     2\n",
       "BDX     2\n",
       "TJX     2\n",
       "HD      1\n",
       "GIS     1\n",
       "WMT     1\n",
       "PSX     1\n",
       "XRAY    1\n",
       "PWR     1\n",
       "CTAS    1\n",
       "BBY     1\n",
       "SWK     1\n",
       "MO      1\n",
       "XOM     1\n",
       "WFM     1\n",
       "GWW     1\n",
       "MKC     1\n",
       "JBHT    1\n",
       "Name: Ticker Symbol, dtype: int64"
      ]
     },
     "execution_count": 71,
     "metadata": {},
     "output_type": "execute_result"
    }
   ],
   "source": [
    "list1.value_counts()"
   ]
  },
  {
   "cell_type": "markdown",
   "metadata": {},
   "source": [
    "### Conslusion"
   ]
  },
  {
   "cell_type": "markdown",
   "metadata": {},
   "source": [
    "##### We narrowed down list of companies which might be bankruptcy and need further track or investigation. Here is the final company list:\n",
    "##### KMX (CarMax), CVX (Chevron Corporation), BDX (Becton Dickinson), KR (Kroger), TJX (TJX Companies), SYY (Sysco), MKC (McCormick & Company), WFM (Whole Foods Market), PWR (Quanta Services), BBY (Best Buy), SWK (Stanley Black & Decker, Inc.), PSX (Phillips 66), GWW (W. W. Grainger), XRAY (DENTSPLY SIRONA), MO (Altria Group), GIS (General Mills), XOM (ExxonMobil), WMT (Walmart Inc), CTAS (Cintas), JBHT (J. B. Hunt), HD (The Home Depot).\n"
   ]
  },
  {
   "cell_type": "code",
   "execution_count": null,
   "metadata": {},
   "outputs": [],
   "source": []
  }
 ],
 "metadata": {
  "kernelspec": {
   "display_name": "Python 3",
   "language": "python",
   "name": "python3"
  },
  "language_info": {
   "codemirror_mode": {
    "name": "ipython",
    "version": 3
   },
   "file_extension": ".py",
   "mimetype": "text/x-python",
   "name": "python",
   "nbconvert_exporter": "python",
   "pygments_lexer": "ipython3",
   "version": "3.6.5"
  }
 },
 "nbformat": 4,
 "nbformat_minor": 2
}
