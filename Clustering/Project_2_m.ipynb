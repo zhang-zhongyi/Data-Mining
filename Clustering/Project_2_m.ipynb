{
 "cells": [
  {
   "cell_type": "markdown",
   "metadata": {},
   "source": [
    "### Assignment_2: Unsupervised Data Mining\n",
    "\n",
    "Q1. 30 Points\n",
    "\n",
    "Q2. 30 Points\n",
    "\n",
    "Q3. 20 Points\n",
    "\n",
    "Q4. 20 Points\n",
    "\n",
    "Q5. 10 Bonus Points"
   ]
  },
  {
   "cell_type": "code",
   "execution_count": 1,
   "metadata": {},
   "outputs": [],
   "source": [
    "\n",
    "%matplotlib inline\n",
    "\n",
    "import numpy as np\n",
    "import pandas as pd\n",
    "import seaborn as sns\n",
    "import matplotlib as mpl\n",
    "import matplotlib.pyplot as plt\n",
    "import sklearn\n",
    "import pickle\n",
    "\n",
    "from sklearn.preprocessing import StandardScaler\n",
    "from sklearn.utils import check_random_state\n",
    "from sklearn.decomposition import PCA\n",
    "\n",
    "from nose.tools import assert_equal, assert_is_instance, assert_is_not\n",
    "from numpy.testing import assert_array_equal, assert_array_almost_equal, assert_almost_equal\n",
    "from pandas.util.testing import assert_frame_equal"
   ]
  },
  {
   "cell_type": "markdown",
   "metadata": {},
   "source": [
    "##### The things you should pay attention:\n",
    "\n",
    "Make sure you fill in any place that says YOUR CODE HERE. Do not write your answer in anywhere else other than where it says YOUR CODE HERE. Anything you write anywhere else will be removed or overwritten by the autograder.\n",
    "\n",
    "Before you submit your assignment, make sure everything runs as expected. If you have sufficient time, please go to menubar, select Kernel, and restart the kernel and run all cells (Restart & Run all).\n",
    "\n",
    "Make sure that you save your work (in the menubar, select File → Save and CheckPoint)\n",
    "\n",
    "Good Luck!\n",
    "\n",
    "UP"
   ]
  },
  {
   "cell_type": "markdown",
   "metadata": {},
   "source": [
    "### Problem_1: Dimension Reduction"
   ]
  },
  {
   "cell_type": "markdown",
   "metadata": {},
   "source": [
    "With Problem_1, we aim to have a better understanding of dimension reduction with PCA. We will use Delta Airline data. Delta and other major airlines have data on all of their aircrafts on their website. [e.g.](https://www.delta.com/content/www/en_US/traveling-with-us/airports-and-aircraft/Aircraft.html)\n",
    "\n",
    "We will use delta.csv uploaded on Canvas Module for this assignment.\n",
    "\n",
    "This data set has 34 columns (including the names of the aircrafts) on 44 aircrafts. It inclues both quantitative measurements such as cruising speed, accommodation and range in miles, as well as categorical data, such as whether a particular aircraft has Wi-Fi or video. These binary are assigned values of either 1 or 0, for yes or no respectively."
   ]
  },
  {
   "cell_type": "code",
   "execution_count": 50,
   "metadata": {},
   "outputs": [],
   "source": [
    "df = pd.read_csv('delta.csv', index_col='Aircraft')"
   ]
  },
  {
   "cell_type": "code",
   "execution_count": 3,
   "metadata": {},
   "outputs": [
    {
     "data": {
      "text/html": [
       "<div>\n",
       "<style scoped>\n",
       "    .dataframe tbody tr th:only-of-type {\n",
       "        vertical-align: middle;\n",
       "    }\n",
       "\n",
       "    .dataframe tbody tr th {\n",
       "        vertical-align: top;\n",
       "    }\n",
       "\n",
       "    .dataframe thead th {\n",
       "        text-align: right;\n",
       "    }\n",
       "</style>\n",
       "<table border=\"1\" class=\"dataframe\">\n",
       "  <thead>\n",
       "    <tr style=\"text-align: right;\">\n",
       "      <th></th>\n",
       "      <th>Seat Width (Club)</th>\n",
       "      <th>Seat Pitch (Club)</th>\n",
       "      <th>Seat (Club)</th>\n",
       "      <th>Seat Width (First Class)</th>\n",
       "      <th>Seat Pitch (First Class)</th>\n",
       "      <th>Seats (First Class)</th>\n",
       "      <th>Seat Width (Business)</th>\n",
       "      <th>Seat Pitch (Business)</th>\n",
       "      <th>Seats (Business)</th>\n",
       "      <th>Seat Width (Eco Comfort)</th>\n",
       "      <th>...</th>\n",
       "      <th>Video</th>\n",
       "      <th>Power</th>\n",
       "      <th>Satellite</th>\n",
       "      <th>Flat-bed</th>\n",
       "      <th>Sleeper</th>\n",
       "      <th>Club</th>\n",
       "      <th>First Class</th>\n",
       "      <th>Business</th>\n",
       "      <th>Eco Comfort</th>\n",
       "      <th>Economy</th>\n",
       "    </tr>\n",
       "    <tr>\n",
       "      <th>Aircraft</th>\n",
       "      <th></th>\n",
       "      <th></th>\n",
       "      <th></th>\n",
       "      <th></th>\n",
       "      <th></th>\n",
       "      <th></th>\n",
       "      <th></th>\n",
       "      <th></th>\n",
       "      <th></th>\n",
       "      <th></th>\n",
       "      <th></th>\n",
       "      <th></th>\n",
       "      <th></th>\n",
       "      <th></th>\n",
       "      <th></th>\n",
       "      <th></th>\n",
       "      <th></th>\n",
       "      <th></th>\n",
       "      <th></th>\n",
       "      <th></th>\n",
       "      <th></th>\n",
       "    </tr>\n",
       "  </thead>\n",
       "  <tbody>\n",
       "    <tr>\n",
       "      <th>Airbus A319</th>\n",
       "      <td>0.0</td>\n",
       "      <td>0</td>\n",
       "      <td>0</td>\n",
       "      <td>21.0</td>\n",
       "      <td>36.0</td>\n",
       "      <td>12</td>\n",
       "      <td>0.0</td>\n",
       "      <td>0.0</td>\n",
       "      <td>0</td>\n",
       "      <td>17.2</td>\n",
       "      <td>...</td>\n",
       "      <td>0</td>\n",
       "      <td>0</td>\n",
       "      <td>0</td>\n",
       "      <td>0</td>\n",
       "      <td>0</td>\n",
       "      <td>0</td>\n",
       "      <td>1</td>\n",
       "      <td>0</td>\n",
       "      <td>1</td>\n",
       "      <td>1</td>\n",
       "    </tr>\n",
       "    <tr>\n",
       "      <th>Airbus A319 VIP</th>\n",
       "      <td>19.4</td>\n",
       "      <td>44</td>\n",
       "      <td>12</td>\n",
       "      <td>19.4</td>\n",
       "      <td>40.0</td>\n",
       "      <td>28</td>\n",
       "      <td>21.0</td>\n",
       "      <td>59.0</td>\n",
       "      <td>14</td>\n",
       "      <td>0.0</td>\n",
       "      <td>...</td>\n",
       "      <td>1</td>\n",
       "      <td>0</td>\n",
       "      <td>0</td>\n",
       "      <td>0</td>\n",
       "      <td>0</td>\n",
       "      <td>1</td>\n",
       "      <td>1</td>\n",
       "      <td>1</td>\n",
       "      <td>0</td>\n",
       "      <td>0</td>\n",
       "    </tr>\n",
       "    <tr>\n",
       "      <th>Airbus A320</th>\n",
       "      <td>0.0</td>\n",
       "      <td>0</td>\n",
       "      <td>0</td>\n",
       "      <td>21.0</td>\n",
       "      <td>36.0</td>\n",
       "      <td>12</td>\n",
       "      <td>0.0</td>\n",
       "      <td>0.0</td>\n",
       "      <td>0</td>\n",
       "      <td>17.2</td>\n",
       "      <td>...</td>\n",
       "      <td>0</td>\n",
       "      <td>0</td>\n",
       "      <td>0</td>\n",
       "      <td>0</td>\n",
       "      <td>0</td>\n",
       "      <td>0</td>\n",
       "      <td>1</td>\n",
       "      <td>0</td>\n",
       "      <td>1</td>\n",
       "      <td>1</td>\n",
       "    </tr>\n",
       "    <tr>\n",
       "      <th>Airbus A320 32-R</th>\n",
       "      <td>0.0</td>\n",
       "      <td>0</td>\n",
       "      <td>0</td>\n",
       "      <td>21.0</td>\n",
       "      <td>36.0</td>\n",
       "      <td>12</td>\n",
       "      <td>0.0</td>\n",
       "      <td>0.0</td>\n",
       "      <td>0</td>\n",
       "      <td>17.2</td>\n",
       "      <td>...</td>\n",
       "      <td>0</td>\n",
       "      <td>0</td>\n",
       "      <td>0</td>\n",
       "      <td>0</td>\n",
       "      <td>0</td>\n",
       "      <td>0</td>\n",
       "      <td>1</td>\n",
       "      <td>0</td>\n",
       "      <td>1</td>\n",
       "      <td>1</td>\n",
       "    </tr>\n",
       "    <tr>\n",
       "      <th>Airbus A330-200</th>\n",
       "      <td>0.0</td>\n",
       "      <td>0</td>\n",
       "      <td>0</td>\n",
       "      <td>0.0</td>\n",
       "      <td>0.0</td>\n",
       "      <td>0</td>\n",
       "      <td>21.0</td>\n",
       "      <td>60.0</td>\n",
       "      <td>32</td>\n",
       "      <td>18.0</td>\n",
       "      <td>...</td>\n",
       "      <td>1</td>\n",
       "      <td>1</td>\n",
       "      <td>0</td>\n",
       "      <td>1</td>\n",
       "      <td>0</td>\n",
       "      <td>0</td>\n",
       "      <td>0</td>\n",
       "      <td>1</td>\n",
       "      <td>1</td>\n",
       "      <td>1</td>\n",
       "    </tr>\n",
       "  </tbody>\n",
       "</table>\n",
       "<p>5 rows × 33 columns</p>\n",
       "</div>"
      ],
      "text/plain": [
       "                  Seat Width (Club)  Seat Pitch (Club)  Seat (Club)  \\\n",
       "Aircraft                                                              \n",
       "Airbus A319                     0.0                  0            0   \n",
       "Airbus A319 VIP                19.4                 44           12   \n",
       "Airbus A320                     0.0                  0            0   \n",
       "Airbus A320 32-R                0.0                  0            0   \n",
       "Airbus A330-200                 0.0                  0            0   \n",
       "\n",
       "                  Seat Width (First Class)  Seat Pitch (First Class)  \\\n",
       "Aircraft                                                               \n",
       "Airbus A319                           21.0                      36.0   \n",
       "Airbus A319 VIP                       19.4                      40.0   \n",
       "Airbus A320                           21.0                      36.0   \n",
       "Airbus A320 32-R                      21.0                      36.0   \n",
       "Airbus A330-200                        0.0                       0.0   \n",
       "\n",
       "                  Seats (First Class)  Seat Width (Business)  \\\n",
       "Aircraft                                                       \n",
       "Airbus A319                        12                    0.0   \n",
       "Airbus A319 VIP                    28                   21.0   \n",
       "Airbus A320                        12                    0.0   \n",
       "Airbus A320 32-R                   12                    0.0   \n",
       "Airbus A330-200                     0                   21.0   \n",
       "\n",
       "                  Seat Pitch (Business)  Seats (Business)  \\\n",
       "Aircraft                                                    \n",
       "Airbus A319                         0.0                 0   \n",
       "Airbus A319 VIP                    59.0                14   \n",
       "Airbus A320                         0.0                 0   \n",
       "Airbus A320 32-R                    0.0                 0   \n",
       "Airbus A330-200                    60.0                32   \n",
       "\n",
       "                  Seat Width (Eco Comfort)  ...  Video  Power  Satellite  \\\n",
       "Aircraft                                    ...                            \n",
       "Airbus A319                           17.2  ...      0      0          0   \n",
       "Airbus A319 VIP                        0.0  ...      1      0          0   \n",
       "Airbus A320                           17.2  ...      0      0          0   \n",
       "Airbus A320 32-R                      17.2  ...      0      0          0   \n",
       "Airbus A330-200                       18.0  ...      1      1          0   \n",
       "\n",
       "                  Flat-bed  Sleeper  Club  First Class  Business  Eco Comfort  \\\n",
       "Aircraft                                                                        \n",
       "Airbus A319              0        0     0            1         0            1   \n",
       "Airbus A319 VIP          0        0     1            1         1            0   \n",
       "Airbus A320              0        0     0            1         0            1   \n",
       "Airbus A320 32-R         0        0     0            1         0            1   \n",
       "Airbus A330-200          1        0     0            0         1            1   \n",
       "\n",
       "                  Economy  \n",
       "Aircraft                   \n",
       "Airbus A319             1  \n",
       "Airbus A319 VIP         0  \n",
       "Airbus A320             1  \n",
       "Airbus A320 32-R        1  \n",
       "Airbus A330-200         1  \n",
       "\n",
       "[5 rows x 33 columns]"
      ]
     },
     "execution_count": 3,
     "metadata": {},
     "output_type": "execute_result"
    }
   ],
   "source": [
    "df.head()"
   ]
  },
  {
   "cell_type": "markdown",
   "metadata": {},
   "source": [
    "First, let's look at the attributes related to the aircraft physical characteristics:\n",
    "\n",
    "Cruising Speed (mph)\n",
    "Range (miles)\n",
    "Engines\n",
    "Wingspan (ft)\n",
    "Tail Height (ft)\n",
    "Length (ft)\n",
    "These six variables are about in the middle of the data frame (and it's part of your task to figure out where they are located).\n",
    "\n",
    "Write a function named plot_pairgrid() that takes a pandas.DataFrame and uses seaborn.PairGrid to visualize the attributes related to the six physical characteristics listed above. The plots on the diagonal should be histograms of corresponding attributes, and the off-diagonal should be scatter plots."
   ]
  },
  {
   "cell_type": "code",
   "execution_count": 4,
   "metadata": {},
   "outputs": [
    {
     "data": {
      "text/plain": [
       "21"
      ]
     },
     "execution_count": 4,
     "metadata": {},
     "output_type": "execute_result"
    }
   ],
   "source": [
    "df.columns.get_loc(\"Length (ft)\")"
   ]
  },
  {
   "cell_type": "code",
   "execution_count": 5,
   "metadata": {},
   "outputs": [],
   "source": [
    "\n",
    "def plot_pairgrid(df):\n",
    "    '''\n",
    "    Uses seaborn.PairGrid to visualize the attributes related to the six physical characteristics.\n",
    "    Diagonal plots are histograms. The off-diagonal plots are scatter plots.\n",
    "    \n",
    "    Parameters\n",
    "    ----------\n",
    "    df: A pandas.DataFrame. Comes from importing delta.csv.\n",
    "    \n",
    "    Returns\n",
    "    -------\n",
    "    A seaborn.axisgrid.PairGrid instance.\n",
    "    '''\n",
    "    \n",
    "    # YOUR CODE HERE\n",
    "    # more simple version\n",
    "    sns.set(style=\"white\")\n",
    "\n",
    "    # Load the Iris Data\n",
    "    delta = df.iloc[:, [16,17,18,19,20,21]]\n",
    "\n",
    "    #df2 = df[['column1', 'column2', 'column3', 'column4']]\n",
    "    g = sns.PairGrid(delta)\n",
    "    g = g.map_offdiag(plt.scatter)\n",
    "    ax = g.map_diag(plt.hist)\n",
    "    \n",
    "    return ax\n"
   ]
  },
  {
   "cell_type": "code",
   "execution_count": 6,
   "metadata": {},
   "outputs": [
    {
     "data": {
      "image/png": "[encoded data removed]",
      "text/plain": [
       "<Figure size 1080x1080 with 42 Axes>"
      ]
     },
     "metadata": {},
     "output_type": "display_data"
    }
   ],
   "source": [
    "pg = plot_pairgrid(df) #your answer should look like this"
   ]
  },
  {
   "cell_type": "markdown",
   "metadata": {},
   "source": [
    "We observe that pretty strong positive correlations between all these variables, as most of them are related to the aircraft’s overall size. Remarkably there is an almost perfectly linear relationship between wingspan and tail height.\n",
    "\n",
    "The exception here is engines. There is one outlier which has four engines, while all the other aircraft have two. In this way the engines variable is really more like a categorical variable, but we shall as the analysis progresses that this is not really important, as there are other variables which more strongly discern the aircraft from one another than this."
   ]
  },
  {
   "cell_type": "code",
   "execution_count": 7,
   "metadata": {},
   "outputs": [],
   "source": [
    "### This is the unittest cell, please just run this cell without any modification once you generated \"pg\" above\n",
    "\n",
    "cols = ['Cruising Speed (mph)', 'Range (miles)', 'Engines',\n",
    "        'Wingspan (ft)', 'Tail Height (ft)', 'Length (ft)']\n",
    "\n",
    "assert_is_instance(pg.fig, plt.Figure)\n",
    "assert_equal(set(pg.data.columns), set(cols))\n",
    "\n",
    "for ax in pg.diag_axes:\n",
    "    assert_equal(len(ax.patches), 10)\n",
    "\n",
    "for i, j in zip(*np.triu_indices_from(pg.axes, 1)):\n",
    "    ax = pg.axes[i, j]\n",
    "    x_in = df[cols[j]]\n",
    "    y_in = df[cols[i]]\n",
    "    x_out, y_out = ax.collections[0].get_offsets().T\n",
    "    assert_array_equal(x_in, x_out)\n",
    "    assert_array_equal(y_in, y_out)\n",
    "\n",
    "for i, j in zip(*np.tril_indices_from(pg.axes, -1)):\n",
    "    ax = pg.axes[i, j]\n",
    "    x_in = df[cols[j]]\n",
    "    y_in = df[cols[i]]\n",
    "    x_out, y_out = ax.collections[0].get_offsets().T\n",
    "    assert_array_equal(x_in, x_out)\n",
    "    assert_array_equal(y_in, y_out)\n",
    "\n",
    "for i, j in zip(*np.diag_indices_from(pg.axes)):\n",
    "    ax = pg.axes[i, j]\n",
    "    assert_equal(len(ax.collections), 0)"
   ]
  },
  {
   "cell_type": "markdown",
   "metadata": {},
   "source": [
    "#### Apply PCA\n",
    "I assume we dont know anything about dimensionality reduction techniques and just naively apply principle components to the data.\n",
    "\n",
    "Write a function named fit_pca() that takes a pandas.DataFrame and uses [sklearn.decomposition.PCA](http://scikit-learn.org/stable/modules/generated/sklearn.decomposition.PCA.html) to fit a PCA model on all values of df."
   ]
  },
  {
   "cell_type": "code",
   "execution_count": 75,
   "metadata": {},
   "outputs": [],
   "source": [
    " def fit_pca(df, n_components):\n",
    "    '''\n",
    "    Uses sklearn.decomposition.PCA to fit a PCA model on \"df\".\n",
    "    \n",
    "    Parameters\n",
    "    ----------\n",
    "    df: A pandas.DataFrame. Comes from delta.csv.\n",
    "    n_components: An int. Number of principal components to keep.\n",
    "    \n",
    "    Returns\n",
    "    -------\n",
    "    An sklearn.decomposition.pca.PCA instance.\n",
    "    '''\n",
    "    \n",
    "    # YOUR CODE HERE\n",
    "    pca = PCA(n_components=n_components).fit(df)\n",
    "    \n",
    "    \n",
    "    return pca"
   ]
  },
  {
   "cell_type": "code",
   "execution_count": 76,
   "metadata": {},
   "outputs": [],
   "source": [
    "# we keep all components by setting n_components = no of cols in df. FYI df.shape[0] returns # of rows, len(df.columns) also works similar\n",
    "pca_naive = fit_pca(df, n_components=df.shape[1])"
   ]
  },
  {
   "cell_type": "code",
   "execution_count": 77,
   "metadata": {},
   "outputs": [],
   "source": [
    "assert_is_instance(pca_naive, PCA)\n",
    "assert_almost_equal(pca_naive.explained_variance_ratio_.sum(), 1.0, 3)\n",
    "assert_equal(pca_naive.n_components_, df.shape[1])\n",
    "assert_equal(pca_naive.whiten, False)"
   ]
  },
  {
   "cell_type": "code",
   "execution_count": 78,
   "metadata": {},
   "outputs": [],
   "source": [
    "def plot_naive_variance(pca):\n",
    "    '''\n",
    "    Plots the variance explained by each of the principal components.\n",
    "    Attributes are not scaled, hence a naive approach.\n",
    "    \n",
    "    Parameters\n",
    "    ----------\n",
    "    pca: An sklearn.decomposition.pca.PCA instance.\n",
    "    \n",
    "    Returns\n",
    "    -------\n",
    "    A matplotlib.Axes instance.\n",
    "    '''\n",
    "    \n",
    "    # YOUR CODE HERE\n",
    "    vars = pca.explained_variance_ratio_\n",
    "    fig, ax = plt.subplots(figsize=(10,6))\n",
    "    ax.set_xlabel('Dimension #')\n",
    "    ax.set_ylabel('Explained Variance Ratio')\n",
    "    ax.set_title('Fraction of Explained Variance')\n",
    "    ax.plot(vars)\n",
    "    \n",
    "\n",
    "\n",
    "\n",
    "    return ax"
   ]
  },
  {
   "cell_type": "code",
   "execution_count": 79,
   "metadata": {},
   "outputs": [
    {
     "data": {
      "image/png": "[encoded data removed]",
      "text/plain": [
       "<Figure size 720x432 with 1 Axes>"
      ]
     },
     "metadata": {
      "needs_background": "light"
     },
     "output_type": "display_data"
    }
   ],
   "source": [
    "naive_var = plot_naive_variance(pca_naive)"
   ]
  },
  {
   "cell_type": "code",
   "execution_count": 80,
   "metadata": {},
   "outputs": [],
   "source": [
    "assert_is_instance(naive_var, mpl.axes.Axes)\n",
    "assert_equal(len(naive_var.lines), 1)\n",
    "\n",
    "assert_is_not(len(naive_var.title.get_text()), 0,\n",
    "    msg=\"Your plot doesn't have a title.\")\n",
    "assert_is_not(naive_var.xaxis.get_label_text(), '',\n",
    "    msg=\"Change the x-axis label to something more descriptive.\")\n",
    "assert_is_not(naive_var.yaxis.get_label_text(), '',\n",
    "    msg=\"Change the y-axis label to something more descriptive.\")\n",
    "\n",
    "xdata, ydata = naive_var.lines[0].get_xydata().T\n",
    "assert_array_equal(xdata, list(range(df.shape[1])))\n",
    "assert_array_almost_equal(ydata, pca_naive.explained_variance_ratio_)"
   ]
  },
  {
   "cell_type": "code",
   "execution_count": 81,
   "metadata": {},
   "outputs": [
    {
     "name": "stdout",
     "output_type": "stream",
     "text": [
      "\"Range (miles)\" accounts for 0.999 % of the variance.\n"
     ]
    }
   ],
   "source": [
    "abs_val = np.abs(pca_naive.components_[0])\n",
    "max_pos = abs_val.argmax()\n",
    "max_val = abs_val.max()\n",
    "\n",
    "print('\"{0}\" accounts for {1:0.3f} % of the variance.'.format(df.columns[max_pos], max_val))"
   ]
  },
  {
   "cell_type": "markdown",
   "metadata": {},
   "source": [
    "Taking this naive approach, we can see that the first principal component accounts for 99.9% of the variance in the data. (Note the y-axis is on a log scale.) Looking more closely, can we see that the first principle component is just the range in miles? This is because the scale of the different variables in the data set is quite variable."
   ]
  },
  {
   "cell_type": "markdown",
   "metadata": {},
   "source": [
    "PCA is a scale-dependent method. For example, if the range of one column is [-100, 100], while the that of another column is [-0.1, 0.1], PCA will place more weight on the feature with larger values. One way to avoid this is to standardize a data set by scaling each feature so that the individual features all look like Gausssian distributions with zero mean and unit variance. \n",
    "\n",
    "Please write a function named standardize() where StandardScaler function of sklearn will be used to scale each feature so that they have zero mean and unit variance."
   ]
  },
  {
   "cell_type": "code",
   "execution_count": 82,
   "metadata": {},
   "outputs": [],
   "source": [
    "def standardize(df):\n",
    "    '''\n",
    "    Uses sklearn.preprocessing.StandardScaler to make each features look like\n",
    "    a Gaussian with zero mean and unit variance.\n",
    "    \n",
    "    Parameters\n",
    "    ----------\n",
    "    df: A pandas.DataFrame\n",
    "    \n",
    "    Returns\n",
    "    -------\n",
    "    A numpy array.\n",
    "    '''\n",
    "    \n",
    "    # YOUR CODE HERE\n",
    "    stscaler = StandardScaler().fit(df)\n",
    "    scaled = stscaler.transform(df)\n",
    "    \n",
    "    \n",
    "    return scaled"
   ]
  },
  {
   "cell_type": "code",
   "execution_count": 83,
   "metadata": {},
   "outputs": [
    {
     "name": "stderr",
     "output_type": "stream",
     "text": [
      "c:\\program files\\python37\\lib\\site-packages\\sklearn\\preprocessing\\data.py:645: DataConversionWarning: Data with input dtype int64, float64 were all converted to float64 by StandardScaler.\n",
      "  return self.partial_fit(X, y)\n",
      "c:\\program files\\python37\\lib\\site-packages\\ipykernel_launcher.py:17: DataConversionWarning: Data with input dtype int64, float64 were all converted to float64 by StandardScaler.\n"
     ]
    }
   ],
   "source": [
    "scaled = standardize(df)\n"
   ]
  },
  {
   "cell_type": "code",
   "execution_count": 84,
   "metadata": {},
   "outputs": [],
   "source": [
    "rng = np.random.RandomState(0)\n",
    "n_samples, n_features = 4, 5\n",
    "\n",
    "df_t1 = pd.DataFrame(\n",
    "    rng.randn(n_samples, n_features),\n",
    "    index=[i for i in 'abcd'],\n",
    "    columns=[c for c  in 'abcde']\n",
    "    )\n",
    "df_t1.loc[:, 'a'] = 0.0  # make first feature zero\n",
    "\n",
    "scaled_t1 = standardize(df_t1)\n",
    "\n",
    "assert_is_not(df_t1, scaled_t1)\n",
    "assert_is_instance(scaled_t1, np.ndarray)\n",
    "assert_array_almost_equal(\n",
    "    scaled_t1.mean(axis=0),\n",
    "    n_features * [0.0] # scaled data should have mean zero\n",
    "    ) \n",
    "assert_array_almost_equal(\n",
    "    scaled_t1.std(axis=0),\n",
    "    [0., 1., 1., 1., 1.] # unit variance except for 1st feature\n",
    "    )"
   ]
  },
  {
   "cell_type": "code",
   "execution_count": 85,
   "metadata": {},
   "outputs": [],
   "source": [
    "# we keep only 10 components\n",
    "\n",
    "n_components = 10\n",
    "pca = fit_pca(scaled, n_components=n_components)"
   ]
  },
  {
   "cell_type": "markdown",
   "metadata": {},
   "source": [
    "Let's take another look to the explained variance of the first 10 principal components from the scaled data."
   ]
  },
  {
   "cell_type": "code",
   "execution_count": 86,
   "metadata": {},
   "outputs": [],
   "source": [
    "def plot_scaled_variance(pca):\n",
    "    '''\n",
    "    Plots the variance explained by each of the principal components.\n",
    "    Features are scaled with sklearn.StandardScaler.\n",
    "    \n",
    "    Parameters\n",
    "    ----------\n",
    "    pca: An sklearn.decomposition.pca.PCA instance.\n",
    "    \n",
    "    Returns\n",
    "    -------\n",
    "    A matplotlib.Axes instance.\n",
    "    '''\n",
    "    \n",
    "    # YOUR CODE HERE\n",
    "    vars = pca.explained_variance_ratio_\n",
    "    fig, ax = plt.subplots(figsize=(10,6))\n",
    "    ax.set_xlabel('Dimension #')\n",
    "    ax.set_ylabel('Explained Variance Ratio')\n",
    "    ax.set_title('Fraction of Explained Variance')\n",
    "    ax.plot(vars)\n",
    "    \n",
    "    \n",
    "    \n",
    "    return ax"
   ]
  },
  {
   "cell_type": "code",
   "execution_count": 20,
   "metadata": {
    "scrolled": true
   },
   "outputs": [
    {
     "data": {
      "image/png": "[encoded data removed]",
      "text/plain": [
       "<Figure size 720x432 with 1 Axes>"
      ]
     },
     "metadata": {},
     "output_type": "display_data"
    }
   ],
   "source": [
    "ax = plot_scaled_variance(pca)"
   ]
  },
  {
   "cell_type": "code",
   "execution_count": 21,
   "metadata": {},
   "outputs": [],
   "source": [
    "assert_is_instance(ax, mpl.axes.Axes)\n",
    "assert_equal(len(ax.lines), 1)\n",
    "\n",
    "assert_is_not(len(ax.title.get_text()), 0, msg=\"Your plot doesn't have a title.\")\n",
    "assert_is_not(ax.xaxis.get_label_text(), '', msg=\"Change the x-axis label to something more descriptive.\")\n",
    "assert_is_not(ax.yaxis.get_label_text(), '', msg=\"Change the y-axis label to something more descriptive.\")\n",
    "\n",
    "xdata, ydata = ax.lines[0].get_xydata().T\n",
    "assert_array_equal(xdata, list(range(n_components)))\n",
    "assert_array_almost_equal(ydata, pca.explained_variance_ratio_)"
   ]
  },
  {
   "cell_type": "markdown",
   "metadata": {},
   "source": [
    "Nice, it looks good to go. There are various rules of thumb for selecting the number of principal components to retain in an analysis of this type, one of which I’ve experienced about is:\n",
    "\n",
    "Pick the number of components which explain 85% or greater of the variation.\n",
    "So, we will keep the first 4 principal components (remember that we are counting from zero, so we are keeping 0th, 1st, 2nd, and 3rd components—four components). Later in this assignment, we will use these four components to fit a $k$-means model. Before we move on to the next problem, let's apply the dimensional reduction on the scaled data. (In the previous sections, we didn't actually have to apply  transform(). This step is to make sure that the scaled data is actually \"transformed\".)\n",
    "\n",
    "Write a function named reduce() that takes a PCA model (that is already trained on array) and a Numpy array, and applies dimensional reduction on the array."
   ]
  },
  {
   "cell_type": "code",
   "execution_count": 22,
   "metadata": {},
   "outputs": [],
   "source": [
    "\n",
    "def reduce(pca, array):\n",
    "    '''\n",
    "    Applies the `pca` model on array.\n",
    "    \n",
    "    Parameters\n",
    "    ----------\n",
    "    pca: An sklearn.decomposition.PCA instance.\n",
    "    \n",
    "    Returns\n",
    "    -------\n",
    "    A Numpy array\n",
    "    '''\n",
    "    \n",
    "    # YOUR CODE HERE\n",
    "    reduced = pca.transform(array)\n",
    "\n",
    "    \n",
    "    return reduced"
   ]
  },
  {
   "cell_type": "code",
   "execution_count": 23,
   "metadata": {},
   "outputs": [
    {
     "name": "stdout",
     "output_type": "stream",
     "text": [
      "(44, 10)\n"
     ]
    }
   ],
   "source": [
    "reduced = reduce(pca, scaled)\n",
    "print(reduced.shape)"
   ]
  },
  {
   "cell_type": "code",
   "execution_count": 24,
   "metadata": {},
   "outputs": [],
   "source": [
    "assert_is_instance(reduced, np.ndarray)\n",
    "assert_array_almost_equal(reduced, pca.fit_transform(scaled))"
   ]
  },
  {
   "cell_type": "code",
   "execution_count": 25,
   "metadata": {},
   "outputs": [],
   "source": [
    "# Save the reduced data to the same directory of your notebook  as 'delta_reeuced.npy' that we will use later on\n",
    "np.save('delta_reduced.npy', reduced)"
   ]
  },
  {
   "cell_type": "markdown",
   "metadata": {},
   "source": [
    "### Problem 2. Clustering\n",
    "\n",
    "We will use the first 10 principal components of the Delta Airline data set that we created in the first step.\n"
   ]
  },
  {
   "cell_type": "code",
   "execution_count": 26,
   "metadata": {},
   "outputs": [],
   "source": [
    "##Standard imports just in case\n",
    "\n",
    "%matplotlib inline\n",
    "\n",
    "import numpy as np\n",
    "import pandas as pd\n",
    "import seaborn as sns\n",
    "import matplotlib as mpl\n",
    "import matplotlib.pyplot as plt\n",
    "import sklearn\n",
    "\n",
    "from sklearn.utils import check_random_state\n",
    "from sklearn.cluster import KMeans\n",
    "\n",
    "from nose.tools import assert_equal, assert_is_instance, assert_true, assert_is_not\n",
    "from numpy.testing import assert_array_equal, assert_array_almost_equal, assert_almost_equal"
   ]
  },
  {
   "cell_type": "code",
   "execution_count": 46,
   "metadata": {},
   "outputs": [],
   "source": [
    "## Reload the the first 10 components of delta dataset\n",
    "reduced = np.load('delta_reduced.npy')\n"
   ]
  },
  {
   "cell_type": "markdown",
   "metadata": {},
   "source": [
    "Write a function named cluster() that fits a k-means clustering algorithm, and returns a tuple (sklearn.cluster.k_means_.KMeans, np.array). The second element of the tuple is a 1-d array that contains the predictions of k-means clustering, i.e. which cluster each data point belongs to. Please remember how we were generating and using the labels for seeds, movements, iris etc.\n",
    "\n",
    "\n",
    "Use default values for all parameters in KMeans() execept for n_clusters and random_state."
   ]
  },
  {
   "cell_type": "code",
   "execution_count": 28,
   "metadata": {},
   "outputs": [],
   "source": [
    "def cluster(array, random_state, n_clusters=4):\n",
    "    '''\n",
    "    Fits and predicts k-means clustering on \"array\"\n",
    "    \n",
    "    Parameters\n",
    "    ----------\n",
    "    array: A numpy array\n",
    "    random_state: Random seed, e.g. check_random_state(0)\n",
    "    n_clusters: The number of clusters. Default: 4\n",
    "    \n",
    "    Returns\n",
    "    -------\n",
    "    A tuple (sklearn.KMeans, np.ndarray)\n",
    "    '''\n",
    "    model = KMeans(n_clusters=n_clusters, init = 'k-means++', random_state=0)\n",
    "    clusters = model.fit_predict(array)\n",
    "    \n",
    "    return model, clusters\n",
    "\n",
    "#here we return fitted (model) and predicted (clusters) arrays as a tuple"
   ]
  },
  {
   "cell_type": "code",
   "execution_count": 29,
   "metadata": {},
   "outputs": [],
   "source": [
    "k_means_t, cluster_t = cluster(reduced, random_state=check_random_state(1), n_clusters=5)\n",
    "\n",
    "assert_is_instance(k_means_t, sklearn.cluster.k_means_.KMeans)\n",
    "assert_is_instance(cluster_t, np.ndarray)\n",
    "assert_equal(k_means_t.n_init, 10)\n",
    "assert_equal(k_means_t.n_clusters, 5)\n",
    "assert_equal(len(cluster_t), len(reduced))\n",
    "assert_true((cluster_t < 5).all()) # n_cluster = 5 so labels should be between 0 and 5\n",
    "assert_true((cluster_t >= 0).all())\n",
    "labels_gold = -1. * np.ones(len(reduced), dtype=np.int)\n",
    "mindist = np.empty(len(reduced))\n",
    "mindist.fill(np.infty)\n",
    "for i in range(5):\n",
    "    dist = np.sum((reduced - k_means_t.cluster_centers_[i])**2., axis=1)\n",
    "    labels_gold[dist < mindist] = i\n",
    "    mindist = np.minimum(dist, mindist)\n",
    "assert_true((mindist >= 0.0).all())\n",
    "assert_true((labels_gold != -1).all())\n",
    "assert_array_equal(labels_gold, cluster_t)"
   ]
  },
  {
   "cell_type": "markdown",
   "metadata": {},
   "source": [
    "The scikit-learn documentation on sklearn.cluster.KMeans says that [Kmeans cluster](http://scikit-learn.org/stable/modules/generated/sklearn.cluster.KMeans.html) has the inertia value in the inertia_ attribute. So we can vary the number of clusters in KMeans, plot KMeans.inertia_ as a function of the number of clusters, and pick the \"elbow\" in the plot.\n",
    "\n",
    "Always use check_random_state(0) to seed the random number generator.\n"
   ]
  },
  {
   "cell_type": "code",
   "execution_count": 30,
   "metadata": {},
   "outputs": [],
   "source": [
    "def plot_inertia(array, start=1, end=10):\n",
    "    '''\n",
    "    Increase the number of clusters from \"start\" to \"end\" (inclusive).\n",
    "    Finds the inertia of k-means clustering for different k.\n",
    "    Plots inertia as a function of the number of clusters.\n",
    "\n",
    "    \n",
    "    Parameters\n",
    "    ----------\n",
    "    array: A numpy array.\n",
    "    start: An int. Default: 1\n",
    "    end: An int. Default: 10\n",
    "    \n",
    "    Returns\n",
    "    -------\n",
    "    A matplotlib.Axes instance.\n",
    "    '''\n",
    "    #Your code is here\n",
    "    \n",
    "    \n",
    "    inertia = []\n",
    "\n",
    "    for i in range(start,end):\n",
    "        \n",
    "        kmeans = KMeans(n_clusters =i , init = 'k-means++', random_state = 0)\n",
    "        kmeans.fit(array)\n",
    "        inertia.append(kmeans.inertia_)\n",
    "    \n",
    "    plt.plot(range(start,end), inertia)\n",
    "    plt.title('Elbow Method')\n",
    "    plt.xlabel('Association')\n",
    "    plt.ylabel('Inertia') #within cluster sum of squares \n",
    "\n",
    "    \n",
    "    #fig, ax = plt.subplots(figsize=(10,6), inertia)\n",
    "    \n",
    "    #ax.set_title('The elbow method')\n",
    "   # ax.set_ylabel('Inertia')\n",
    "    #ax.set_xlabel('Number of clusters')\n",
    "    #plt.plot(x_axis, inertia)\n",
    "    \n",
    "\n",
    "    return plt.show()"
   ]
  },
  {
   "cell_type": "code",
   "execution_count": null,
   "metadata": {},
   "outputs": [],
   "source": []
  },
  {
   "cell_type": "code",
   "execution_count": 31,
   "metadata": {},
   "outputs": [
    {
     "data": {
      "image/png": "[encoded data removed]",
      "text/plain": [
       "<Figure size 432x288 with 1 Axes>"
      ]
     },
     "metadata": {
      "needs_background": "light"
     },
     "output_type": "display_data"
    }
   ],
   "source": [
    "inertia = plot_inertia(reduced, start=1, end=10)"
   ]
  },
  {
   "cell_type": "code",
   "execution_count": 32,
   "metadata": {},
   "outputs": [
    {
     "ename": "AssertionError",
     "evalue": "None is not an instance of <class 'matplotlib.axes._axes.Axes'>",
     "output_type": "error",
     "traceback": [
      "\u001b[1;31m---------------------------------------------------------------------------\u001b[0m",
      "\u001b[1;31mAssertionError\u001b[0m                            Traceback (most recent call last)",
      "\u001b[1;32m<ipython-input-32-80d78ca56ead>\u001b[0m in \u001b[0;36m<module>\u001b[1;34m\u001b[0m\n\u001b[1;32m----> 1\u001b[1;33m \u001b[0massert_is_instance\u001b[0m\u001b[1;33m(\u001b[0m\u001b[0minertia\u001b[0m\u001b[1;33m,\u001b[0m \u001b[0mmpl\u001b[0m\u001b[1;33m.\u001b[0m\u001b[0maxes\u001b[0m\u001b[1;33m.\u001b[0m\u001b[0mAxes\u001b[0m\u001b[1;33m)\u001b[0m\u001b[1;33m\u001b[0m\u001b[1;33m\u001b[0m\u001b[0m\n\u001b[0m\u001b[0;32m      2\u001b[0m \u001b[0massert_true\u001b[0m\u001b[1;33m(\u001b[0m\u001b[0mlen\u001b[0m\u001b[1;33m(\u001b[0m\u001b[0minertia\u001b[0m\u001b[1;33m.\u001b[0m\u001b[0mlines\u001b[0m\u001b[1;33m)\u001b[0m \u001b[1;33m>=\u001b[0m \u001b[1;36m1\u001b[0m\u001b[1;33m)\u001b[0m\u001b[1;33m\u001b[0m\u001b[1;33m\u001b[0m\u001b[0m\n\u001b[0;32m      3\u001b[0m \u001b[1;33m\u001b[0m\u001b[0m\n\u001b[0;32m      4\u001b[0m \u001b[0mxdata\u001b[0m\u001b[1;33m,\u001b[0m \u001b[0mydata\u001b[0m \u001b[1;33m=\u001b[0m \u001b[0minertia\u001b[0m\u001b[1;33m.\u001b[0m\u001b[0mlines\u001b[0m\u001b[1;33m[\u001b[0m\u001b[1;36m0\u001b[0m\u001b[1;33m]\u001b[0m\u001b[1;33m.\u001b[0m\u001b[0mget_xydata\u001b[0m\u001b[1;33m(\u001b[0m\u001b[1;33m)\u001b[0m\u001b[1;33m.\u001b[0m\u001b[0mT\u001b[0m\u001b[1;33m\u001b[0m\u001b[1;33m\u001b[0m\u001b[0m\n\u001b[0;32m      5\u001b[0m \u001b[1;33m\u001b[0m\u001b[0m\n",
      "\u001b[1;32mc:\\program files\\python37\\lib\\unittest\\case.py\u001b[0m in \u001b[0;36massertIsInstance\u001b[1;34m(self, obj, cls, msg)\u001b[0m\n\u001b[0;32m   1261\u001b[0m         \u001b[1;32mif\u001b[0m \u001b[1;32mnot\u001b[0m \u001b[0misinstance\u001b[0m\u001b[1;33m(\u001b[0m\u001b[0mobj\u001b[0m\u001b[1;33m,\u001b[0m \u001b[0mcls\u001b[0m\u001b[1;33m)\u001b[0m\u001b[1;33m:\u001b[0m\u001b[1;33m\u001b[0m\u001b[1;33m\u001b[0m\u001b[0m\n\u001b[0;32m   1262\u001b[0m             \u001b[0mstandardMsg\u001b[0m \u001b[1;33m=\u001b[0m \u001b[1;34m'%s is not an instance of %r'\u001b[0m \u001b[1;33m%\u001b[0m \u001b[1;33m(\u001b[0m\u001b[0msafe_repr\u001b[0m\u001b[1;33m(\u001b[0m\u001b[0mobj\u001b[0m\u001b[1;33m)\u001b[0m\u001b[1;33m,\u001b[0m \u001b[0mcls\u001b[0m\u001b[1;33m)\u001b[0m\u001b[1;33m\u001b[0m\u001b[1;33m\u001b[0m\u001b[0m\n\u001b[1;32m-> 1263\u001b[1;33m             \u001b[0mself\u001b[0m\u001b[1;33m.\u001b[0m\u001b[0mfail\u001b[0m\u001b[1;33m(\u001b[0m\u001b[0mself\u001b[0m\u001b[1;33m.\u001b[0m\u001b[0m_formatMessage\u001b[0m\u001b[1;33m(\u001b[0m\u001b[0mmsg\u001b[0m\u001b[1;33m,\u001b[0m \u001b[0mstandardMsg\u001b[0m\u001b[1;33m)\u001b[0m\u001b[1;33m)\u001b[0m\u001b[1;33m\u001b[0m\u001b[1;33m\u001b[0m\u001b[0m\n\u001b[0m\u001b[0;32m   1264\u001b[0m \u001b[1;33m\u001b[0m\u001b[0m\n\u001b[0;32m   1265\u001b[0m     \u001b[1;32mdef\u001b[0m \u001b[0massertNotIsInstance\u001b[0m\u001b[1;33m(\u001b[0m\u001b[0mself\u001b[0m\u001b[1;33m,\u001b[0m \u001b[0mobj\u001b[0m\u001b[1;33m,\u001b[0m \u001b[0mcls\u001b[0m\u001b[1;33m,\u001b[0m \u001b[0mmsg\u001b[0m\u001b[1;33m=\u001b[0m\u001b[1;32mNone\u001b[0m\u001b[1;33m)\u001b[0m\u001b[1;33m:\u001b[0m\u001b[1;33m\u001b[0m\u001b[1;33m\u001b[0m\u001b[0m\n",
      "\u001b[1;32mc:\\program files\\python37\\lib\\unittest\\case.py\u001b[0m in \u001b[0;36mfail\u001b[1;34m(self, msg)\u001b[0m\n\u001b[0;32m    678\u001b[0m     \u001b[1;32mdef\u001b[0m \u001b[0mfail\u001b[0m\u001b[1;33m(\u001b[0m\u001b[0mself\u001b[0m\u001b[1;33m,\u001b[0m \u001b[0mmsg\u001b[0m\u001b[1;33m=\u001b[0m\u001b[1;32mNone\u001b[0m\u001b[1;33m)\u001b[0m\u001b[1;33m:\u001b[0m\u001b[1;33m\u001b[0m\u001b[1;33m\u001b[0m\u001b[0m\n\u001b[0;32m    679\u001b[0m         \u001b[1;34m\"\"\"Fail immediately, with the given message.\"\"\"\u001b[0m\u001b[1;33m\u001b[0m\u001b[1;33m\u001b[0m\u001b[0m\n\u001b[1;32m--> 680\u001b[1;33m         \u001b[1;32mraise\u001b[0m \u001b[0mself\u001b[0m\u001b[1;33m.\u001b[0m\u001b[0mfailureException\u001b[0m\u001b[1;33m(\u001b[0m\u001b[0mmsg\u001b[0m\u001b[1;33m)\u001b[0m\u001b[1;33m\u001b[0m\u001b[1;33m\u001b[0m\u001b[0m\n\u001b[0m\u001b[0;32m    681\u001b[0m \u001b[1;33m\u001b[0m\u001b[0m\n\u001b[0;32m    682\u001b[0m     \u001b[1;32mdef\u001b[0m \u001b[0massertFalse\u001b[0m\u001b[1;33m(\u001b[0m\u001b[0mself\u001b[0m\u001b[1;33m,\u001b[0m \u001b[0mexpr\u001b[0m\u001b[1;33m,\u001b[0m \u001b[0mmsg\u001b[0m\u001b[1;33m=\u001b[0m\u001b[1;32mNone\u001b[0m\u001b[1;33m)\u001b[0m\u001b[1;33m:\u001b[0m\u001b[1;33m\u001b[0m\u001b[1;33m\u001b[0m\u001b[0m\n",
      "\u001b[1;31mAssertionError\u001b[0m: None is not an instance of <class 'matplotlib.axes._axes.Axes'>"
     ]
    }
   ],
   "source": [
    "assert_is_instance(inertia, mpl.axes.Axes)\n",
    "assert_true(len(inertia.lines) >= 1)\n",
    "\n",
    "xdata, ydata = inertia.lines[0].get_xydata().T\n",
    "\n",
    "for i in range(1, 11):\n",
    "    k_means_t, cluster_t = cluster(reduced, random_state=check_random_state(0), n_clusters=i)\n",
    "    assert_array_equal(xdata[i - 1], i)\n",
    "    assert_almost_equal(ydata[i - 1], k_means_t.inertia_)\n",
    "\n",
    "assert_is_not(len(inertia.title.get_text()), 0,\n",
    "    msg=\"Your plot doesn't have a title.\")\n",
    "assert_is_not(inertia.xaxis.get_label_text(), '',\n",
    "    msg=\"Change the x-axis label to something more descriptive.\")\n",
    "assert_is_not(inertia.yaxis.get_label_text(), '',\n",
    "    msg=\"Change the y-axis label to something more descriptive.\")"
   ]
  },
  {
   "cell_type": "code",
   "execution_count": 33,
   "metadata": {},
   "outputs": [],
   "source": [
    "def plot_pair(reduced, clusters):\n",
    "    '''\n",
    "    Uses seaborn.PairGrid to visualize the data distribution\n",
    "    when axes are the first four principal components.\n",
    "    Diagonal plots are histograms. The off-diagonal plots are scatter plots.\n",
    "    \n",
    "    Parameters\n",
    "    ----------\n",
    "    reduced: A numpy array. Comes from importing delta_reduced.npy\n",
    "    \n",
    "    Returns\n",
    "    -------\n",
    "    A seaborn.axisgrid.PairGrid instance.\n",
    "    '''\n",
    "    \n",
    "    df = pd.DataFrame(reduced)\n",
    "    df['c'] = clusters\n",
    "    subset = [0,1,2,3, 'c']\n",
    "    columns = [0,1,2,3]\n",
    "    \n",
    "    ax = sns.PairGrid(df[subset], vars = columns, hue = 'c')\n",
    "    ax = ax.map_diag(plt.hist)\n",
    "    ax = ax.map_offdiag(plt.scatter)\n",
    "    \n",
    "    return ax"
   ]
  },
  {
   "cell_type": "code",
   "execution_count": 34,
   "metadata": {},
   "outputs": [
    {
     "data": {
      "image/png": "[encoded data removed]",
      "text/plain": [
       "<Figure size 720x720 with 20 Axes>"
      ]
     },
     "metadata": {
      "needs_background": "light"
     },
     "output_type": "display_data"
    }
   ],
   "source": [
    "k_means, clusters = cluster(reduced, random_state=check_random_state(0), n_clusters=4)\n",
    "pg = plot_pair(reduced, clusters)"
   ]
  },
  {
   "cell_type": "markdown",
   "metadata": {},
   "source": [
    "We observe that the one outlier is in its own cluster, there’s 3 or 4 points in the other clusters and the remainder are split into two clusters of greater size."
   ]
  },
  {
   "cell_type": "code",
   "execution_count": 35,
   "metadata": {},
   "outputs": [],
   "source": [
    "assert_is_instance(pg.fig, plt.Figure)\n",
    "assert_true(len(pg.data.columns) >= 4)\n",
    "\n",
    "for ax in pg.diag_axes:\n",
    "    assert_equal(len(ax.patches), 4 * 10) # 4 clusters with 10 patches in each histogram\n",
    "\n",
    "for i, j in zip(*np.triu_indices_from(pg.axes, 1)):\n",
    "    ax = pg.axes[i, j]\n",
    "    x_out, y_out = ax.collections[0].get_offsets().T\n",
    "    x_in = reduced[clusters == 0, j] # we only check the first cluster\n",
    "    y_in = reduced[clusters == 0, i]\n",
    "    assert_array_equal(x_in, x_out)\n",
    "    assert_array_equal(y_in, y_out)\n",
    "\n",
    "for i, j in zip(*np.tril_indices_from(pg.axes, -1)):\n",
    "    ax = pg.axes[i, j]\n",
    "    x_in = reduced[clusters == 0, j]\n",
    "    y_in = reduced[clusters == 0, i]\n",
    "    x_out, y_out = ax.collections[0].get_offsets().T\n",
    "    assert_array_equal(x_in, x_out)\n",
    "    assert_array_equal(y_in, y_out)\n",
    "\n",
    "for i, j in zip(*np.diag_indices_from(pg.axes)):\n",
    "    ax = pg.axes[i, j]\n",
    "    assert_equal(len(ax.collections), 0)"
   ]
  },
  {
   "cell_type": "markdown",
   "metadata": {},
   "source": [
    "#### Let's Continue our Analysis and brainstorm\n",
    "You don't have to write any code in this section, but here's one interpretaion of what we have done.\n",
    "\n",
    "Let's take a closer look at each cluster."
   ]
  },
  {
   "cell_type": "code",
   "execution_count": 245,
   "metadata": {},
   "outputs": [
    {
     "name": "stdout",
     "output_type": "stream",
     "text": [
      "Clusters\n",
      "0    153.625000\n",
      "1    244.733333\n",
      "2     44.500000\n",
      "3     54.000000\n",
      "Name: Accommodation, dtype: float64\n"
     ]
    }
   ],
   "source": [
    "\n",
    "df = pd.read_csv('delta.csv', index_col='Aircraft')\n",
    "df['Clusters'] = clusters\n",
    "df['Aircraft'] = df.index\n",
    "df_grouped = df.groupby('Clusters').mean()\n",
    "print(df_grouped.Accommodation)"
   ]
  },
  {
   "cell_type": "code",
   "execution_count": 246,
   "metadata": {},
   "outputs": [
    {
     "name": "stdout",
     "output_type": "stream",
     "text": [
      "Clusters\n",
      "0    137.048083\n",
      "1    190.538400\n",
      "2     84.810750\n",
      "3    111.000000\n",
      "Name: Length (ft), dtype: float64\n"
     ]
    }
   ],
   "source": [
    "print(df_grouped['Length (ft)'])"
   ]
  },
  {
   "cell_type": "markdown",
   "metadata": {},
   "source": [
    "Cluster 3 has only one aircraft:"
   ]
  },
  {
   "cell_type": "code",
   "execution_count": 244,
   "metadata": {},
   "outputs": [
    {
     "name": "stdout",
     "output_type": "stream",
     "text": [
      "Aircraft\n",
      "Airbus A319 VIP    Airbus A319 VIP\n",
      "Name: Aircraft, dtype: object\n"
     ]
    }
   ],
   "source": [
    "clust3 = df[df.Clusters == 3]\n",
    "print(clust3.Aircraft)"
   ]
  },
  {
   "cell_type": "markdown",
   "metadata": {},
   "source": [
    "Airbus A319 VIP is not one of Delta Airline's regular fleet and is one of Airbus corporate jets.\n",
    "\n",
    "Cluster 2 has four aircrafts."
   ]
  },
  {
   "cell_type": "code",
   "execution_count": 38,
   "metadata": {},
   "outputs": [
    {
     "name": "stdout",
     "output_type": "stream",
     "text": [
      "Aircraft\n",
      "CRJ 100/200 Pinnacle/SkyWest    CRJ 100/200 Pinnacle/SkyWest\n",
      "CRJ 100/200 ExpressJet                CRJ 100/200 ExpressJet\n",
      "E120                                                    E120\n",
      "ERJ-145                                              ERJ-145\n",
      "Name: Aircraft, dtype: object\n"
     ]
    }
   ],
   "source": [
    "clust2 = df[df.Clusters == 2]\n",
    "print(clust2.Aircraft)"
   ]
  },
  {
   "cell_type": "markdown",
   "metadata": {},
   "source": [
    "These are small aircrafts and only have economy seats."
   ]
  },
  {
   "cell_type": "code",
   "execution_count": 39,
   "metadata": {},
   "outputs": [
    {
     "name": "stdout",
     "output_type": "stream",
     "text": [
      "                              First Class  Business  Eco Comfort  Economy\n",
      "Aircraft                                                                 \n",
      "CRJ 100/200 Pinnacle/SkyWest            0         0            0        1\n",
      "CRJ 100/200 ExpressJet                  0         0            0        1\n",
      "E120                                    0         0            0        1\n",
      "ERJ-145                                 0         0            0        1\n"
     ]
    }
   ],
   "source": [
    "cols_seat = ['First Class', 'Business', 'Eco Comfort', 'Economy']\n",
    "print(df.loc[clust2.index, cols_seat])"
   ]
  },
  {
   "cell_type": "code",
   "execution_count": 40,
   "metadata": {},
   "outputs": [
    {
     "name": "stdout",
     "output_type": "stream",
     "text": [
      "Aircraft\n",
      "Airbus A330-200                      Airbus A330-200\n",
      "Airbus A330-200 (3L2)          Airbus A330-200 (3L2)\n",
      "Airbus A330-200 (3L3)          Airbus A330-200 (3L3)\n",
      "Airbus A330-300                      Airbus A330-300\n",
      "Boeing 747-400 (74S)            Boeing 747-400 (74S)\n",
      "Boeing 757-200 (75E)            Boeing 757-200 (75E)\n",
      "Boeing 757-200 (75X)            Boeing 757-200 (75X)\n",
      "Boeing 767-300 (76G)            Boeing 767-300 (76G)\n",
      "Boeing 767-300 (76L)            Boeing 767-300 (76L)\n",
      "Boeing 767-300 (76T)            Boeing 767-300 (76T)\n",
      "Boeing 767-300 (76Z V.1)    Boeing 767-300 (76Z V.1)\n",
      "Boeing 767-300 (76Z V.2)    Boeing 767-300 (76Z V.2)\n",
      "Boeing 767-400 (76D)            Boeing 767-400 (76D)\n",
      "Boeing 777-200ER                    Boeing 777-200ER\n",
      "Boeing 777-200LR                    Boeing 777-200LR\n",
      "Name: Aircraft, dtype: object\n"
     ]
    }
   ],
   "source": [
    "clust1 = df[df.Clusters == 1]\n",
    "print(clust1.Aircraft)"
   ]
  },
  {
   "cell_type": "markdown",
   "metadata": {},
   "source": [
    "Interesting, Cluster 1 aircrafts do not have first class seating.\n",
    "\n"
   ]
  },
  {
   "cell_type": "code",
   "execution_count": 41,
   "metadata": {},
   "outputs": [
    {
     "name": "stdout",
     "output_type": "stream",
     "text": [
      "                          First Class  Business  Eco Comfort  Economy\n",
      "Aircraft                                                             \n",
      "Airbus A330-200                     0         1            1        1\n",
      "Airbus A330-200 (3L2)               0         1            1        1\n",
      "Airbus A330-200 (3L3)               0         1            1        1\n",
      "Airbus A330-300                     0         1            1        1\n",
      "Boeing 747-400 (74S)                0         1            1        1\n",
      "Boeing 757-200 (75E)                0         1            1        1\n",
      "Boeing 757-200 (75X)                0         1            1        1\n",
      "Boeing 767-300 (76G)                0         1            1        1\n",
      "Boeing 767-300 (76L)                0         1            1        1\n",
      "Boeing 767-300 (76T)                0         1            1        1\n",
      "Boeing 767-300 (76Z V.1)            0         1            1        1\n",
      "Boeing 767-300 (76Z V.2)            0         1            1        1\n",
      "Boeing 767-400 (76D)                0         1            1        1\n",
      "Boeing 777-200ER                    0         1            1        1\n",
      "Boeing 777-200LR                    0         1            1        1\n"
     ]
    }
   ],
   "source": [
    "print(df.loc[clust1.index, cols_seat])"
   ]
  },
  {
   "cell_type": "code",
   "execution_count": 42,
   "metadata": {},
   "outputs": [
    {
     "name": "stdout",
     "output_type": "stream",
     "text": [
      "Aircraft\n",
      "Airbus A319                          Airbus A319\n",
      "Airbus A320                          Airbus A320\n",
      "Airbus A320 32-R                Airbus A320 32-R\n",
      "Boeing 717                            Boeing 717\n",
      "Boeing 737-700 (73W)        Boeing 737-700 (73W)\n",
      "Boeing 737-800 (738)        Boeing 737-800 (738)\n",
      "Boeing 737-800 (73H)        Boeing 737-800 (73H)\n",
      "Boeing 737-900ER (739)    Boeing 737-900ER (739)\n",
      "Boeing 757-200 (75A)        Boeing 757-200 (75A)\n",
      "Boeing 757-200 (75M)        Boeing 757-200 (75M)\n",
      "Boeing 757-200 (75N)        Boeing 757-200 (75N)\n",
      "Boeing 757-200 (757)        Boeing 757-200 (757)\n",
      "Boeing 757-200 (75V)        Boeing 757-200 (75V)\n",
      "Boeing 757-300                    Boeing 757-300\n",
      "Boeing 767-300 (76P)        Boeing 767-300 (76P)\n",
      "Boeing 767-300 (76Q)        Boeing 767-300 (76Q)\n",
      "Boeing 767-300 (76U)        Boeing 767-300 (76U)\n",
      "CRJ 700                                  CRJ 700\n",
      "CRJ 900                                  CRJ 900\n",
      "E170                                        E170\n",
      "E175                                        E175\n",
      "MD-88                                      MD-88\n",
      "MD-90                                      MD-90\n",
      "MD-DC9-50                              MD-DC9-50\n",
      "Name: Aircraft, dtype: object\n"
     ]
    }
   ],
   "source": [
    "clust0 = df[df.Clusters == 0]\n",
    "print(clust0.Aircraft)"
   ]
  },
  {
   "cell_type": "markdown",
   "metadata": {},
   "source": [
    "The aircrafts in cluster 0 (except for one aircraft) have first class seating but no business class.\n",
    "\n"
   ]
  },
  {
   "cell_type": "code",
   "execution_count": 43,
   "metadata": {},
   "outputs": [
    {
     "name": "stdout",
     "output_type": "stream",
     "text": [
      "                        First Class  Business  Eco Comfort  Economy\n",
      "Aircraft                                                           \n",
      "Airbus A319                       1         0            1        1\n",
      "Airbus A320                       1         0            1        1\n",
      "Airbus A320 32-R                  1         0            1        1\n",
      "Boeing 717                        1         0            1        1\n",
      "Boeing 737-700 (73W)              1         0            1        1\n",
      "Boeing 737-800 (738)              1         0            1        1\n",
      "Boeing 737-800 (73H)              1         0            1        1\n",
      "Boeing 737-900ER (739)            1         0            1        1\n",
      "Boeing 757-200 (75A)              1         0            1        1\n",
      "Boeing 757-200 (75M)              1         0            1        1\n",
      "Boeing 757-200 (75N)              1         0            1        1\n",
      "Boeing 757-200 (757)              1         0            1        1\n",
      "Boeing 757-200 (75V)              1         0            1        1\n",
      "Boeing 757-300                    1         0            1        1\n",
      "Boeing 767-300 (76P)              1         0            1        1\n",
      "Boeing 767-300 (76Q)              1         0            1        1\n",
      "Boeing 767-300 (76U)              0         1            1        1\n",
      "CRJ 700                           1         0            1        1\n",
      "CRJ 900                           1         0            1        1\n",
      "E170                              1         0            1        1\n",
      "E175                              1         0            1        1\n",
      "MD-88                             1         0            1        1\n",
      "MD-90                             1         0            1        1\n",
      "MD-DC9-50                         1         0            1        1\n"
     ]
    }
   ],
   "source": [
    "print(df.loc[clust0.index, cols_seat])"
   ]
  },
  {
   "cell_type": "markdown",
   "metadata": {
    "collapsed": true
   },
   "source": [
    "### Problem 3\n",
    "(No Unit Tests in this portion)"
   ]
  },
  {
   "cell_type": "markdown",
   "metadata": {},
   "source": [
    "Run DBSCAN on Iris.csv and compare/discuss the results with K-Means. Please submit your code and output, and write down 3-4 sentences that you observed from the results.\n",
    "\n",
    "\n",
    "Run DBSCAN on Reduced_Delta dataset and compare/discuss the results with K-Means. Please submit your code and output, and write down 3-4 sentences that you observed from the results.\n",
    "\n",
    "Run KMeans on movements.csv compare/discuss the results with DBSCAN and Hierarchical Clustering (Agglomerative). Please submit your code and output, and write down 3-4 sentences that you observed from the results\n"
   ]
  },
  {
   "cell_type": "code",
   "execution_count": 36,
   "metadata": {},
   "outputs": [
    {
     "name": "stdout",
     "output_type": "stream",
     "text": [
      "Estimated number of clusters: 2\n",
      "35\n"
     ]
    },
    {
     "data": {
      "text/plain": [
       "Text(0.5, 1.0, 'DBSCAN')"
      ]
     },
     "execution_count": 36,
     "metadata": {},
     "output_type": "execute_result"
    },
    {
     "data": {
      "image/png": "[encoded data removed]",
      "text/plain": [
       "<Figure size 432x288 with 1 Axes>"
      ]
     },
     "metadata": {
      "needs_background": "light"
     },
     "output_type": "display_data"
    }
   ],
   "source": [
    "#DBSCAN on Iris.csv\n",
    "from sklearn.cluster import DBSCAN\n",
    "dataset = pd.read_csv('Iris.csv')\n",
    "\n",
    "x = dataset.iloc[:, [1, 2, 3, 4]].values\n",
    "scaler = StandardScaler()\n",
    "X = scaler.fit_transform(x, y=None)\n",
    "dbsc = DBSCAN(eps = 0.5, min_samples = 5).fit(X)\n",
    "\n",
    "labels = dbsc.labels_\n",
    "\n",
    "core_samples = np.zeros_like(labels, dtype = bool)\n",
    "core_samples[dbsc.core_sample_indices_] = True\n",
    "\n",
    "n_clusters_ = len(set(labels)) - (1 if -1 in labels else 0)\n",
    "n_noise_ = list(labels).count(-1)\n",
    "print('Estimated number of clusters: %d' % n_clusters_)\n",
    "print(n_noise_)\n",
    "\n",
    "unique_labels = np.unique(labels)\n",
    "\n",
    "for label in unique_labels:\n",
    "    class_member_mask = (labels == label)\n",
    "    xy = X[class_member_mask & core_samples]\n",
    "    sns.scatterplot(xy[:,0],xy[:,1])\n",
    "    \n",
    "    xy2 = X[class_member_mask & ~core_samples]    \n",
    "    sns.scatterplot(xy2[:,0],xy2[:,1])\n",
    "plt.title(\"DBSCAN\")"
   ]
  },
  {
   "cell_type": "markdown",
   "metadata": {},
   "source": []
  },
  {
   "cell_type": "code",
   "execution_count": 39,
   "metadata": {},
   "outputs": [
    {
     "name": "stdout",
     "output_type": "stream",
     "text": [
      "Estimated number of clusters: 0\n",
      "44\n"
     ]
    },
    {
     "data": {
      "text/plain": [
       "Text(0.5, 1.0, 'DBSCAN')"
      ]
     },
     "execution_count": 39,
     "metadata": {},
     "output_type": "execute_result"
    },
    {
     "data": {
      "image/png": "[encoded data removed]",
      "text/plain": [
       "<Figure size 432x288 with 1 Axes>"
      ]
     },
     "metadata": {
      "needs_background": "light"
     },
     "output_type": "display_data"
    }
   ],
   "source": [
    "#DBSCAN on reduced\n",
    "scaler = StandardScaler()\n",
    "X = scaler.fit_transform(reduced, y=None)\n",
    "dbsc = DBSCAN(eps = 0.1, min_samples = 15).fit(X)\n",
    "labels = dbsc.labels_\n",
    "\n",
    "core_samples = np.zeros_like(labels, dtype = bool)\n",
    "core_samples[dbsc.core_sample_indices_] = True\n",
    "\n",
    "n_clusters_ = len(set(labels)) - (1 if -1 in labels else 0)\n",
    "n_noise_ = list(labels).count(-1)\n",
    "print('Estimated number of clusters: %d' % n_clusters_)\n",
    "print(n_noise_)\n",
    "\n",
    "\n",
    "unique_labels = np.unique(labels)\n",
    "\n",
    "for label in unique_labels:\n",
    "    class_member_mask = (labels == label)\n",
    "    xy = X[class_member_mask & core_samples]\n",
    "    sns.scatterplot(xy[:,0],xy[:,1])\n",
    "    \n",
    "    xy2 = X[class_member_mask & ~core_samples]    \n",
    "    sns.scatterplot(xy2[:,0],xy2[:,1])\n",
    "plt.title(\"DBSCAN\")"
   ]
  },
  {
   "cell_type": "markdown",
   "metadata": {},
   "source": []
  },
  {
   "cell_type": "code",
   "execution_count": 40,
   "metadata": {},
   "outputs": [
    {
     "data": {
      "image/png": "[encoded data removed]",
      "text/plain": [
       "<Figure size 432x288 with 1 Axes>"
      ]
     },
     "metadata": {
      "needs_background": "light"
     },
     "output_type": "display_data"
    }
   ],
   "source": [
    "movements = pd.read_csv('movements.csv',header=None, index_col=False, skiprows=1, usecols=range(1,964))\n",
    "from sklearn.preprocessing import normalize\n",
    "\n",
    "#movementss=movements.values\n",
    "#normalized_movements = normalize(movementss)\n",
    "\n",
    "scaler = StandardScaler()\n",
    "X = scaler.fit_transform(movements, y=None)\n",
    "\n",
    "wcss = []\n",
    "\n",
    "for i in range(1, 10):\n",
    "    kmeans = KMeans(n_clusters = i, init = 'k-means++',\n",
    "                    max_iter = 400, n_init = 10, random_state = 0)\n",
    "    kmeans.fit(X)\n",
    "    wcss.append(kmeans.inertia_)\n",
    "    \n",
    "#Plotting the results onto a line graph to observe 'The elbow'\n",
    "plt.plot(range(1, 10), wcss)\n",
    "plt.title('Elbow Method')\n",
    "plt.xlabel('Associate')\n",
    "plt.ylabel('WCSS') #within cluster sum of squares\n",
    "plt.show()"
   ]
  },
  {
   "cell_type": "code",
   "execution_count": 41,
   "metadata": {},
   "outputs": [
    {
     "data": {
      "text/plain": [
       "<matplotlib.collections.PathCollection at 0x2371436eb38>"
      ]
     },
     "execution_count": 41,
     "metadata": {},
     "output_type": "execute_result"
    },
    {
     "data": {
      "image/png": "[encoded data removed]",
      "text/plain": [
       "<Figure size 432x288 with 1 Axes>"
      ]
     },
     "metadata": {
      "needs_background": "light"
     },
     "output_type": "display_data"
    }
   ],
   "source": [
    "kmeans = KMeans(n_clusters = 7, init = 'k-means++', max_iter = 500, \n",
    "                n_init = 10, random_state = 0)\n",
    "y_kmeans = kmeans.fit_predict(X)\n",
    "\n",
    "for i in range(0,7):\n",
    "    sns.scatterplot(X[y_kmeans == i, 0], X[y_kmeans == i, 1])\n",
    "plt.scatter(kmeans.cluster_centers_[:, 0], \n",
    "            kmeans.cluster_centers_[:,1], s = 10, \n",
    "            c = 'yellow')\n",
    "#plt.legend()"
   ]
  },
  {
   "cell_type": "code",
   "execution_count": 42,
   "metadata": {
    "scrolled": true
   },
   "outputs": [
    {
     "name": "stdout",
     "output_type": "stream",
     "text": [
      "Estimated number of clusters: 0\n",
      "60\n"
     ]
    },
    {
     "data": {
      "text/plain": [
       "Text(0.5, 1.0, 'DBSCAN')"
      ]
     },
     "execution_count": 42,
     "metadata": {},
     "output_type": "execute_result"
    },
    {
     "data": {
      "image/png": "[encoded data removed]",
      "text/plain": [
       "<Figure size 432x288 with 1 Axes>"
      ]
     },
     "metadata": {
      "needs_background": "light"
     },
     "output_type": "display_data"
    }
   ],
   "source": [
    "#DBSCAN on movements\n",
    "\n",
    "dbsc = DBSCAN(eps = 0.00001, min_samples = 2).fit(X)\n",
    "labels = dbsc.labels_\n",
    "\n",
    "core_samples = np.zeros_like(labels, dtype = bool)\n",
    "core_samples[dbsc.core_sample_indices_] = True\n",
    "\n",
    "n_clusters_ = len(set(labels)) - (1 if -1 in labels else 0)\n",
    "n_noise_ = list(labels).count(-1)\n",
    "print('Estimated number of clusters: %d' % n_clusters_)\n",
    "print(n_noise_)\n",
    "\n",
    "\n",
    "unique_labels = np.unique(labels)\n",
    "\n",
    "for label in unique_labels:\n",
    "    class_member_mask = (labels == label)\n",
    "    xy = X[class_member_mask & core_samples]\n",
    "    sns.scatterplot(xy[:,0],xy[:,1])\n",
    "    \n",
    "    xy2 = X[class_member_mask & ~core_samples]    \n",
    "    sns.scatterplot(xy2[:,0],xy2[:,1])\n",
    "plt.title(\"DBSCAN\")"
   ]
  },
  {
   "cell_type": "markdown",
   "metadata": {},
   "source": [
    "### Problem 4"
   ]
  },
  {
   "cell_type": "code",
   "execution_count": 52,
   "metadata": {},
   "outputs": [
    {
     "data": {
      "image/png": "[encoded data removed]",
      "text/plain": [
       "<Figure size 432x288 with 1 Axes>"
      ]
     },
     "metadata": {
      "needs_background": "light"
     },
     "output_type": "display_data"
    }
   ],
   "source": [
    "\n",
    "seeds= df.iloc[:, [0,1, 2, 3, 4,5,6]].values\n",
    "varieties=pd.read_csv(\"delta.csv\", usecols=[8])\n",
    "labels=varieties.values\n",
    "result = labels[:, 0]\n",
    "from sklearn.manifold import TSNE\n",
    "\n",
    "model = TSNE(learning_rate=150)\n",
    "tsne_features = model.fit_transform(seeds)\n",
    "xs = tsne_features[:,0]\n",
    "ys = tsne_features[:,1]\n",
    "plt.scatter(xs, ys, c=result)\n",
    "plt.show()"
   ]
  },
  {
   "cell_type": "markdown",
   "metadata": {},
   "source": []
  },
  {
   "cell_type": "markdown",
   "metadata": {},
   "source": [
    "Apply t-SNE reduction to delta.csv file and compare/discuss the results with PCA. Please submit your code and output, and write down 3-4 sentences that you observed from the results."
   ]
  },
  {
   "cell_type": "markdown",
   "metadata": {},
   "source": [
    "### Problem 5 (Bonus)\n",
    "\n",
    "Apply Hiearchical Clustering to delta.csv and observe how physical features are being clustered in ealry leaves at the bottom. Please submit your code and dendrogram graph along with 1-2 sentences interpretation."
   ]
  },
  {
   "cell_type": "code",
   "execution_count": 73,
   "metadata": {},
   "outputs": [
    {
     "name": "stderr",
     "output_type": "stream",
     "text": [
      "c:\\program files\\python37\\lib\\site-packages\\sklearn\\preprocessing\\data.py:645: DataConversionWarning: Data with input dtype int64, float64 were all converted to float64 by StandardScaler.\n",
      "  return self.partial_fit(X, y)\n",
      "c:\\program files\\python37\\lib\\site-packages\\sklearn\\base.py:464: DataConversionWarning: Data with input dtype int64, float64 were all converted to float64 by StandardScaler.\n",
      "  return self.fit(X, **fit_params).transform(X)\n"
     ]
    },
    {
     "data": {
      "image/png": "[encoded data removed]",
      "text/plain": [
       "<Figure size 432x288 with 1 Axes>"
      ]
     },
     "metadata": {
      "needs_background": "light"
     },
     "output_type": "display_data"
    }
   ],
   "source": [
    "#Hiearchucal Clustering\n",
    "#standarize and normolize data\n",
    "from scipy.cluster.hierarchy import linkage, dendrogram\n",
    "df.shape\n",
    "from sklearn.preprocessing import normalize\n",
    "scaler = StandardScaler()\n",
    "X = scaler.fit_transform(df, y=None)\n",
    "dfs = normalize(X)\n",
    "\n",
    "mergings = linkage(dfs, method='complete')\n",
    "dendrogram(\n",
    "    mergings,\n",
    "    labels = list(df.index),\n",
    "    leaf_rotation=90,\n",
    "    leaf_font_size=8\n",
    ")\n",
    "\n",
    "\n",
    "#\"Your code here\"\n",
    "plt.show()"
   ]
  },
  {
   "cell_type": "markdown",
   "metadata": {},
   "source": [
    "Explaination:"
   ]
  },
  {
   "cell_type": "code",
   "execution_count": 88,
   "metadata": {},
   "outputs": [
    {
     "name": "stdout",
     "output_type": "stream",
     "text": [
      "Variance:  Projected dimension\n",
      "------------------------------\n",
      "41.1%:    -0.08 * Seat Width (Club) + -0.08 * Seat Pitch (Club) + -0.08 * Seat (Club) + -0.18 * Seat Width (First Class) + -0.17 * Seat Pitch (First Class) + -0.13 * Seats (First Class) +  0.22 * Seat Width (Business) +  0.23 * Seat Pitch (Business) +  0.24 * Seats (Business) +  0.13 * Seat Width (Eco Comfort) +  0.14 * Seat Pitch (Eco Comfort) +  0.25 * Seats (Eco Comfort) +  0.09 * Seat Width (Economy) +  0.08 * Seat Pitch (Economy) +  0.23 * Seats (Economy) +  0.24 * Accommodation +  0.13 * Cruising Speed (mph) +  0.25 * Range (miles) +  0.08 * Engines +  0.25 * Wingspan (ft) +  0.24 * Tail Height (ft) +  0.25 * Length (ft) + -0.16 * Wifi +  0.18 * Video +  0.20 * Power + -0.01 * Satellite +  0.20 * Flat-bed +  0.11 * Sleeper + -0.08 * Club + -0.18 * First Class +  0.22 * Business +  0.13 * Eco Comfort +  0.08 * Economy\n",
      "24.1%:     0.32 * Seat Width (Club) +  0.32 * Seat Pitch (Club) +  0.32 * Seat (Club) + -0.11 * Seat Width (First Class) + -0.10 * Seat Pitch (First Class) + -0.04 * Seats (First Class) +  0.18 * Seat Width (Business) +  0.16 * Seat Pitch (Business) +  0.12 * Seats (Business) + -0.19 * Seat Width (Eco Comfort) + -0.19 * Seat Pitch (Eco Comfort) + -0.05 * Seats (Eco Comfort) + -0.31 * Seat Width (Economy) + -0.32 * Seat Pitch (Economy) + -0.07 * Seats (Economy) + -0.03 * Accommodation + -0.00 * Cruising Speed (mph) +  0.07 * Range (miles) +  0.02 * Engines +  0.04 * Wingspan (ft) +  0.04 * Tail Height (ft) +  0.01 * Length (ft) + -0.09 * Wifi +  0.09 * Video + -0.01 * Power + -0.06 * Satellite +  0.06 * Flat-bed +  0.03 * Sleeper +  0.32 * Club + -0.10 * First Class +  0.17 * Business + -0.19 * Eco Comfort + -0.32 * Economy\n",
      "15.3%:    -0.14 * Seat Width (Club) + -0.14 * Seat Pitch (Club) + -0.14 * Seat (Club) + -0.30 * Seat Width (First Class) + -0.30 * Seat Pitch (First Class) + -0.32 * Seats (First Class) +  0.05 * Seat Width (Business) +  0.05 * Seat Pitch (Business) +  0.06 * Seats (Business) + -0.26 * Seat Width (Eco Comfort) + -0.26 * Seat Pitch (Eco Comfort) + -0.13 * Seats (Eco Comfort) +  0.15 * Seat Width (Economy) +  0.14 * Seat Pitch (Economy) + -0.12 * Seats (Economy) + -0.14 * Accommodation + -0.22 * Cruising Speed (mph) + -0.04 * Range (miles) + -0.02 * Engines + -0.12 * Wingspan (ft) + -0.16 * Tail Height (ft) + -0.12 * Length (ft) + -0.26 * Wifi + -0.15 * Video + -0.06 * Power + -0.14 * Satellite +  0.06 * Flat-bed +  0.03 * Sleeper + -0.14 * Club + -0.28 * First Class +  0.03 * Business + -0.27 * Eco Comfort +  0.14 * Economy\n",
      " 4.5%:     0.01 * Seat Width (Club) +  0.01 * Seat Pitch (Club) +  0.01 * Seat (Club) +  0.06 * Seat Width (First Class) +  0.01 * Seat Pitch (First Class) + -0.10 * Seats (First Class) + -0.01 * Seat Width (Business) +  0.06 * Seat Pitch (Business) +  0.12 * Seats (Business) +  0.05 * Seat Width (Eco Comfort) +  0.05 * Seat Pitch (Eco Comfort) + -0.03 * Seats (Eco Comfort) + -0.01 * Seat Width (Economy) + -0.01 * Seat Pitch (Economy) +  0.03 * Seats (Economy) +  0.03 * Accommodation +  0.25 * Cruising Speed (mph) +  0.00 * Range (miles) +  0.40 * Engines +  0.01 * Wingspan (ft) + -0.04 * Tail Height (ft) +  0.04 * Length (ft) +  0.00 * Wifi + -0.29 * Video + -0.31 * Power + -0.40 * Satellite +  0.37 * Flat-bed + -0.49 * Sleeper +  0.01 * Club +  0.12 * First Class + -0.09 * Business +  0.05 * Eco Comfort + -0.01 * Economy\n",
      " 4.0%:    -0.02 * Seat Width (Club) + -0.02 * Seat Pitch (Club) + -0.02 * Seat (Club) + -0.03 * Seat Width (First Class) + -0.05 * Seat Pitch (First Class) +  0.09 * Seats (First Class) + -0.11 * Seat Width (Business) + -0.10 * Seat Pitch (Business) + -0.02 * Seats (Business) + -0.22 * Seat Width (Eco Comfort) + -0.21 * Seat Pitch (Eco Comfort) + -0.01 * Seats (Eco Comfort) + -0.01 * Seat Width (Economy) +  0.01 * Seat Pitch (Economy) +  0.20 * Seats (Economy) +  0.14 * Accommodation + -0.12 * Cruising Speed (mph) + -0.03 * Range (miles) +  0.31 * Engines +  0.05 * Wingspan (ft) +  0.06 * Tail Height (ft) +  0.02 * Length (ft) + -0.01 * Wifi +  0.21 * Video +  0.18 * Power +  0.57 * Satellite +  0.15 * Flat-bed + -0.45 * Sleeper + -0.02 * Club +  0.01 * First Class + -0.15 * Business + -0.20 * Eco Comfort +  0.02 * Economy\n",
      " 3.2%:    -0.02 * Seat Width (Club) + -0.02 * Seat Pitch (Club) + -0.02 * Seat (Club) +  0.05 * Seat Width (First Class) +  0.14 * Seat Pitch (First Class) +  0.31 * Seats (First Class) + -0.19 * Seat Width (Business) + -0.14 * Seat Pitch (Business) + -0.13 * Seats (Business) + -0.19 * Seat Width (Eco Comfort) + -0.17 * Seat Pitch (Eco Comfort) +  0.05 * Seats (Eco Comfort) + -0.01 * Seat Width (Economy) +  0.02 * Seat Pitch (Economy) +  0.24 * Seats (Economy) +  0.22 * Accommodation + -0.06 * Cruising Speed (mph) +  0.05 * Range (miles) +  0.40 * Engines +  0.11 * Wingspan (ft) +  0.09 * Tail Height (ft) +  0.17 * Length (ft) + -0.24 * Wifi +  0.01 * Video + -0.21 * Power + -0.31 * Satellite + -0.24 * Flat-bed +  0.35 * Sleeper + -0.02 * Club + -0.07 * First Class + -0.05 * Business + -0.18 * Eco Comfort +  0.02 * Economy\n",
      " 2.4%:     0.00 * Seat Width (Club) +  0.00 * Seat Pitch (Club) +  0.00 * Seat (Club) + -0.07 * Seat Width (First Class) + -0.11 * Seat Pitch (First Class) + -0.28 * Seats (First Class) +  0.10 * Seat Width (Business) +  0.04 * Seat Pitch (Business) +  0.06 * Seats (Business) +  0.05 * Seat Width (Eco Comfort) +  0.05 * Seat Pitch (Eco Comfort) + -0.01 * Seats (Eco Comfort) + -0.05 * Seat Width (Economy) + -0.04 * Seat Pitch (Economy) + -0.03 * Seats (Economy) + -0.05 * Accommodation +  0.28 * Cruising Speed (mph) + -0.18 * Range (miles) +  0.62 * Engines + -0.12 * Wingspan (ft) + -0.13 * Tail Height (ft) + -0.12 * Length (ft) +  0.26 * Wifi + -0.13 * Video +  0.14 * Power +  0.22 * Satellite + -0.30 * Flat-bed +  0.30 * Sleeper +  0.00 * Club + -0.01 * First Class +  0.05 * Business +  0.07 * Eco Comfort + -0.00 * Economy\n",
      " 1.5%:     0.05 * Seat Width (Club) +  0.05 * Seat Pitch (Club) +  0.05 * Seat (Club) +  0.03 * Seat Width (First Class) +  0.03 * Seat Pitch (First Class) +  0.00 * Seats (First Class) +  0.07 * Seat Width (Business) +  0.08 * Seat Pitch (Business) +  0.03 * Seats (Business) +  0.14 * Seat Width (Eco Comfort) +  0.13 * Seat Pitch (Eco Comfort) +  0.06 * Seats (Eco Comfort) +  0.01 * Seat Width (Economy) + -0.03 * Seat Pitch (Economy) +  0.08 * Seats (Economy) +  0.08 * Accommodation + -0.80 * Cruising Speed (mph) + -0.16 * Range (miles) +  0.21 * Engines + -0.03 * Wingspan (ft) + -0.10 * Tail Height (ft) +  0.07 * Length (ft) +  0.14 * Wifi + -0.17 * Video +  0.29 * Power + -0.19 * Satellite +  0.08 * Flat-bed + -0.02 * Sleeper +  0.05 * Club +  0.06 * First Class +  0.05 * Business +  0.13 * Eco Comfort + -0.05 * Economy\n",
      " 1.1%:    -0.01 * Seat Width (Club) + -0.01 * Seat Pitch (Club) + -0.01 * Seat (Club) +  0.13 * Seat Width (First Class) +  0.32 * Seat Pitch (First Class) +  0.14 * Seats (First Class) + -0.14 * Seat Width (Business) + -0.04 * Seat Pitch (Business) + -0.05 * Seats (Business) +  0.06 * Seat Width (Eco Comfort) +  0.05 * Seat Pitch (Eco Comfort) +  0.02 * Seats (Eco Comfort) +  0.04 * Seat Width (Economy) +  0.01 * Seat Pitch (Economy) + -0.35 * Seats (Economy) + -0.27 * Accommodation +  0.07 * Cruising Speed (mph) +  0.23 * Range (miles) +  0.28 * Engines + -0.17 * Wingspan (ft) + -0.11 * Tail Height (ft) + -0.19 * Length (ft) + -0.34 * Wifi +  0.18 * Video +  0.38 * Power + -0.06 * Satellite +  0.28 * Flat-bed +  0.05 * Sleeper + -0.01 * Club + -0.14 * First Class +  0.16 * Business +  0.04 * Eco Comfort +  0.01 * Economy\n",
      " 0.9%:     0.04 * Seat Width (Club) +  0.04 * Seat Pitch (Club) +  0.04 * Seat (Club) + -0.01 * Seat Width (First Class) +  0.05 * Seat Pitch (First Class) +  0.07 * Seats (First Class) + -0.11 * Seat Width (Business) + -0.07 * Seat Pitch (Business) + -0.04 * Seats (Business) + -0.06 * Seat Width (Eco Comfort) + -0.14 * Seat Pitch (Eco Comfort) + -0.09 * Seats (Eco Comfort) +  0.08 * Seat Width (Economy) + -0.02 * Seat Pitch (Economy) +  0.14 * Seats (Economy) +  0.11 * Accommodation +  0.30 * Cruising Speed (mph) + -0.14 * Range (miles) + -0.21 * Engines +  0.09 * Wingspan (ft) + -0.11 * Tail Height (ft) +  0.24 * Length (ft) + -0.05 * Wifi + -0.53 * Video +  0.60 * Power + -0.07 * Satellite +  0.05 * Flat-bed +  0.01 * Sleeper +  0.04 * Club + -0.04 * First Class + -0.03 * Business + -0.13 * Eco Comfort + -0.04 * Economy\n"
     ]
    }
   ],
   "source": [
    "\n",
    "#labels = np.array([i//50 for i in range(iris.shape[0])])\n",
    "\n",
    "  \n",
    "# Principal Component Analysis\n",
    "from sklearn.decomposition import PCA\n",
    "\n",
    "\n",
    "# We can print out rotation matrix and variance associated with each\n",
    "# projected dimension\n",
    "\n",
    "vars = pca.explained_variance_ratio_\n",
    "c_names = ['SepalLength', 'SepalWidth', 'PetalLength', 'PetalWidth']\n",
    "\n",
    "print('Variance:  Projected dimension')\n",
    "print('------------------------------')\n",
    "for idx, row in enumerate(pca.components_):\n",
    "    output = '{0:4.1f}%:    '.format(100.0 * vars[idx])\n",
    "    output += \" + \".join(\"{0:5.2f} * {1:s}\".format(val, name) \\\n",
    "                      for val, name in zip(row,list(df) ))\n",
    "    print(output)"
   ]
  },
  {
   "cell_type": "code",
   "execution_count": null,
   "metadata": {},
   "outputs": [],
   "source": []
  },
  {
   "cell_type": "code",
   "execution_count": null,
   "metadata": {},
   "outputs": [],
   "source": []
  }
 ],
 "metadata": {
  "kernelspec": {
   "display_name": "Python 3",
   "language": "python",
   "name": "python3"
  },
  "language_info": {
   "codemirror_mode": {
    "name": "ipython",
    "version": 3
   },
   "file_extension": ".py",
   "mimetype": "text/x-python",
   "name": "python",
   "nbconvert_exporter": "python",
   "pygments_lexer": "ipython3",
   "version": "3.6.5"
  }
 },
 "nbformat": 4,
 "nbformat_minor": 2
}
